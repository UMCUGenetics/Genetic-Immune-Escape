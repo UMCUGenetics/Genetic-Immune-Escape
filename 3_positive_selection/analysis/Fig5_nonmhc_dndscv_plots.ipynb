{
 "cells": [
  {
   "cell_type": "code",
   "execution_count": 1,
   "metadata": {},
   "outputs": [],
   "source": [
    "import glob\n",
    "import os\n",
    "import pandas as pd\n",
    "import numpy as np\n",
    "import tqdm as tqdm\n",
    "import matplotlib.pyplot as plt\n",
    "import seaborn as sns"
   ]
  },
  {
   "cell_type": "markdown",
   "metadata": {},
   "source": [
    "### Analysis of global dsdncv in immuno genes, non HLA-I genes, Hartwig"
   ]
  },
  {
   "cell_type": "code",
   "execution_count": null,
   "metadata": {},
   "outputs": [],
   "source": [
    "output_hartwig=\"/home/fran/Documents/cuppen/HPC/tunnel/cuppen/projects/P0020_genetics_immune_escape/large_scale_primary_met/processed/hmf/positive_selection/dndscv/\""
   ]
  },
  {
   "cell_type": "code",
   "execution_count": 3,
   "metadata": {},
   "outputs": [],
   "source": [
    "l,l1=[], []\n",
    "for filein in glob.glob(f\"{output_hartwig}/pancancer.dndscv.target_nohla.tsv.gz\"):\n",
    "    ttype = os.path.basename(filein).split(\".\")[0]\n",
    "    df = pd.read_csv(filein,sep=\"\\t\")\n",
    "    df[\"ttype\"] = ttype\n",
    "    l.append(df)\n",
    "df_immuno_met = pd.concat(l)\n",
    "df_immuno_met.set_index(\"ttype\",inplace=True)\n"
   ]
  },
  {
   "cell_type": "code",
   "execution_count": 4,
   "metadata": {
    "jupyter": {
     "source_hidden": true
    }
   },
   "outputs": [],
   "source": [
    "colors={\"wmis\":\"#e41a1c\",\"wnon\":\"#377eb8\",\"wspl\":\"#377eb8\",\"wall\":\"#4daf4a\",\"wtru\":\"#984ea3\"}\n",
    "def get_coordinates(keys):\n",
    "    y_total,cis_total,ci_u, i_x, cs =  [], [] , [], [], []\n",
    "    i=0\n",
    "    labels=[]\n",
    "    for ttype in set(df_immuno_met.index):\n",
    "        data = df_immuno_met.loc[ttype]\n",
    "        # wmis\n",
    "        vs,cis=[],[]\n",
    "        for key in keys:\n",
    "            v,l,h=data[data[\"name\"]==key][[\"mle\",\"cilow\",\"cihigh\"]].values.tolist()[0]\n",
    "            cs.append(colors[key])\n",
    "            vs.append(v)\n",
    "            cis.append([v-l,np.nanmin([h-v,20])])\n",
    "            i_x.append(i)\n",
    "            i+=1\n",
    "        i+=5\n",
    "        labels+=[ttype]\n",
    "        y_total+=vs\n",
    "        cis_total+=cis\n",
    "    return y_total,cis_total,i_x,labels\n",
    "\n",
    "\n",
    "def plot_ci_ratios(gene,df_ci,cohort):\n",
    "    fig,ax = plt.subplots(figsize=(1.5,2))\n",
    "    colors={\"missense_variant/inframe_variant\":\"#66c2a5\",\"truncating_variant\":\"#fc8d62\",\"splice_variant\":\"#8da0cb\"}\n",
    "    mles=df_ci[df_ci[\"gene\"]==gene][[\"mis_mle\",\"tru_mle\"]].values.tolist()[0]\n",
    "    cis_total=[[mles[0] - float(df_ci[df_ci[\"gene\"]==gene][\"mis_low\"]),float(df_ci[df_ci[\"gene\"]==gene][\"mis_high\"]) - mles[0]],[mles[1] - float(df_ci[df_ci[\"gene\"]==gene][\"tru_low\"]),float(df_ci[df_ci[\"gene\"]==gene][\"tru_high\"]) - mles[1]]]\n",
    "    ax.errorbar(x=0,y=mles[0],ecolor=colors[\"missense_variant/inframe_variant\"],c= colors[\"missense_variant/inframe_variant\"],capthick=3,fmt='o',elinewidth=1.9,markersize=10,yerr=np.array(cis_total[0:1]).T,markeredgecolor=\"black\")\n",
    "    ax.errorbar(x=1,y=mles[1],ecolor=colors[\"truncating_variant\"],c=colors[\"truncating_variant\"], capthick=3,fmt='o',elinewidth=1.9,markersize=10, yerr=np.array(cis_total[1:2]).T,markeredgecolor=\"black\")\n",
    "    _=ax.set_xticks([0,1])\n",
    "\n",
    "    ax.axhline(y=1,ls=\"--\",color=\"black\")\n",
    "\n",
    "    #ax.set_ylim(0,20)\n",
    "    ax.set_title(gene,fontsize=12)\n",
    "\n",
    "    ax.set_ylabel(\"dNdS ratio\",fontsize=12)\n",
    "\n",
    "    ax.spines['top'].set_visible(False)\n",
    "    ax.spines['right'].set_visible(False)\n",
    "\n",
    "\n",
    "\n",
    "    ax.set_xlim(-.25,1.25)\n",
    "    maxv=list(df_ci[df_ci[\"gene\"]==gene][\"mis_high\"].values)+list(df_ci[df_ci[\"gene\"]==gene][\"tru_high\"].values)\n",
    "    ax.set_ylim(-0.5,int(np.nanmax(maxv))+1)\n",
    "    ax.set_xticklabels([\"missense\",\"truncating\"],rotation=90)\n",
    "    ax.tick_params(axis='both', which='major', labelsize=12)\n",
    "    plt.savefig(f'../results/figures/figure5/ci_excess_{gene}_{cohort}.pdf', dpi=800,bbox_inches=\"tight\")\n"
   ]
  },
  {
   "cell_type": "markdown",
   "metadata": {},
   "source": [
    "### Analysis of global dsdncv in immuno genes, non HLA-I genes, PCAWG"
   ]
  },
  {
   "cell_type": "code",
   "execution_count": null,
   "metadata": {},
   "outputs": [],
   "source": [
    "output_pcawg=\"/home/fran/Documents/cuppen/HPC/tunnel/cuppen/projects/P0020_genetics_immune_escape/large_scale_primary_met/processed/pcawg/positive_selection/dndscv/\""
   ]
  },
  {
   "cell_type": "code",
   "execution_count": 5,
   "metadata": {},
   "outputs": [],
   "source": [
    "l,l1=[], []\n",
    "for filein in glob.glob(f\"{output_pcawg}/pancancer.dndscv.target_nohla.tsv.gz\"):\n",
    "    ttype = os.path.basename(filein).split(\".\")[0]\n",
    "    df = pd.read_csv(filein,sep=\"\\t\")\n",
    "    df[\"ttype\"] = ttype\n",
    "    l.append(df)\n",
    "df_immuno_primary = pd.concat(l)\n",
    "df_immuno_primary.set_index(\"ttype\",inplace=True)"
   ]
  },
  {
   "cell_type": "markdown",
   "metadata": {},
   "source": [
    "### Prepare it"
   ]
  },
  {
   "cell_type": "code",
   "execution_count": 6,
   "metadata": {},
   "outputs": [],
   "source": [
    "pallete = {\"wt\":\"#ef8a62\",\"alteration\":\"#67a9cf\",\"alteration_primary\":\"#7570b3\"}\n",
    "order = list(df_immuno_met.loc[\"pancancer\"][\"name\"].values)\n",
    "met=df_immuno_met.loc[\"pancancer\"].set_index(\"name\")\n",
    "primary=df_immuno_primary.loc[\"pancancer\"].set_index(\"name\")\n",
    "i_x,y_total,cis_total,colors = [], [] , [], []\n",
    "base=0\n",
    "for o in order:\n",
    "    i_x+=[base,base+1]\n",
    "    base+=3\n",
    "    v_met,v_primary = met.loc[o][\"mle\"],primary.loc[o][\"mle\"]\n",
    "    cis_met = [v_met - met.loc[o][\"cilow\"],met.loc[o][\"cihigh\"] - v_met ]\n",
    "    cis_primary = [v_primary - primary.loc[o][\"cilow\"],primary.loc[o][\"cihigh\"] - v_primary ]\n",
    "    y_total+=[v_met,v_primary]\n",
    "    cis_total+=[cis_met,cis_primary]\n",
    "    colors+=[\"#998ec3\",\"#f1a340\"]\n",
    "\n",
    "    \n"
   ]
  },
  {
   "cell_type": "markdown",
   "metadata": {},
   "source": [
    "### Visualize Hartwig, met"
   ]
  },
  {
   "cell_type": "code",
   "execution_count": 10,
   "metadata": {},
   "outputs": [
    {
     "data": {
      "image/png": "[encoded data removed]",
      "text/plain": [
       "<Figure size 216x360 with 1 Axes>"
      ]
     },
     "metadata": {
      "needs_background": "light"
     },
     "output_type": "display_data"
    }
   ],
   "source": [
    "fig,ax = plt.subplots(figsize=(3,5))\n",
    "ax.errorbar(x=i_x[0::2],y=y_total[0::2],ecolor=pallete[\"alteration\"], capthick=3,fmt='o',elinewidth=1.9,markersize=12,c=pallete[\"alteration\"] , yerr=np.array(cis_total[0::2]).T,markeredgecolor=\"black\")\n",
    "\n",
    "_=ax.set_xticks(i_x[0::2])\n",
    "\n",
    "ax.axhline(y=1,ls=\"--\",color=\"black\")\n",
    "\n",
    "#ax.set_ylim(0,20)\n",
    "ax.set_title(\"Non MHC-I genes (N=16)\",fontsize=14)\n",
    "\n",
    "ax.set_ylabel(\"dN/dS ratio\",fontsize=14)\n",
    "\n",
    "ax.spines['top'].set_visible(False)\n",
    "ax.spines['right'].set_visible(False)\n",
    "\n",
    "_=ax.set_yticks(range(0,4,1))\n",
    "\n",
    "ax.set_xlim(-1,14)\n",
    "\n",
    "ax.set_xticklabels([\"missense\",\"nonsense\",\"splice\",\"truncating\",\"all\"],rotation=90)\n",
    "\n",
    "markers = [plt.Line2D([0,0],[0,0],color=colors[0], marker='o', linestyle=''),plt.Line2D([0,0],[0,0],color=colors[1], marker='o', linestyle=''), ]\n",
    "ax.tick_params(axis='both', which='major', labelsize=12)\n",
    "\n",
    "plt.savefig(f'../results/figures/figure5/dndscv_global_met_nonhla.pdf', dpi=800,bbox_inches=\"tight\")"
   ]
  },
  {
   "cell_type": "markdown",
   "metadata": {},
   "source": [
    "### Visualize PCAWG, primary"
   ]
  },
  {
   "cell_type": "code",
   "execution_count": 9,
   "metadata": {},
   "outputs": [
    {
     "data": {
      "image/png": "[encoded data removed]",
      "text/plain": [
       "<Figure size 216x360 with 1 Axes>"
      ]
     },
     "metadata": {
      "needs_background": "light"
     },
     "output_type": "display_data"
    }
   ],
   "source": [
    "fig,ax = plt.subplots(figsize=(3,5))\n",
    "ax.errorbar(x=i_x[1::2],y=y_total[1::2],ecolor=pallete[\"alteration_primary\"], capthick=3,fmt='o',elinewidth=1.9,markersize=12,c=pallete[\"alteration_primary\"], yerr=np.array(cis_total[1::2]).T,markeredgecolor=\"black\")\n",
    "\n",
    "_=ax.set_xticks(i_x[1::2])\n",
    "\n",
    "ax.axhline(y=1,ls=\"--\",color=\"black\")\n",
    "\n",
    "#ax.set_ylim(0,20)\n",
    "ax.set_title(\"Non MHC-I genes (N=16)\",fontsize=14)\n",
    "\n",
    "ax.set_ylabel(\"dN/dS ratio\",fontsize=14)\n",
    "\n",
    "ax.spines['top'].set_visible(False)\n",
    "ax.spines['right'].set_visible(False)\n",
    "\n",
    "_=ax.set_yticks(range(0,6,1))\n",
    "\n",
    "ax.set_xlim(-1,14)\n",
    "ax.set_ylim(-0.5,5)\n",
    "\n",
    "ax.set_xticklabels([\"missense\",\"nonsense\",\"splice\",\"truncating\",\"all\"],rotation=90)\n",
    "\n",
    "markers = [plt.Line2D([0,0],[0,0],color=colors[0], marker='o', linestyle=''),plt.Line2D([0,0],[0,0],color=colors[1], marker='o', linestyle=''), ]\n",
    "ax.tick_params(axis='both', which='major', labelsize=12)\n",
    "\n",
    "plt.savefig(f'../results/figures/figure5/dndscv_global_primary_nonhla.pdf', dpi=800,bbox_inches=\"tight\")"
   ]
  }
 ],
 "metadata": {
  "kernelspec": {
   "display_name": "Python 3",
   "language": "python",
   "name": "python3"
  },
  "language_info": {
   "codemirror_mode": {
    "name": "ipython",
    "version": 3
   },
   "file_extension": ".py",
   "mimetype": "text/x-python",
   "name": "python",
   "nbconvert_exporter": "python",
   "pygments_lexer": "ipython3",
   "version": "3.6.9"
  },
  "widgets": {
   "application/vnd.jupyter.widget-state+json": {
    "state": {},
    "version_major": 2,
    "version_minor": 0
   }
  }
 },
 "nbformat": 4,
 "nbformat_minor": 4
}
