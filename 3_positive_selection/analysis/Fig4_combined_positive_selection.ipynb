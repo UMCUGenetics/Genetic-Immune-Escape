{
 "cells": [
  {
   "cell_type": "code",
   "execution_count": 1,
   "id": "61dc08d8",
   "metadata": {},
   "outputs": [],
   "source": [
    "import glob\n",
    "import os\n",
    "import pandas as pd\n",
    "import numpy as np\n",
    "import tqdm as tqdm\n",
    "import itertools\n",
    "\n",
    "from matplotlib import gridspec\n",
    "import matplotlib.pyplot as plt\n",
    "import seaborn as sns"
   ]
  },
  {
   "cell_type": "markdown",
   "id": "3c2433ec",
   "metadata": {},
   "source": [
    "# Positive selection of HLA-I genes across cancer types"
   ]
  },
  {
   "cell_type": "code",
   "execution_count": 2,
   "id": "0024fc32",
   "metadata": {},
   "outputs": [],
   "source": [
    "df_mut_hmf = pd.read_csv(\"../../results/data/MUT_positive_selection_HMF.tsv\",sep=\"\\t\") # Parsed using the parse_dNdScv.ipynb\n",
    "df_mut_hmf[\"n_obs\"] = df_mut_hmf[\"n_mis\"] +  df_mut_hmf[\"n_non\"] +  df_mut_hmf[\"n_spl\"] +  df_mut_hmf[\"n_ind\"] \n",
    "df_mut_pcawg = pd.read_csv(\"../../results/data/MUT_positive_selection_PCAWG.tsv\",sep=\"\\t\") # Parsed using the parse_dNdScv.ipynb\n",
    "df_mut_pcawg[\"n_obs\"] = df_mut_pcawg[\"n_mis\"] +  df_mut_pcawg[\"n_non\"] +  df_mut_pcawg[\"n_spl\"] +  df_mut_pcawg[\"n_ind\"] \n",
    "\n",
    "df_cnv_hmf = pd.read_csv(\"../../results/data/CNV_positive_selection_HMF.tsv\",sep=\"\\t\") # Parsed using the parse_CNVs.ipynb\n",
    "df_cnv_pcawg = pd.read_csv(\"../../results/data/CNV_positive_selection_PCAWG.tsv\",sep=\"\\t\") # Parsed using the parse_CNVs.ipynb\n",
    "\n",
    "df_total = pd.read_csv(\"../metadata/dataset_metadata_supp_table3.tsv\",sep=\"\\t\") # Metadata"
   ]
  },
  {
   "cell_type": "code",
   "execution_count": 3,
   "id": "846a356c",
   "metadata": {},
   "outputs": [],
   "source": [
    "# hartwig\n",
    "muts=df_mut_hmf[[\"gene_name\",\"qglobal_cv\",\"ttype\",\"n_obs\"]].rename(columns={\"qglobal_cv\":\"qvalue\"})\n",
    "muts[\"type_alteration\"] = \"mutation\"\n",
    "cnv=df_cnv_hmf[[\"gene\",\"ttype\",\"q_value_ana_global\",\"type_alteration\",\"n_obs\"]].rename(columns={\"gene\":\"gene_name\",\"q_value_ana_global\":\"qvalue\"})\n",
    "df_hmf=pd.concat([muts,cnv])\n",
    "# pcawg\n",
    "muts=df_mut_pcawg[[\"gene_name\",\"qglobal_cv\",\"ttype\",\"n_obs\"]].rename(columns={\"qglobal_cv\":\"qvalue\"})\n",
    "muts[\"type_alteration\"] = \"mutation\"\n",
    "cnv=df_cnv_pcawg[[\"gene\",\"ttype\",\"q_value_ana_global\",\"type_alteration\",\"n_obs\"]].rename(columns={\"gene\":\"gene_name\",\"q_value_ana_global\":\"qvalue\"})\n",
    "df_pcawg=pd.concat([muts,cnv])\n"
   ]
  },
  {
   "cell_type": "markdown",
   "id": "1559da7a",
   "metadata": {},
   "source": [
    "# MHC-I alterations"
   ]
  },
  {
   "cell_type": "code",
   "execution_count": 4,
   "id": "37341cfa",
   "metadata": {},
   "outputs": [],
   "source": [
    "genes = [\"HLA-A\",\"HLA-B\",\"HLA-C\"]\n",
    "order=sorted(list(set(df_hmf[df_hmf[\"gene_name\"].isin(genes)][\"ttype\"].values)))\n",
    "alterations = [\"mutation\",\"loh\",\"deepdel\",\"amp\"]"
   ]
  },
  {
   "cell_type": "markdown",
   "id": "17e3a8fb",
   "metadata": {},
   "source": [
    "### Hartwig"
   ]
  },
  {
   "cell_type": "code",
   "execution_count": 5,
   "id": "ae1d548b",
   "metadata": {},
   "outputs": [],
   "source": [
    "pivot=df_hmf.pivot_table(index=[\"ttype\",\"type_alteration\"],columns=\"gene_name\",values=[\"qvalue\",\"n_obs\"])\n",
    "counts = df_total[(df_total[\"is_selected\"]==True)&(df_total[\"cohort\"]==\"HMF\")][\"cancer_type\"].value_counts()\n",
    "counts[\"pancancer\"] = df_total[(df_total[\"is_selected\"]==True)&(df_total[\"cohort\"]==\"HMF\")].shape[0]\n",
    "codes=df_total[(df_total[\"is_selected\"]==True)][[\"cancer_type\",\"cancer_type_code\"]].drop_duplicates().set_index(\"cancer_type\").to_dict()[\"cancer_type_code\"]\n",
    "codes[\"pancancer\"] = \"PANCAN\"\n",
    "d_colors = {\"loh\": \"#a8ddb5\", \"deepdel\": \"#43a2ca\", \"amp\": \"#de2d26\",\"mutation\":\"grey\"}"
   ]
  },
  {
   "cell_type": "code",
   "execution_count": 6,
   "id": "1d9ad9a6",
   "metadata": {},
   "outputs": [],
   "source": [
    "markers={\"mutation\":\"o\",\"loh\":\"s\",\"deepdel\":\"X\",\"amp\":\"P\"}\n",
    "offset_x={\"mutation\":0,\"loh\":0,\"deepdel\":0,\"amp\":0}\n",
    "offset_y={\"mutation\":0,\"loh\":0,\"deepdel\":0,\"amp\":0}\n",
    "def get_lw(df,ttype,talt,gene):\n",
    "    if talt==\"mutation\":\n",
    "        return 0.5\n",
    "    q=df[(df[\"ttype\"]==ttype)&(df[\"type_alteration\"]==talt)&(df[\"gene\"]==gene)]\n",
    "    if q.shape[0] == 0:\n",
    "        return 0\n",
    "    for v in str(q[\"focal\"].values[0]).split(\",\"):\n",
    "        if \"hfocal\" == v:\n",
    "            return 2\n",
    "        if \"focal\" ==  v:\n",
    "            return 0.75\n",
    "    return 0"
   ]
  },
  {
   "cell_type": "markdown",
   "id": "7c0ba83a",
   "metadata": {},
   "source": [
    "### Plot"
   ]
  },
  {
   "cell_type": "code",
   "execution_count": 7,
   "id": "6cefce9b",
   "metadata": {},
   "outputs": [
    {
     "data": {
      "image/png": "[encoded data removed]",
      "text/plain": [
       "<Figure size 360x108 with 3 Axes>"
      ]
     },
     "metadata": {
      "needs_background": "light"
     },
     "output_type": "display_data"
    }
   ],
   "source": [
    "N=len(order)\n",
    "fig,ax=plt.subplots(figsize=(N*1,len(genes)/2))\n",
    "\n",
    "gs = gridspec.GridSpec(ncols=1,nrows=len(genes),wspace=0.0)\n",
    "axis=[]\n",
    "for j, gene in enumerate(genes):\n",
    "    ax = plt.subplot(gs[j]) \n",
    "    ax.get_xaxis().set_visible(False)\n",
    "    for i,ttype_s in enumerate(order):\n",
    "        ttype_s=order[i]\n",
    "        for k,talt in enumerate([\"loh\",\"mutation\",\"deepdel\",\"amp\"]):\n",
    "            marker=markers[talt]\n",
    "            if (ttype_s,talt) in pivot.index:\n",
    "                qvalues=-np.log10([10**-20 +x for x in  pivot.loc[(ttype_s,talt)][list(itertools.product([\"qvalue\"],[gene]))].values])\n",
    "                colors=d_colors[talt]\n",
    "                sizes=[s**1.3+100 if np.isfinite(s) else 0 for s in pivot.loc[(ttype_s,talt)][list(itertools.product([\"n_obs\"],[gene]))].values]\n",
    "                lw=[get_lw(df_cnv_hmf,ttype_s,talt,g) for g in [gene] ]\n",
    "                edgecolors=\"black\"\n",
    "                ax.scatter(x=[i for x in range(0,len(qvalues))],y=[0 for x in range(0,len(qvalues))],s=sizes,color=colors,edgecolors=edgecolors,linewidths=lw,clip_on=False,marker=marker)\n",
    "    ax.spines[\"top\"].set_visible(False)\n",
    "    ax.spines[\"left\"].set_visible(False)\n",
    "    ax.spines[\"right\"].set_visible(False)\n",
    "    ax.spines[\"bottom\"].set_visible(False)\n",
    "    ax.set_xticks([])\n",
    "    ax.axhline(y=0,xmin=0.05,xmax=1.1,color=\"#C0C0C0\",lw=0.55,alpha=0.5)\n",
    "    ax.set_ylabel(gene,fontsize=12,rotation=0)\n",
    "    #ax.set_ylabel(,fontsize=12,rotation=0,verticalalignment=\"center\", labelpad=100)\n",
    "    ax.set_yticks([])\n",
    "    ax.set_xlabel(\"\")\n",
    "    \n",
    "    axis.append(ax)\n",
    "\n",
    "ax.spines[\"top\"].set_visible(False)\n",
    "ax.spines[\"left\"].set_visible(False)\n",
    "ax.spines[\"right\"].set_visible(False)\n",
    "ax.spines[\"bottom\"].set_visible(False)\n",
    "ax.get_xaxis().set_visible(True)\n",
    "ax.set_xticks(list(range(0,len(order))))\n",
    "ax.set_xticklabels([ttype_s.replace(\"__\",\" \") + \"\\n (\"+codes[ttype_s.replace(\"__\",\" \")]+\")\" for ttype_s in order],rotation=90)\n",
    "ax.tick_params(axis = 'both', labelsize =14  , pad=0.15,width=0.15, length = 1.5)\n",
    "axis[0].set_title(\"Recurrence based positive selection, MHC-I, Hartwig\",fontsize=14)\n",
    "\n",
    "plt.savefig(\"../results/figures/figure3/positive_selection_hmf_mhcI.pdf\", dpi=800,bbox_inches=\"tight\")\n",
    "plt.show()\n"
   ]
  },
  {
   "cell_type": "markdown",
   "id": "dc170bd3",
   "metadata": {},
   "source": [
    "# PCAWG"
   ]
  },
  {
   "cell_type": "code",
   "execution_count": 8,
   "id": "3cd80431",
   "metadata": {},
   "outputs": [],
   "source": [
    "genes = [\"HLA-A\",\"HLA-B\",\"HLA-C\"]\n",
    "order=sorted(list(set(df_pcawg[df_pcawg[\"gene_name\"].isin(genes)][\"ttype\"].values)))\n",
    "alterations = [\"mutation\",\"loh\",\"deepdel\",\"amp\"]"
   ]
  },
  {
   "cell_type": "code",
   "execution_count": 9,
   "id": "da8f1bca",
   "metadata": {},
   "outputs": [
    {
     "data": {
      "text/plain": [
       "['Diffuse__large__B-cell__lymphoma',\n",
       " 'Kidney__chromophobe__cancer',\n",
       " 'Pancreas__neuroendocrine',\n",
       " 'pancancer']"
      ]
     },
     "execution_count": 9,
     "metadata": {},
     "output_type": "execute_result"
    }
   ],
   "source": [
    "order"
   ]
  },
  {
   "cell_type": "code",
   "execution_count": 10,
   "id": "e33fd68d",
   "metadata": {},
   "outputs": [],
   "source": [
    "pivot=df_pcawg.pivot_table(index=[\"ttype\",\"type_alteration\"],columns=\"gene_name\",values=[\"qvalue\",\"n_obs\"])\n",
    "counts = df_total[(df_total[\"is_selected\"]==True)&(df_total[\"cohort\"]==\"PCAWG\")][\"cancer_type\"].value_counts()\n",
    "counts[\"pancancer\"] = df_total[(df_total[\"is_selected\"]==True)&(df_total[\"cohort\"]==\"PCAWG\")].shape[0]\n",
    "codes=df_total[(df_total[\"is_selected\"]==True)][[\"cancer_type\",\"cancer_type_code\"]].drop_duplicates().set_index(\"cancer_type\").to_dict()[\"cancer_type_code\"]\n",
    "codes[\"pancancer\"] = \"PANCAN\"\n",
    "codes[\"Kidney chromophobe cancer\"] = \"KICH\"\n",
    "d_colors = {\"loh\": \"#a8ddb5\", \"deepdel\": \"#43a2ca\", \"amp\": \"#de2d26\",\"mutation\":\"grey\"}"
   ]
  },
  {
   "cell_type": "markdown",
   "id": "a2a1cfb9",
   "metadata": {},
   "source": [
    "### Plot"
   ]
  },
  {
   "cell_type": "code",
   "execution_count": 11,
   "id": "2120f3f3",
   "metadata": {},
   "outputs": [
    {
     "data": {
      "image/png": "[encoded data removed]",
      "text/plain": [
       "<Figure size 360x108 with 3 Axes>"
      ]
     },
     "metadata": {
      "needs_background": "light"
     },
     "output_type": "display_data"
    }
   ],
   "source": [
    "fig,ax=plt.subplots(figsize=(N*1,len(genes)/2))\n",
    "N=len(order)\n",
    "gs = gridspec.GridSpec(ncols=1,nrows=len(genes),wspace=0.0)\n",
    "axis=[]\n",
    "for j, gene in enumerate(genes):\n",
    "    ax = plt.subplot(gs[j]) \n",
    "    ax.get_xaxis().set_visible(False)\n",
    "    for i,ttype_s in enumerate(order):\n",
    "        ttype_s=order[i]\n",
    "        for k,talt in enumerate([\"loh\",\"mutation\",\"deepdel\",\"amp\"]):\n",
    "            marker=markers[talt]\n",
    "            if (ttype_s,talt) in pivot.index:\n",
    "                qvalues=-np.log10([10**-20 +x for x in  pivot.loc[(ttype_s,talt)][list(itertools.product([\"qvalue\"],[gene]))].values])\n",
    "                colors=d_colors[talt]\n",
    "                sizes=[s**1.3+100 if np.isfinite(s) else 0 for s in pivot.loc[(ttype_s,talt)][list(itertools.product([\"n_obs\"],[gene]))].values]\n",
    "                lw=[get_lw(df_cnv_pcawg,ttype_s,talt,g) for g in [gene] ]\n",
    "                edgecolors=\"black\"\n",
    "                ax.scatter(x=[i for x in range(0,len(qvalues))],y=[0 for x in range(0,len(qvalues))],s=sizes,color=colors,edgecolors=edgecolors,linewidths=lw,clip_on=False,marker=marker)\n",
    "    ax.spines[\"top\"].set_visible(False)\n",
    "    ax.spines[\"left\"].set_visible(False)\n",
    "    ax.spines[\"right\"].set_visible(False)\n",
    "    ax.spines[\"bottom\"].set_visible(False)\n",
    "    ax.set_xticks([])\n",
    "    ax.axhline(y=0,xmin=0.05,xmax=1.1,color=\"#C0C0C0\",lw=0.55,alpha=0.5)\n",
    "    ax.set_ylabel(gene,fontsize=12,rotation=0)\n",
    "    #ax.set_ylabel(,fontsize=12,rotation=0,verticalalignment=\"center\", labelpad=100)\n",
    "    ax.set_yticks([])\n",
    "    ax.set_xlabel(\"\")\n",
    "    \n",
    "    axis.append(ax)\n",
    "\n",
    "ax.spines[\"top\"].set_visible(False)\n",
    "ax.spines[\"left\"].set_visible(False)\n",
    "ax.spines[\"right\"].set_visible(False)\n",
    "ax.spines[\"bottom\"].set_visible(False)\n",
    "ax.get_xaxis().set_visible(True)\n",
    "ax.set_xticks(list(range(0,len(order))))\n",
    "ax.set_xticklabels([ttype_s.replace(\"__\",\" \") + \"\\n (\"+codes[ttype_s.replace(\"__\",\" \")]+\")\" for ttype_s in order],rotation=90)\n",
    "ax.tick_params(axis = 'both', labelsize =14  , pad=0.15,width=0.15, length = 1.5)\n",
    "axis[0].set_title(\"Recurrence based positive selection, MHC-I, PCAWG\",fontsize=14)\n",
    "\n",
    "plt.savefig(\"../results/figures/figure3/positive_selection_pcawg_mhcI.pdf\", dpi=800,bbox_inches=\"tight\")\n",
    "plt.show()\n"
   ]
  },
  {
   "cell_type": "markdown",
   "id": "cd887d3e",
   "metadata": {},
   "source": [
    "### Select plots of CNV positive selection examples"
   ]
  },
  {
   "cell_type": "markdown",
   "id": "f6395258",
   "metadata": {},
   "source": [
    "##### Pancreas neuroendocrine in Hartwig"
   ]
  },
  {
   "cell_type": "code",
   "execution_count": 12,
   "id": "54ed45fe",
   "metadata": {},
   "outputs": [],
   "source": [
    "!cp /home/fran/Documents/cuppen/HPC/tunnel/cuppen/projects/P0020_genetics_immune_escape/large_scale_primary_met/processed/hmf/positive_selection/cnv/ignore_loh_nonfocal/plots/Pancreas__neuroendocrine_ignore_loh_nonfocal.pdf ../../results/figures/figure3/"
   ]
  },
  {
   "cell_type": "markdown",
   "id": "0e32f142",
   "metadata": {},
   "source": [
    "##### Colorectal hfocal in Hartwig"
   ]
  },
  {
   "cell_type": "code",
   "execution_count": 13,
   "id": "c6239d83",
   "metadata": {},
   "outputs": [],
   "source": [
    "!cp /home/fran/Documents/cuppen/HPC/tunnel/cuppen/projects/P0020_genetics_immune_escape/large_scale_primary_met/processed/hmf/positive_selection/cnv/ignore_loh_hfocal/plots/Colorectum__carcinoma_ignore_loh_hfocal_zoom.pdf ../../results/figures/figure3/"
   ]
  },
  {
   "cell_type": "markdown",
   "id": "81278814",
   "metadata": {},
   "source": [
    "##### Cervix focal in Hartwig"
   ]
  },
  {
   "cell_type": "code",
   "execution_count": 14,
   "id": "fb31d1ad",
   "metadata": {},
   "outputs": [],
   "source": [
    "!cp /home/fran/Documents/cuppen/HPC/tunnel/cuppen/projects/P0020_genetics_immune_escape/large_scale_primary_met/processed/hmf/positive_selection/cnv/ignore_loh_focal/plots/Cervix*.pdf ../../results/figures/figure3/"
   ]
  },
  {
   "cell_type": "markdown",
   "id": "fbfca142",
   "metadata": {},
   "source": [
    "##### Kidney chromophobe nonfocal in PCAWG"
   ]
  },
  {
   "cell_type": "code",
   "execution_count": 15,
   "id": "93a8ecba",
   "metadata": {},
   "outputs": [],
   "source": [
    "!cp /home/fran/Documents/cuppen/HPC/tunnel/cuppen/projects/P0020_genetics_immune_escape/large_scale_primary_met/processed/pcawg/positive_selection/cnv/ignore_loh_nonfocal/plots/Kidney__chromophobe__cancer_ignore_loh_nonfocal*.pdf  ../../results/figures/figure3/"
   ]
  },
  {
   "cell_type": "code",
   "execution_count": null,
   "id": "9cc2cea4",
   "metadata": {},
   "outputs": [],
   "source": []
  }
 ],
 "metadata": {
  "kernelspec": {
   "display_name": "Python 3",
   "language": "python",
   "name": "python3"
  },
  "language_info": {
   "codemirror_mode": {
    "name": "ipython",
    "version": 3
   },
   "file_extension": ".py",
   "mimetype": "text/x-python",
   "name": "python",
   "nbconvert_exporter": "python",
   "pygments_lexer": "ipython3",
   "version": "3.6.9"
  },
  "widgets": {
   "application/vnd.jupyter.widget-state+json": {
    "state": {},
    "version_major": 2,
    "version_minor": 0
   }
  }
 },
 "nbformat": 4,
 "nbformat_minor": 5
}
