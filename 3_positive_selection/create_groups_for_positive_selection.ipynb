{
 "cells": [
  {
   "cell_type": "code",
   "execution_count": 1,
   "metadata": {},
   "outputs": [],
   "source": [
    "import pandas as pd\n",
    "import os\n",
    "import json\n",
    "import numpy as np\n",
    "\n",
    "import seaborn as sns\n",
    "import matplotlib.pyplot as plt"
   ]
  },
  {
   "cell_type": "markdown",
   "metadata": {},
   "source": [
    "### Read metadata"
   ]
  },
  {
   "cell_type": "code",
   "execution_count": 2,
   "metadata": {},
   "outputs": [],
   "source": [
    "df_meta = pd.read_csv(\"../metadata/dataset_metadata_supp_table3.tsv\",sep=\"\\t\")\n"
   ]
  },
  {
   "cell_type": "markdown",
   "metadata": {},
   "source": [
    "### Hartwig dataset"
   ]
  },
  {
   "cell_type": "code",
   "execution_count": 4,
   "metadata": {},
   "outputs": [],
   "source": [
    "df_hmf_ttypes=df_meta[(df_meta[\"cohort\"]==\"Hartwig\")&(df_meta[\"is_selected\"])]\n",
    "a=df_hmf_ttypes.groupby(\"cancer_type\").agg({\"sample_id\":\"count\"})\n",
    "ttypes_selected=list(a[a[\"sample_id\"]>=15].index)\n",
    "ttypes_selected.remove(\"CUP\")\n",
    "ttypes_not_selected=list(a[a[\"sample_id\"]<15].index)+[\"CUP\"]"
   ]
  },
  {
   "cell_type": "code",
   "execution_count": 5,
   "metadata": {},
   "outputs": [],
   "source": [
    "d_hmf = {}\n",
    "for ttype in ttypes_selected: # for each cancer type, select samples to be included\n",
    "    d_hmf[ttype.replace(\" \",\"__\")] = list(df_hmf_ttypes[df_hmf_ttypes[\"cancer_type\"]==ttype][\"sample_id\"].values)\n",
    "d_hmf[\"pancancer\"] = list(df_hmf_ttypes[\"sample_id\"].values)\n"
   ]
  },
  {
   "cell_type": "code",
   "execution_count": 7,
   "metadata": {},
   "outputs": [],
   "source": [
    "with open(\"../data/hmf_by_ttype.json\",'w') as f: # save it\n",
    "    json.dump(d_hmf,f)\n",
    "#cp ../data/hmf_by_ttype.json /home/fran/Documents/cuppen/HPC/tunnel/cuppen/projects/P0020_genetics_immune_escape/large_scale_primary_met/processed/hmf/ --> This will be used by the positive_selection scripts"
   ]
  },
  {
   "cell_type": "code",
   "execution_count": 8,
   "metadata": {},
   "outputs": [],
   "source": [
    "d_hmf_nomsi={}\n",
    "d_hmf_nomsi[\"pancancer\"]=list(df_hmf_ttypes[df_hmf_ttypes[\"msi_status\"]==\"MSS\"][\"sample_id\"].values)\n",
    "with open(\"../data/hmf_pancancer_nomsi.json\",'w') as f:\n",
    "    json.dump(d_hmf_nomsi,f)\n",
    "#cp ../data/hmf_pancancer_nomsi.json /home/fran/Documents/cuppen/HPC/tunnel/cuppen/projects/P0020_genetics_immune_escape/large_scale_primary_met/processed/hmf/"
   ]
  },
  {
   "cell_type": "markdown",
   "metadata": {},
   "source": [
    "### PCAWG dataset"
   ]
  },
  {
   "cell_type": "code",
   "execution_count": 12,
   "metadata": {},
   "outputs": [],
   "source": [
    "df_pcawg_ttypes=df_meta[(df_meta[\"cohort\"]==\"PCAWG\")&(df_meta[\"is_selected\"])]"
   ]
  },
  {
   "cell_type": "code",
   "execution_count": 13,
   "metadata": {},
   "outputs": [],
   "source": [
    "a=df_pcawg_ttypes.groupby(\"cancer_type\").agg({\"sample_id\":\"count\"})\n",
    "ttypes_selected=list(a[a[\"sample_id\"]>=15].index)\n",
    "ttypes_not_selected=list(a[a[\"sample_id\"]<15].index)"
   ]
  },
  {
   "cell_type": "code",
   "execution_count": 14,
   "metadata": {},
   "outputs": [],
   "source": [
    "d_pcawg = {}\n",
    "for ttype in ttypes_selected:\n",
    "    d_pcawg[ttype.replace(\" \",\"__\")] = list(df_pcawg_ttypes[df_pcawg_ttypes[\"cancer_type\"]==ttype][\"sample_id\"].values)\n",
    "    \n",
    "d_pcawg[\"pancancer\"] = list(df_pcawg_ttypes[\"sample_id\"].values)"
   ]
  },
  {
   "cell_type": "code",
   "execution_count": 17,
   "metadata": {},
   "outputs": [],
   "source": [
    "with open(\"../data/pcawg_by_ttype.json\",'w') as f:\n",
    "    json.dump(d_pcawg,f)\n",
    "# cp ../data/pcawg_by_ttype.json /home/fran/Documents/cuppen/HPC/tunnel/cuppen/projects/P0020_genetics_immune_escape/large_scale_primary_met/processed/pcawg/ --> This will be used by the positive_selection scripts"
   ]
  },
  {
   "cell_type": "code",
   "execution_count": 33,
   "metadata": {},
   "outputs": [],
   "source": [
    "d_pcawg_nomsi={}\n",
    "d_pcawg_nomsi[\"pancancer\"]=list(df_pcawg_ttypes[df_pcawg_ttypes[\"msi_status\"]==\"MSS\"][\"sample_id\"].values)\n",
    "with open(\"../data/pcawg_pancancer_nomsi.json\",'w') as f:\n",
    "    json.dump(d_pcawg_nomsi,f)\n",
    "# cp ../data/pcawg_pancancer_nomsi.json /home/fran/Documents/cuppen/HPC/tunnel/cuppen/projects/P0020_genetics_immune_escape/large_scale_primary_met/processed/pcawg/"
   ]
  }
 ],
 "metadata": {
  "kernelspec": {
   "display_name": "Python 3",
   "language": "python",
   "name": "python3"
  },
  "language_info": {
   "codemirror_mode": {
    "name": "ipython",
    "version": 3
   },
   "file_extension": ".py",
   "mimetype": "text/x-python",
   "name": "python",
   "nbconvert_exporter": "python",
   "pygments_lexer": "ipython3",
   "version": "3.6.9"
  },
  "widgets": {
   "application/vnd.jupyter.widget-state+json": {
    "state": {},
    "version_major": 2,
    "version_minor": 0
   }
  }
 },
 "nbformat": 4,
 "nbformat_minor": 4
}
