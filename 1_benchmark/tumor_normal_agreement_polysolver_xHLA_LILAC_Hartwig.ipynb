{
 "cells": [
  {
   "cell_type": "code",
   "execution_count": 2,
   "metadata": {},
   "outputs": [],
   "source": [
    "import os \n",
    "import pandas as pd\n",
    "import json\n",
    "from tqdm import tqdm\n",
    "import numpy as np\n",
    "import glob\n",
    "import itertools\n",
    "import pickle\n",
    "from scipy import stats\n",
    "\n",
    "import matplotlib.cm as cm\n",
    "from matplotlib import gridspec\n",
    "import matplotlib.pyplot as plt\n",
    "import seaborn as sns\n",
    "\n",
    "pd.options.display.max_columns=100\n",
    "pd.options.display.max_rows=100\n",
    "from pandas.core.common import SettingWithCopyWarning\n",
    "import warnings\n",
    "warnings.simplefilter(action=\"ignore\", category=SettingWithCopyWarning)"
   ]
  },
  {
   "cell_type": "markdown",
   "metadata": {},
   "source": [
    "### Functions"
   ]
  },
  {
   "cell_type": "code",
   "execution_count": 3,
   "metadata": {},
   "outputs": [],
   "source": [
    "def transform_allele_poly(r):\n",
    "    r=r.upper().replace(\"HLA_\",\"\")\n",
    "    return r[0]+\"*\"+r[2:4]+\":\"+r[5:7]\n",
    "    \n",
    "def read_polysolver(path):\n",
    "    l=[]\n",
    "    if not(os.path.exists(path)):\n",
    "        return []\n",
    "    with open(path,'r') as f:\n",
    "        for line in f.readlines():\n",
    "            line = line.rstrip()\n",
    "            _,hla_1,hla_2 = line.split(\"\\t\")\n",
    "            p_hla_1,p_hla_2 = transform_allele_poly(hla_1),transform_allele_poly(hla_2)\n",
    "            l+=[p_hla_1,p_hla_2]\n",
    "            \n",
    "    return l\n",
    "def read_hlas_xhla(path):\n",
    "    if not(os.path.exists(path)):\n",
    "        return []\n",
    "    with open(path, 'r') as f:\n",
    "        d = json.load(f)[\"hla\"]\n",
    "    list_normal_total = [get_4digit_xhla(hla) for hla in d[\"alleles\"]]\n",
    "    list_normal_I = list([hla for hla in list_normal_total if hla[4] != \"D\"]) # only class I at this moment\n",
    "    list_normal_parsed = [hla[4]+\"*\"+hla[5:] for hla in list_normal_I]\n",
    "    return list_normal_parsed\n",
    "\n",
    "def get_4digit_xhla(hla):\n",
    "    v = \"HLA-\" + hla.replace(\"*\", \"\")\n",
    "    if v[-1] == \"N\": # this allele is raising an error...\n",
    "        return v[0:-1] # remove the \"N\" of the final...\n",
    "    return v            "
   ]
  },
  {
   "cell_type": "markdown",
   "metadata": {},
   "source": [
    "### Read all the output"
   ]
  },
  {
   "cell_type": "code",
   "execution_count": 8,
   "metadata": {},
   "outputs": [],
   "source": [
    "df_meta = pd.read_csv(\"../metadata/dataset_metadata_supp_table3.tsv\",sep=\"\\t\") # This is Supp. Table 3\n",
    "df_meta=df_meta[(df_meta[\"cohort\"]==\"Hartwig\")&(df_meta[\"is_selected\"]==True)]\n",
    "donors = df_meta[\"sample_id\"].values"
   ]
  },
  {
   "cell_type": "code",
   "execution_count": 10,
   "metadata": {},
   "outputs": [
    {
     "data": {
      "text/plain": [
       "Series([], Name: blacklist_gie_comment, dtype: int64)"
      ]
     },
     "execution_count": 10,
     "metadata": {},
     "output_type": "execute_result"
    }
   ],
   "source": [
    "df_meta[\"blacklist_gie_comment\"].value_counts()"
   ]
  },
  {
   "cell_type": "markdown",
   "metadata": {},
   "source": [
    "### Check Harwtig output for the HLA-I typing of the three tools"
   ]
  },
  {
   "cell_type": "code",
   "execution_count": 36,
   "metadata": {},
   "outputs": [
    {
     "name": "stderr",
     "output_type": "stream",
     "text": [
      "100%|██████████| 4439/4439 [1:11:19<00:00,  1.04it/s]\n"
     ]
    }
   ],
   "source": [
    "d_data={}\n",
    "for donor in tqdm(donors):\n",
    "    filein1=f\"/home/fran/Documents/cuppen/HPC/tunnel/cuppen/projects/P0020_genetics_immune_escape/large_scale_primary_met/processed/hmf/lilac_validation/{donor}/{donor}_normal.lilac.csv.gz\"\n",
    "    filein2=f\"/home/fran/Documents/cuppen/HPC/tunnel/cuppen/projects/P0020_genetics_immune_escape/large_scale_primary_met/processed/hmf/lilac_validation/{donor}/{donor}_tumor.lilac.csv.gz\"\n",
    "    if not(os.path.exists(filein1)):\n",
    "        continue\n",
    "    df=pd.read_csv(filein1,sep=\",\")\n",
    "    df1=pd.read_csv(filein2,sep=\",\")\n",
    "    alleles_normal_lilac = df[\"Allele\"].values\n",
    "    alleles_tumor_lilac = df1[\"Allele\"].values\n",
    "    \n",
    "    # find polysolver\n",
    "    path_normal_polysolver=f\"/home/fran/Documents/cuppen/HPC/tunnel/cuppen/projects/P0020_genetics_immune_escape/large_scale_primary_met/processed/hmf/hla_events/{donor}/typing_normal/winners.hla.txt\"\n",
    "    path_tumor_polysolver=f\"/home/fran/Documents/cuppen/HPC/tunnel/cuppen/projects/P0020_genetics_immune_escape/large_scale_primary_met/processed/hmf/hla_events/{donor}/typing_tumor/winners.hla.txt\"\n",
    "    alleles_normal_poly = read_polysolver(path_normal_polysolver)\n",
    "    alleles_tumor_poly = read_polysolver(path_tumor_polysolver)\n",
    "    # find xhla\n",
    "    path_normal_xhla=f\"/home/fran/Documents/cuppen/HPC/tunnel/cuppen/projects/P0020_genetics_immune_escape/large_scale_primary_met/processed/hmf/hla_events/{donor}/typing_normal_xhla/report-{donor}-hla.json\"\n",
    "    path_tumor_xhla=f\"/home/fran/Documents/cuppen/HPC/tunnel/cuppen/projects/P0020_genetics_immune_escape/large_scale_primary_met/processed/hmf/hla_events/{donor}/typing_tumor_xhla/report-{donor}-hla.json\"\n",
    "    alleles_normal_xhla = read_hlas_xhla(path_normal_xhla)\n",
    "    alleles_tumor_xhla = read_hlas_xhla(path_tumor_xhla)\n",
    "    # general\n",
    "    valid_donor = len(alleles_normal_poly) > 0 and len(alleles_tumor_poly) > 0 and len(alleles_normal_xhla) > 0 and len(alleles_tumor_xhla) > 0\n",
    "    # general\n",
    "    d_data[donor] = {\"polysolver\":{\"normal\":alleles_normal_poly,\"tumor\":alleles_tumor_poly},\"xHLA\":{\"normal\":alleles_normal_xhla,\"tumor\":alleles_tumor_xhla},\"LILAC\":{\"normal\":alleles_normal_lilac,\"tumor\":alleles_tumor_lilac},\"has_full_output\":valid_donor}"
   ]
  },
  {
   "cell_type": "markdown",
   "metadata": {},
   "source": [
    "### Save dictionary"
   ]
  },
  {
   "cell_type": "code",
   "execution_count": 37,
   "metadata": {},
   "outputs": [],
   "source": [
    "av_donors=list(d_data.keys())\n",
    "for k in av_donors:\n",
    "    if k in donors:\n",
    "        d_data[k][\"LILAC\"][\"normal\"] = list(d_data[k][\"LILAC\"][\"normal\"])\n",
    "        d_data[k][\"LILAC\"][\"tumor\"] = list(d_data[k][\"LILAC\"][\"tumor\"])\n",
    "    else:\n",
    "        del d_data[k]\n",
    "with open(\"data/per_sample_HLA_type.json\",'w') as f: # tmp file, only for internal use\n",
    "    json.dump(d_data,f)    "
   ]
  },
  {
   "cell_type": "markdown",
   "metadata": {},
   "source": [
    "### Read dictionary"
   ]
  },
  {
   "cell_type": "code",
   "execution_count": 39,
   "metadata": {},
   "outputs": [],
   "source": [
    "with open(\"data/per_sample_HLA_type.json\") as f:\n",
    "    d_data = json.load(f)"
   ]
  },
  {
   "cell_type": "code",
   "execution_count": 40,
   "metadata": {},
   "outputs": [
    {
     "name": "stderr",
     "output_type": "stream",
     "text": [
      "/home/fran/miniconda3/envs/global/lib/python3.6/site-packages/IPython/core/interactiveshell.py:3051: DtypeWarning: Columns (16,17,19,20,142) have mixed types.Specify dtype option on import or set low_memory=False.\n",
      "  interactivity=interactivity, compiler=compiler, result=result)\n"
     ]
    }
   ],
   "source": [
    "df= pd.read_csv(\"../results/data/processed_hmf_escape_info.tsv\",sep=\"\\t\").rename(columns={\"sample\":\"sample_id\"}) # Supp. Table 4\n",
    "df = df[df[\"sample_id\"].isin(d_data.keys())]"
   ]
  },
  {
   "cell_type": "code",
   "execution_count": 41,
   "metadata": {},
   "outputs": [],
   "source": [
    "d_data_full={}\n",
    "for sample in d_data:\n",
    "    if d_data[sample][\"has_full_output\"] and sample in df[\"sample_id\"].unique():\n",
    "        d_data_full[sample] = d_data[sample]"
   ]
  },
  {
   "cell_type": "code",
   "execution_count": 42,
   "metadata": {},
   "outputs": [
    {
     "data": {
      "text/plain": [
       "4439"
      ]
     },
     "execution_count": 42,
     "metadata": {},
     "output_type": "execute_result"
    }
   ],
   "source": [
    "len(d_data)"
   ]
  },
  {
   "cell_type": "markdown",
   "metadata": {},
   "source": [
    "### Plot HMF"
   ]
  },
  {
   "cell_type": "code",
   "execution_count": 44,
   "metadata": {},
   "outputs": [],
   "source": [
    "pallete = {\"wt\":\"#ef8a62\",\"alteration\":\"#67a9cf\",\"alteration_primary\":\"#7570b3\"}"
   ]
  },
  {
   "cell_type": "code",
   "execution_count": 45,
   "metadata": {},
   "outputs": [],
   "source": [
    "def get_samples_match(d_data,key,samples=[]):\n",
    "    c=0\n",
    "    for donor in d_data:\n",
    "        if len(samples) > 0 and not(donor) in samples:\n",
    "            continue\n",
    "        a=len(set(d_data[donor][key][\"normal\"]).symmetric_difference(set(d_data[donor][key][\"tumor\"])))\n",
    "        c+=int((a>0 or len(d_data[donor][key][\"normal\"]) == 0 or len(d_data[donor][key][\"tumor\"]) == 0 ))\n",
    "    return c"
   ]
  },
  {
   "cell_type": "code",
   "execution_count": 46,
   "metadata": {},
   "outputs": [
    {
     "data": {
      "image/png": "[encoded data removed]",
      "text/plain": [
       "<Figure size 216x432 with 1 Axes>"
      ]
     },
     "metadata": {
      "needs_background": "light"
     },
     "output_type": "display_data"
    }
   ],
   "source": [
    "total_samples = len(d_data_full)\n",
    "# general \n",
    "samples_with_hla_typing_polysolver = total_samples - get_samples_match(d_data_full,\"polysolver\")\n",
    "samples_with_hla_typing_xhla = total_samples - get_samples_match(d_data_full,\"xHLA\")\n",
    "samples_with_hla_typing_LILAC = total_samples - get_samples_match(d_data_full,\"LILAC\")\n",
    "\n",
    "fig,ax = plt.subplots(figsize=(3,6))\n",
    "colors = {\"polysolver\":\"#e41a1c\",\"xhla\":\"#377eb8\",\"LILAC\":\"#4daf4a\"}\n",
    "yticks_labels = [\"Number of tested HMF samples \"]\n",
    "yticks = []\n",
    "y=0\n",
    "ax.barh(y=y,width=total_samples,color=\"grey\",edgecolor=\"black\",linewidth=1.5)\n",
    "ax.annotate(xy=(total_samples+10,y),s=str(total_samples),fontsize=12 )\n",
    "yticks.append(y)\n",
    "y-=1\n",
    "yticks_labels.append(\"Polysolver\")\n",
    "ax.barh(y=y,width=samples_with_hla_typing_polysolver,color=colors[\"polysolver\"],edgecolor=\"black\",linewidth=1.5)\n",
    "ax.annotate(xy=(samples_with_hla_typing_polysolver+10,y),s=str(samples_with_hla_typing_polysolver) + \"  ({0:.2%})\".format(samples_with_hla_typing_polysolver/total_samples),fontsize=12)\n",
    "yticks_labels.append(\"xHLA\")\n",
    "yticks.append(y)\n",
    "y-=1\n",
    "ax.barh(y=y,width=samples_with_hla_typing_xhla,color=colors[\"xhla\"],edgecolor=\"black\",linewidth=1.5)\n",
    "ax.annotate(xy=(samples_with_hla_typing_xhla+10,y),s=str(samples_with_hla_typing_xhla) + \"  ({0:.2%})\".format(samples_with_hla_typing_xhla/total_samples),fontsize=12)\n",
    "yticks_labels.append(\"LILAC\")\n",
    "yticks.append(y)\n",
    "y-=1\n",
    "ax.barh(y=y,width=samples_with_hla_typing_LILAC,color=colors[\"LILAC\"],edgecolor=\"black\",linewidth=1.5)\n",
    "ax.annotate(xy=(samples_with_hla_typing_LILAC+10,y),s=str(samples_with_hla_typing_LILAC) + \"  ({0:.2%})\".format(samples_with_hla_typing_LILAC/total_samples),fontsize=12)\n",
    "yticks.append(y)\n",
    "\n",
    "df_wt = df[(df[\"loh_lilac\"]==False)&(df[\"del_HLA-A\"]==0)&(df[\"del_HLA-B\"]==0)&(df[\"del_HLA-C\"]==0)&(df[\"mut_hla_lilac\"]==False)]\n",
    "total_samples = list(df_wt[\"sample_id\"].values)\n",
    "\n",
    "# general \n",
    "samples_with_hla_typing_polysolver = len(total_samples) - get_samples_match(d_data_full,\"polysolver\",df_wt[\"sample_id\"].values)\n",
    "samples_with_hla_typing_xhla = len(total_samples) - get_samples_match(d_data_full,\"xHLA\",df_wt[\"sample_id\"].values)\n",
    "samples_with_hla_typing_LILAC = len(total_samples) - get_samples_match(d_data_full,\"LILAC\",df_wt[\"sample_id\"].values)\n",
    "\n",
    "y-=2\n",
    "yticks_labels.append(\"Number of tested Hartwig samples \\n (excluding MHC-I altered samples)\")\n",
    "ax.barh(y=y,width=len(total_samples),color=\"grey\",edgecolor=\"black\",linewidth=1.5)\n",
    "ax.annotate(xy=(len(total_samples)+10,y),s=str(len(total_samples)),fontsize=12)\n",
    "yticks.append(y)\n",
    "y-=1\n",
    "yticks_labels.append(\"Polysolver\")\n",
    "ax.barh(y=y,width=samples_with_hla_typing_polysolver,color=colors[\"polysolver\"],edgecolor=\"black\",linewidth=1.5)\n",
    "ax.annotate(xy=(samples_with_hla_typing_polysolver+10,y),s=str(samples_with_hla_typing_polysolver) + \"  ({0:.2%})\".format(samples_with_hla_typing_polysolver/len(total_samples)),fontsize=12)\n",
    "yticks_labels.append(\"xHLA\")\n",
    "yticks.append(y)\n",
    "y-=1\n",
    "ax.barh(y=y,width=samples_with_hla_typing_xhla,color=colors[\"xhla\"],edgecolor=\"black\",linewidth=1.5)\n",
    "ax.annotate(xy=(samples_with_hla_typing_xhla+10,y),s=str(samples_with_hla_typing_xhla) + \"  ({0:.2%})\".format(samples_with_hla_typing_xhla/len(total_samples)),fontsize=12)\n",
    "yticks_labels.append(\"LILAC\")\n",
    "yticks.append(y)\n",
    "y-=1\n",
    "ax.barh(y=y,width=samples_with_hla_typing_LILAC,color=colors[\"LILAC\"],edgecolor=\"black\",linewidth=1.5)\n",
    "ax.annotate(xy=(samples_with_hla_typing_LILAC+10,y),s=str(samples_with_hla_typing_LILAC) + \"  ({0:.2%})\".format(samples_with_hla_typing_LILAC/len(total_samples)),fontsize=12)\n",
    "yticks.append(y)\n",
    "\n",
    "ax.set_yticks(yticks)\n",
    "ax.set_yticklabels(yticks_labels)\n",
    "ax.spines['right'].set_visible(False)\n",
    "ax.spines['top'].set_visible(False)\n",
    "ax.set_xlabel(\"Number of samples\",fontsize=12)\n",
    "ax.set_title(\"Hartwig HLA typing tumor/germline agreement\",fontsize=12)\n",
    "ax.tick_params(axis='both', which='major', labelsize=12)\n",
    "plt.savefig(f'../results/figures/figure1/Hartwig_tumor_normal_agreement.pdf', dpi=800,bbox_inches=\"tight\")"
   ]
  },
  {
   "cell_type": "code",
   "execution_count": 47,
   "metadata": {},
   "outputs": [],
   "source": [
    "from matplotlib_venn import venn3, venn3_circles"
   ]
  },
  {
   "cell_type": "code",
   "execution_count": 48,
   "metadata": {},
   "outputs": [],
   "source": [
    "l=[0,0,0,0,0,0,0]\n",
    "for donor in d_data_full:\n",
    "    # only one method\n",
    "    lilac_only = len( set(d_data_full[donor][\"LILAC\"][\"normal\"]) - set(d_data_full[donor][\"polysolver\"][\"normal\"]) - set(d_data_full[donor][\"xHLA\"][\"normal\"])) > 0\n",
    "    poly_only = len(set(d_data_full[donor][\"polysolver\"][\"normal\"]) - set(d_data_full[donor][\"LILAC\"][\"normal\"]) - set(d_data_full[donor][\"xHLA\"][\"normal\"])) > 0\n",
    "    xhla_only = len(set(d_data_full[donor][\"xHLA\"][\"normal\"]) - set(d_data_full[donor][\"polysolver\"][\"normal\"]) - set(d_data_full[donor][\"LILAC\"][\"normal\"])) > 0\n",
    "    \n",
    "    # two methods \n",
    "    lilac_polysolver=len(set(d_data_full[donor][\"LILAC\"][\"normal\"]).intersection(set(d_data_full[donor][\"polysolver\"][\"normal\"])) - set(d_data_full[donor][\"xHLA\"][\"normal\"])) > 0\n",
    "    lilac_xhla=len(set(d_data_full[donor][\"LILAC\"][\"normal\"]).intersection(set(d_data_full[donor][\"xHLA\"][\"normal\"])) - set(d_data_full[donor][\"polysolver\"][\"normal\"])) > 0  \n",
    "    polysolver_xhla=len(set(d_data_full[donor][\"polysolver\"][\"normal\"]).intersection(set(d_data_full[donor][\"xHLA\"][\"normal\"])) - set(d_data_full[donor][\"LILAC\"][\"normal\"])) > 0\n",
    "    \n",
    "    # three methods\n",
    "    max_alleles = np.nanmax([len(set(d_data_full[donor][\"LILAC\"][\"normal\"])),len(set(d_data_full[donor][\"polysolver\"][\"normal\"])),len(set(d_data_full[donor][\"xHLA\"][\"normal\"]))])\n",
    "    three= len(set(d_data_full[donor][\"LILAC\"][\"normal\"]).intersection(set(d_data_full[donor][\"polysolver\"][\"normal\"])).intersection(set(d_data_full[donor][\"xHLA\"][\"normal\"]))) == max_alleles\n",
    "    l=[l[0]+int(lilac_only),l[1]+int(xhla_only),l[2]+int(lilac_xhla),l[3]+int(poly_only),l[4]+int(lilac_polysolver),l[5]+int(polysolver_xhla),l[6]+int(three)]"
   ]
  },
  {
   "cell_type": "code",
   "execution_count": 49,
   "metadata": {},
   "outputs": [
    {
     "data": {
      "image/png": "[encoded data removed]",
      "text/plain": [
       "<Figure size 360x288 with 1 Axes>"
      ]
     },
     "metadata": {},
     "output_type": "display_data"
    }
   ],
   "source": [
    "fig,ax = plt.subplots(figsize=(5,4))\n",
    "venn3(subsets = l, set_labels = ('LILAC', 'xHLA', 'Polysolver'), alpha = 0.5, normalize_to=0.2,ax=ax)\n",
    "plt.savefig(f'../results/figures/figure1/venn_hartwig_all.pdf', dpi=800,bbox_inches=\"tight\")"
   ]
  },
  {
   "cell_type": "code",
   "execution_count": 50,
   "metadata": {},
   "outputs": [],
   "source": [
    "l=[0,0,0,0,0,0,0]\n",
    "for donor in d_data:\n",
    "    # only one method\n",
    "    lilac_only = len( set(d_data[donor][\"LILAC\"][\"tumor\"]) - set(d_data[donor][\"polysolver\"][\"tumor\"]) - set(d_data[donor][\"xHLA\"][\"tumor\"])) > 0\n",
    "    poly_only = len(set(d_data[donor][\"polysolver\"][\"tumor\"]) - set(d_data[donor][\"LILAC\"][\"tumor\"]) - set(d_data[donor][\"xHLA\"][\"tumor\"])) > 0\n",
    "    xhla_only = len(set(d_data[donor][\"xHLA\"][\"tumor\"]) - set(d_data[donor][\"polysolver\"][\"tumor\"]) - set(d_data[donor][\"LILAC\"][\"tumor\"])) > 0\n",
    "    \n",
    "    # two methods \n",
    "    lilac_polysolver=len(set(d_data[donor][\"LILAC\"][\"tumor\"]).intersection(set(d_data[donor][\"polysolver\"][\"tumor\"])) - set(d_data[donor][\"xHLA\"][\"tumor\"])) > 0\n",
    "    lilac_xhla=len(set(d_data[donor][\"LILAC\"][\"tumor\"]).intersection(set(d_data[donor][\"xHLA\"][\"tumor\"])) - set(d_data[donor][\"polysolver\"][\"tumor\"])) > 0  \n",
    "    polysolver_xhla=len(set(d_data[donor][\"polysolver\"][\"tumor\"]).intersection(set(d_data[donor][\"xHLA\"][\"tumor\"])) - set(d_data[donor][\"LILAC\"][\"tumor\"])) > 0\n",
    "    \n",
    "    # three methods\n",
    "    \n",
    "    three= len(set(d_data[donor][\"LILAC\"][\"tumor\"]).intersection(set(d_data[donor][\"polysolver\"][\"tumor\"])).intersection(set(d_data[donor][\"xHLA\"][\"tumor\"]))) == 6\n",
    "    l=[l[0]+int(lilac_only),l[1]+int(xhla_only),l[2]+int(lilac_xhla),l[3]+int(poly_only),l[4]+int(lilac_polysolver),l[5]+int(polysolver_xhla),l[6]+int(three)]"
   ]
  },
  {
   "cell_type": "code",
   "execution_count": 51,
   "metadata": {},
   "outputs": [
    {
     "data": {
      "image/png": "[encoded data removed]",
      "text/plain": [
       "<Figure size 360x288 with 1 Axes>"
      ]
     },
     "metadata": {},
     "output_type": "display_data"
    }
   ],
   "source": [
    "fig,ax = plt.subplots(figsize=(5,4))\n",
    "venn3(subsets = l, set_labels = ('LILAC', 'xHLA', 'Polysolver'), alpha = 0.5, normalize_to=0.2,ax=ax)\n",
    "plt.savefig(f'../results/figures/figure1/venn_hartwig_wt.pdf', dpi=800,bbox_inches=\"tight\")"
   ]
  },
  {
   "cell_type": "markdown",
   "metadata": {},
   "source": [
    "### Save table, HLA-I typing Hartwig"
   ]
  },
  {
   "cell_type": "code",
   "execution_count": 52,
   "metadata": {},
   "outputs": [],
   "source": [
    "wt_samples = list(df[(df[\"loh_lilac\"]==False)&(df[\"del_HLA-A\"]==0)&(df[\"del_HLA-B\"]==0)&(df[\"del_HLA-C\"]==0)&(df[\"mut_hla_lilac\"]==False)][\"sample_id\"].values)"
   ]
  },
  {
   "cell_type": "code",
   "execution_count": 53,
   "metadata": {},
   "outputs": [],
   "source": [
    "l=[]\n",
    "for donor in d_data:\n",
    "    row,labels=[],[]\n",
    "    for method in [\"LILAC\",\"xHLA\",\"polysolver\"]:\n",
    "        for cat in [\"normal\",\"tumor\"]:\n",
    "            v=d_data[donor][method][cat]\n",
    "            if len(v) < 6:\n",
    "                print (\"HE\")\n",
    "            row+=v\n",
    "            for a in [\"A\",\"B\",\"C\"]:\n",
    "                for i in range(1,3):\n",
    "                    labels.append(method+\"_\"+cat[0]+\"_\"+f\"{a}{i}\")\n",
    "   \n",
    "    l.append([donor]+row)\n",
    "df_sup = pd.DataFrame(l,columns=[\"sample_id\"]+labels)\n",
    "df_sup[\"is_mutated\"]=df_sup.apply(lambda row: not(row[\"sample_id\"] in wt_samples),axis=1)\n",
    "df_sup=df_sup.merge(df_meta[[\"sample_id\",\"sample_id_2\"]].drop_duplicates())\n",
    "df_sup.drop([\"sample_id\"],axis=1).rename(columns={\"sample_id_2\":\"sampleId\"}).to_csv(\"data/hla_typing_hartwig_full.tsv\",sep=\"\\t\",index=False) # This will be part of Supp. Table 2 "
   ]
  }
 ],
 "metadata": {
  "kernelspec": {
   "display_name": "Python 3",
   "language": "python",
   "name": "python3"
  },
  "language_info": {
   "codemirror_mode": {
    "name": "ipython",
    "version": 3
   },
   "file_extension": ".py",
   "mimetype": "text/x-python",
   "name": "python",
   "nbconvert_exporter": "python",
   "pygments_lexer": "ipython3",
   "version": "3.6.9"
  },
  "widgets": {
   "application/vnd.jupyter.widget-state+json": {
    "state": {},
    "version_major": 2,
    "version_minor": 0
   }
  }
 },
 "nbformat": 4,
 "nbformat_minor": 4
}
