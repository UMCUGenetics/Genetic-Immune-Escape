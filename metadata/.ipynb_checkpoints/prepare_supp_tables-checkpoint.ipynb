{
 "cells": [
  {
   "cell_type": "code",
   "execution_count": 1,
   "id": "9c2b1269",
   "metadata": {},
   "outputs": [],
   "source": [
    "import pandas as pd"
   ]
  },
  {
   "cell_type": "markdown",
   "id": "81eaa31f",
   "metadata": {},
   "source": [
    "# Supp. Table 1"
   ]
  },
  {
   "cell_type": "markdown",
   "id": "e50bdfd8",
   "metadata": {},
   "source": [
    "--- Manually created -- "
   ]
  },
  {
   "cell_type": "markdown",
   "id": "082b4300",
   "metadata": {},
   "source": [
    "# Supp. Table 3"
   ]
  },
  {
   "cell_type": "markdown",
   "id": "7d8cbb3c",
   "metadata": {},
   "source": [
    "##### Sheet, metadata per sample"
   ]
  },
  {
   "cell_type": "code",
   "execution_count": 13,
   "id": "584f0c39",
   "metadata": {},
   "outputs": [],
   "source": [
    "df = pd.read_csv(\"../metadata/dataset_metadata_supp_table3.tsv\",sep=\"\\t\")\n",
    "columns=[\"sample_id_2\",\"patient_id\",\"icgc_aliquot_id\",\"icgc_specimen_id\",\"cohort\",\n",
    "        \"cancer_type\",\"cancer_type_code\",\"tissue_group\",\"simplified_biopsy_site\",'blacklisted_gie', 'blacklist_gie_comment',\n",
    "        'is_selected','lilac_status', 'has_lilac','has_group_cohort', 'has_group_mut_signatures', 'has_rna','ploidy',\n",
    "       'gender', 'whole_genome_duplication', 'msi_status', 'hr_status',\n",
    "       'had_radiotherapy', 'had_other_treatment', 'had_chemotherapy',\n",
    "       'had_hormone_therapy', 'had_targeted_therapy', 'had_immunotherapy',\n",
    "       'treatment_info_available', 'sv_load', 'smnv_load', 'sbs_load',\n",
    "       'dbs_load', 'indel_load', 'sbs_load.clonal', 'dbs_load.clonal',\n",
    "       'indel_load.clonal', 'sbs_load.subclonal', 'dbs_load.subclonal',\n",
    "       'indel_load.subclonal']\n",
    "df[columns].to_csv(\"../results/supp_tables/supp_table_3_per_sample.tsv\",index=False,sep=\"\\t\")"
   ]
  },
  {
   "cell_type": "markdown",
   "id": "2950ab3d",
   "metadata": {},
   "source": [
    "##### Per cancer type and cohort"
   ]
  },
  {
   "cell_type": "code",
   "execution_count": 14,
   "id": "b1b2c6d0",
   "metadata": {},
   "outputs": [],
   "source": [
    "df = pd.read_csv(\"../metadata/table_cancer_types_info.tsv\",sep=\"\\t\")\n",
    "df.to_csv(\"../results/supp_tables/supp_table_3_per_ttype.tsv\",index=False,sep=\"\\t\")"
   ]
  },
  {
   "cell_type": "markdown",
   "id": "a67adb76",
   "metadata": {},
   "source": [
    "# Supp. Table 4"
   ]
  },
  {
   "cell_type": "markdown",
   "id": "a8da9175",
   "metadata": {},
   "source": [
    "##### Sheet GIE per sample"
   ]
  },
  {
   "cell_type": "code",
   "execution_count": 17,
   "id": "c0d431e6",
   "metadata": {},
   "outputs": [],
   "source": [
    "df = pd.read_csv(\"../results/data/processed_hmf_escape_info.tsv.gz\",sep=\"\\t\")\n",
    "df1 = pd.read_csv(\"../results/data/processed_pcawg_escape_info.tsv.gz\",sep=\"\\t\")\n",
    "columns=[\"sample_id_2\",\"cohort\",\"cancer_type\",\"cancer_type_code\",\n",
    "        'A1', 'A2', 'B1', 'B2', 'C1', 'C2', 'A1_CN', 'A2_CN',\n",
    "       'B1_CN', 'B2_CN', 'C1_CN', 'C2_CN', 'A1_MUT', 'A2_MUT', 'B1_MUT',\n",
    "       'B2_MUT', 'C1_MUT', 'C2_MUT',\n",
    "        'ploidy_minor_HLA-A', 'ploidy_minor_HLA-B', 'ploidy_minor_HLA-C',\n",
    "       'ploidy_major_HLA-A', 'ploidy_major_HLA-B', 'ploidy_major_HLA-C',\n",
    "        'del_HLA-A', 'del_HLA-B', 'del_HLA-C',\n",
    "        'loh_lilac', 'copy_number_neutral_loh_hla', 'loh_hfocal', 'loh_focal', 'loh_nonfocal', \n",
    "        'mut_hla_lilac',\n",
    "        'systemic_app_pathway',\n",
    "       'systemic_app_pathway_detail', 'cd58_pathway',\n",
    "       'cd58_pathway_detail', 'ifn_gamma_pathway',\n",
    "       'ifn_gamma_pathway_detail', 'checkpoint_pathway',\n",
    "       'checkpoint_pathway_detail', 'epigenetic_regulators_pathway',\n",
    "       'epigenetic_regulators_pathway_detail',\n",
    "       'targeted_escape', 'non_targeted_escape', 'genetic_immune_escape'         \n",
    "]\n",
    "df = pd.concat([df,df1])[columns]\n",
    "df.to_csv(\"../results/supp_tables/supp_table_4_per_sample.tsv\",index=False,sep=\"\\t\")"
   ]
  },
  {
   "cell_type": "markdown",
   "id": "6b01fe79",
   "metadata": {},
   "source": [
    "##### Metastatic, per cancer type"
   ]
  },
  {
   "cell_type": "code",
   "execution_count": 23,
   "id": "fb1f3d21",
   "metadata": {},
   "outputs": [],
   "source": [
    "df_met = pd.read_csv(\"../results/data/summary_gie_cancer_type_hartwig.tsv\",sep=\"\\t\")\n",
    "columns=['cancer_type','cancer_type_code','n_samples', 'targeted_app_pathway_mut_HLA',\n",
    "       'targeted_app_pathway_partdel_HLA', 'systemic_app_pathway',\n",
    "       'ifn_gamma_pathway', 'checkpoint_pathway', 'cd58_pathway',\n",
    "       'epigenetic_regulators_pathway', 'genetic_immune_escape']\n",
    "df_met.to_csv(\"../results/supp_tables/supp_table_4_hartwig_ttype.tsv\",index=False,sep=\"\\t\")"
   ]
  },
  {
   "cell_type": "markdown",
   "id": "8420b283",
   "metadata": {},
   "source": [
    "##### Primary, per cancer type"
   ]
  },
  {
   "cell_type": "code",
   "execution_count": 24,
   "id": "19903db1",
   "metadata": {},
   "outputs": [],
   "source": [
    "df_pr = pd.read_csv(\"../results/data/summary_gie_cancer_type_pcawg.tsv\",sep=\"\\t\")\n",
    "columns=['cancer_type','cancer_type_code','n_samples', 'targeted_app_pathway_mut_HLA',\n",
    "       'targeted_app_pathway_partdel_HLA', 'systemic_app_pathway',\n",
    "       'ifn_gamma_pathway', 'checkpoint_pathway', 'cd58_pathway',\n",
    "       'epigenetic_regulators_pathway', 'genetic_immune_escape']\n",
    "df_pr.to_csv(\"../results/supp_tables/supp_table_4_pcawg_ttype.tsv\",index=False,sep=\"\\t\")"
   ]
  },
  {
   "cell_type": "markdown",
   "id": "52382b90",
   "metadata": {},
   "source": [
    "##### Metastatic, per cancer type, per gene"
   ]
  },
  {
   "cell_type": "code",
   "execution_count": 27,
   "id": "8017b921",
   "metadata": {},
   "outputs": [],
   "source": [
    "df_met = pd.read_csv(\"../results/data/summary_gie_per_gene_cancer_type_hartwig.tsv\",sep=\"\\t\")\n",
    "df_met.to_csv(\"../results/supp_tables/supp_table_4_hartwig_ttype_gene.tsv\",index=False,sep=\"\\t\")"
   ]
  },
  {
   "cell_type": "markdown",
   "id": "142c9e1b",
   "metadata": {},
   "source": [
    "##### Primary, per cancer type, per gene"
   ]
  },
  {
   "cell_type": "code",
   "execution_count": 28,
   "id": "b670e0b9",
   "metadata": {},
   "outputs": [],
   "source": [
    "df_pr = pd.read_csv(\"../results/data/summary_gie_per_gene_cancer_type_pcawg.tsv\",sep=\"\\t\")\n",
    "df_pr.to_csv(\"../results/supp_tables/supp_table_4_pcawg_ttype_gene.tsv\",index=False,sep=\"\\t\")"
   ]
  },
  {
   "cell_type": "markdown",
   "id": "5de9466a",
   "metadata": {},
   "source": [
    "##### Metastatic, mutual exclusivity"
   ]
  },
  {
   "cell_type": "code",
   "execution_count": 30,
   "id": "44d1215c",
   "metadata": {},
   "outputs": [],
   "source": [
    "df_met = pd.read_csv(\"../results/data/mutual_exclusivity_hartwig.tsv\",sep=\"\\t\")\n",
    "df_met.to_csv(\"../results/supp_tables/supp_table_4_hartwig_me.tsv\",index=False,sep=\"\\t\")"
   ]
  },
  {
   "cell_type": "markdown",
   "id": "30b28b35",
   "metadata": {},
   "source": [
    "##### Primary, mutual exclusivity"
   ]
  },
  {
   "cell_type": "code",
   "execution_count": 29,
   "id": "c8b38dce",
   "metadata": {},
   "outputs": [],
   "source": [
    "df_pr = pd.read_csv(\"../results/data/mutual_exclusivity_pcawg.tsv\",sep=\"\\t\")\n",
    "df_pr.to_csv(\"../results/supp_tables/supp_table_4_pcawg_me.tsv\",index=False,sep=\"\\t\")"
   ]
  },
  {
   "cell_type": "markdown",
   "id": "1765ae64",
   "metadata": {},
   "source": [
    "##### Primary vs Met, global"
   ]
  },
  {
   "cell_type": "code",
   "execution_count": 33,
   "id": "6290e38c",
   "metadata": {},
   "outputs": [],
   "source": [
    "df_pr = pd.read_csv(\"../results/data/primary_vs_met_global_gie.tsv\",sep=\"\\t\")\n",
    "df_pr.to_csv(\"../results/supp_tables/supp_table_4_prim_vs_met_gie.tsv\",index=False,sep=\"\\t\")"
   ]
  },
  {
   "cell_type": "markdown",
   "id": "eb0f845a",
   "metadata": {},
   "source": [
    "##### Primary vs Met, per pathway"
   ]
  },
  {
   "cell_type": "code",
   "execution_count": 34,
   "id": "5cfbfe70",
   "metadata": {},
   "outputs": [],
   "source": [
    "df_pr = pd.read_csv(\"../results/data/primary_vs_met_gie_per_pathway.tsv\",sep=\"\\t\")\n",
    "df_pr.to_csv(\"../results/supp_tables/supp_table_4_prim_vs_met_gie_pathway.tsv\",index=False,sep=\"\\t\")"
   ]
  },
  {
   "cell_type": "markdown",
   "id": "9029695a",
   "metadata": {},
   "source": [
    "# Supp. Table 5 (Positive selection)"
   ]
  },
  {
   "cell_type": "markdown",
   "id": "9ee0e07b",
   "metadata": {},
   "source": [
    "##### dNdScv, metastatic"
   ]
  },
  {
   "cell_type": "code",
   "execution_count": 41,
   "id": "1217b800",
   "metadata": {},
   "outputs": [],
   "source": [
    "df_met = pd.read_csv(\"../results/data/dndscv_output_immune_genes_hmf.tsv.gz\",sep=\"\\t\")\n",
    "df_met.to_csv(\"../results/supp_tables/supp_table_5_hartwig_muts.tsv\",index=False,sep=\"\\t\")"
   ]
  },
  {
   "cell_type": "markdown",
   "id": "45d33d72",
   "metadata": {},
   "source": [
    "##### dNdScv, primary"
   ]
  },
  {
   "cell_type": "code",
   "execution_count": 42,
   "id": "11cf2c69",
   "metadata": {},
   "outputs": [],
   "source": [
    "df_pr = pd.read_csv(\"../results/data/dndscv_output_immune_genes_pcawg.tsv.gz\",sep=\"\\t\")\n",
    "df_pr.to_csv(\"../results/supp_tables/supp_table_5_pcawg_muts.tsv\",index=False,sep=\"\\t\")"
   ]
  },
  {
   "cell_type": "markdown",
   "id": "e12136ff",
   "metadata": {},
   "source": [
    "##### CNV, metastatic"
   ]
  },
  {
   "cell_type": "code",
   "execution_count": 43,
   "id": "80146409",
   "metadata": {},
   "outputs": [],
   "source": [
    "df_met = pd.read_csv(\"../results/data/raw_results_cnv_hartwig.tsv.gz\",sep=\"\\t\")\n",
    "df_met.to_csv(\"../results/supp_tables/supp_table_5_hartwig_cnv.tsv\",index=False,sep=\"\\t\")"
   ]
  },
  {
   "cell_type": "markdown",
   "id": "717298a8",
   "metadata": {},
   "source": [
    "##### CNV, primary"
   ]
  },
  {
   "cell_type": "code",
   "execution_count": 50,
   "id": "23c7e368",
   "metadata": {},
   "outputs": [],
   "source": [
    "df_pr = pd.read_csv(\"../results/data/raw_results_cnv_pcawg.tsv.gz\",sep=\"\\t\")\n",
    "df_pr[\"odds_ratio_global\"]=df_pr[\"odds_ratio_global\"].astype(float)\n",
    "df_pr.to_csv(\"../results/supp_tables/supp_table_5_pcawg_cnv.tsv\",index=False,sep=\"\\t\")"
   ]
  },
  {
   "cell_type": "markdown",
   "id": "94173b84",
   "metadata": {},
   "source": [
    "# Supp Table 6"
   ]
  },
  {
   "cell_type": "markdown",
   "id": "7352f775",
   "metadata": {},
   "source": [
    "##### tumor mutation burden features"
   ]
  },
  {
   "cell_type": "code",
   "execution_count": 54,
   "id": "48dec2c1",
   "metadata": {},
   "outputs": [],
   "source": [
    "df_tmb = pd.read_csv(\"../results/data/features_correlation/sample_specific_info_tmb_full_data.tsv\",sep=\"\\t\")\n",
    "df_tmb.to_csv(\"../results/supp_tables/supp_table_6_tmb.tsv\",index=False,sep=\"\\t\")"
   ]
  },
  {
   "cell_type": "markdown",
   "id": "306e4840",
   "metadata": {},
   "source": [
    "##### mutational signatures exposure"
   ]
  },
  {
   "cell_type": "code",
   "execution_count": 55,
   "id": "2d36d64f",
   "metadata": {},
   "outputs": [],
   "source": [
    "df_mut_sig = pd.read_csv(\"../results/data/features_correlation/mutational_signatures_exposure.tsv\",sep=\"\\t\")\n",
    "df_mut_sig.to_csv(\"../results/supp_tables/supp_table_6_sig_exposure.tsv\",index=False,sep=\"\\t\")"
   ]
  },
  {
   "cell_type": "markdown",
   "id": "4788ee43",
   "metadata": {},
   "source": [
    "##### mutational siangures metadata"
   ]
  },
  {
   "cell_type": "code",
   "execution_count": 56,
   "id": "8b45ebaa",
   "metadata": {},
   "outputs": [],
   "source": [
    "df_mut_sig = pd.read_csv(\"../results/data/sig_metadata.post_processed.with_etiologies.txt.gz\",sep=\"\\t\")\n",
    "df_mut_sig.to_csv(\"../results/supp_tables/supp_table_6_sig_metadata.tsv\",index=False,sep=\"\\t\")"
   ]
  },
  {
   "cell_type": "markdown",
   "id": "866b46ed",
   "metadata": {},
   "source": [
    "##### immune infiltration metadata"
   ]
  },
  {
   "cell_type": "code",
   "execution_count": 57,
   "id": "cb0b091a",
   "metadata": {},
   "outputs": [],
   "source": [
    "df_imi = pd.read_csv(\"../results/data/features_correlation/immune_infiltration_stats.tsv\",sep=\"\\t\")\n",
    "df_imi.to_csv(\"../results/supp_tables/supp_table_6_imi.tsv\",index=False,sep=\"\\t\")"
   ]
  },
  {
   "cell_type": "markdown",
   "id": "81a24760",
   "metadata": {},
   "source": [
    "##### HLA-supertypes"
   ]
  },
  {
   "cell_type": "code",
   "execution_count": 58,
   "id": "7fbabbdf",
   "metadata": {},
   "outputs": [],
   "source": [
    "df_sts = pd.read_csv(\"../results/data/features_correlation/supertypes_per_sample.tsv\",sep=\"\\t\")\n",
    "df_sts.to_csv(\"../results/supp_tables/supp_table_6_sts.tsv\",index=False,sep=\"\\t\")"
   ]
  },
  {
   "cell_type": "markdown",
   "id": "819732ea",
   "metadata": {},
   "source": [
    "##### Pre-treatment"
   ]
  },
  {
   "cell_type": "code",
   "execution_count": 59,
   "id": "ce7d9e22",
   "metadata": {},
   "outputs": [],
   "source": [
    "df_sts = pd.read_csv(\"../results/data/features_correlation/pretreatment_info.tsv\",sep=\"\\t\")\n",
    "df_sts.to_csv(\"../results/supp_tables/supp_table_6_preteatment.tsv\",index=False,sep=\"\\t\")"
   ]
  },
  {
   "cell_type": "markdown",
   "id": "ecc63c1c",
   "metadata": {},
   "source": [
    "##### Drivers"
   ]
  },
  {
   "cell_type": "code",
   "execution_count": 76,
   "id": "ea747dfe",
   "metadata": {},
   "outputs": [],
   "source": [
    "df_drivers = pd.read_csv(\"../results/data/features_correlation/drivers_per_sample.tsv.gz\",sep=\"\\t\")\n",
    "df_meta = pd.read_csv(\"../metadata/dataset_metadata_supp_table3.tsv\",sep=\"\\t\")\n",
    "df_meta=df_meta[df_meta[\"is_selected\"]==True]\n",
    "df_drivers = df_drivers.merge(df_meta[[\"sample_id\",\"sample_id_2\",\"cohort\"]])\n",
    "df_drivers[\"sample_id\"] = df_drivers.apply(lambda r: r[\"sample_id_2\"] if r[\"cohort\"] == \"Hartwig\" else r[\"sample_id\"],axis=1)\n",
    "columns=[\"gene\",\"sample_id\",\"driverLikelihood\",\"driver\",\"chromosome\",\"chromosomeBand\"]\n",
    "df_drivers[columns].to_csv(\"../results/supp_tables/supp_table_6_drivers.tsv\",index=False,sep=\"\\t\")"
   ]
  },
  {
   "cell_type": "markdown",
   "id": "036d7bc5",
   "metadata": {},
   "source": [
    "##### Other features"
   ]
  },
  {
   "cell_type": "code",
   "execution_count": 81,
   "id": "66a2a9dd",
   "metadata": {},
   "outputs": [
    {
     "name": "stderr",
     "output_type": "stream",
     "text": [
      "/home/fran/miniconda3/envs/global/lib/python3.6/site-packages/IPython/core/interactiveshell.py:3051: DtypeWarning: Columns (16,17,19,20,142) have mixed types.Specify dtype option on import or set low_memory=False.\n",
      "  interactivity=interactivity, compiler=compiler, result=result)\n"
     ]
    }
   ],
   "source": [
    "df_viral = pd.read_csv(\"../results/data/features_correlation/sample_specific_info_viral_integration.tsv\",sep=\"\\t\")\n",
    "df = pd.read_csv(\"../results/data/processed_hmf_escape_info.tsv.gz\",sep=\"\\t\")[[\"sample_id_2\",\"avg_divergence_germline\",\"sum_diversity_germline\"]]\n",
    "df1 = pd.read_csv(\"../results/data/processed_pcawg_escape_info.tsv.gz\",sep=\"\\t\")[[\"sample_id_2\",\"avg_divergence_germline\",\"sum_diversity_germline\"]]\n",
    "t = pd.concat([df,df1])\n",
    "df_viral = df_viral.merge(t)\n",
    "df_meta[\"sample_id_2\"] = df_meta.apply(lambda r: r[\"sample_id_2\"] if r[\"cohort\"] == \"Hartwig\" else r[\"sample_id\"],axis=1)\n",
    "df_viral.merge(df_meta[[\"sample_id_2\",\"msi_status\",\"hr_status\",\"whole_genome_duplication\"]]).to_csv(\"../results/supp_tables/supp_table_6_drivers.tsv\",index=False,sep=\"\\t\")"
   ]
  },
  {
   "cell_type": "code",
   "execution_count": 68,
   "id": "bfb15833",
   "metadata": {},
   "outputs": [
    {
     "ename": "NameError",
     "evalue": "name 'df_viral' is not defined",
     "output_type": "error",
     "traceback": [
      "\u001b[0;31m---------------------------------------------------------------------------\u001b[0m",
      "\u001b[0;31mNameError\u001b[0m                                 Traceback (most recent call last)",
      "\u001b[0;32m<ipython-input-68-7d301c49c3c6>\u001b[0m in \u001b[0;36m<module>\u001b[0;34m\u001b[0m\n\u001b[0;32m----> 1\u001b[0;31m \u001b[0mdf_viral\u001b[0m\u001b[0;34m\u001b[0m\u001b[0;34m\u001b[0m\u001b[0m\n\u001b[0m",
      "\u001b[0;31mNameError\u001b[0m: name 'df_viral' is not defined"
     ]
    }
   ],
   "source": [
    "df_viral"
   ]
  },
  {
   "cell_type": "code",
   "execution_count": null,
   "id": "ff6aaa42",
   "metadata": {},
   "outputs": [],
   "source": []
  }
 ],
 "metadata": {
  "kernelspec": {
   "display_name": "Python 3",
   "language": "python",
   "name": "python3"
  },
  "language_info": {
   "codemirror_mode": {
    "name": "ipython",
    "version": 3
   },
   "file_extension": ".py",
   "mimetype": "text/x-python",
   "name": "python",
   "nbconvert_exporter": "python",
   "pygments_lexer": "ipython3",
   "version": "3.6.9"
  },
  "widgets": {
   "application/vnd.jupyter.widget-state+json": {
    "state": {},
    "version_major": 2,
    "version_minor": 0
   }
  }
 },
 "nbformat": 4,
 "nbformat_minor": 5
}
