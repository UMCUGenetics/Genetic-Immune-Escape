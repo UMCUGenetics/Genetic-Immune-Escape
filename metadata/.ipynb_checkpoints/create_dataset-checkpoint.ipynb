{
 "cells": [
  {
   "cell_type": "code",
   "execution_count": 1,
   "metadata": {},
   "outputs": [],
   "source": [
    "import os\n",
    "import pandas as pd"
   ]
  },
  {
   "cell_type": "markdown",
   "metadata": {},
   "source": [
    "### Read dataset"
   ]
  },
  {
   "cell_type": "code",
   "execution_count": 4,
   "metadata": {},
   "outputs": [],
   "source": [
    "# dfm = pd.read_csv(\"../metadata/internal_dataset_info.tsv\",sep=\"\\t\")\n",
    "#dict_keys=dfm[dfm[\"cohort\"]==\"HMF\"][[\"sample_id_2\",\"sample_id\"]].set_index(\"sample_id_2\").to_dict()[\"sample_id\"]"
   ]
  },
  {
   "cell_type": "code",
   "execution_count": 5,
   "metadata": {},
   "outputs": [
    {
     "name": "stdout",
     "output_type": "stream",
     "text": [
      "-rw-rw-r-- 1 fran fran 2036007 sep 20 13:02 '../metadata/SuppTable1_sample_metadata - metadata.tsv'\n"
     ]
    }
   ],
   "source": [
    "!ls -all ../metadata/SuppTable1_*"
   ]
  },
  {
   "cell_type": "code",
   "execution_count": 22,
   "metadata": {},
   "outputs": [],
   "source": [
    "df = pd.read_csv(\"../metadata/SuppTable1_sample_metadata - metadata.tsv\",sep=\"\\t\")"
   ]
  },
  {
   "cell_type": "markdown",
   "metadata": {},
   "source": [
    "### Add annotation LILAC output"
   ]
  },
  {
   "cell_type": "code",
   "execution_count": 7,
   "metadata": {},
   "outputs": [],
   "source": [
    "qc_samples = []\n",
    "for sample in set(df[(df[\"cohort\"]==\"Hartwig\")][\"sample_id\"]): \n",
    "    #if os.path.exists(f\"/home/fran/Documents/cuppen/HPC/tunnel//cuppen/projects/P0020_genetics_immune_escape/large_scale_primary_met/processed/hmf/lilac/{sample}/{sample}.lilac.csv.gz\"):\n",
    "    try:\n",
    "        k = f\"/home/fran/Documents/cuppen/HPC/tunnel//cuppen/projects/P0020_genetics_immune_escape/large_scale_primary_met/processed/hmf/lilac/{sample}/{sample}.lilac.qc.csv.gz\"\n",
    "        lilac_status=pd.read_csv(k,sep=\",\")[\"Status\"].values[0]\n",
    "        qc_samples.append((sample,lilac_status))\n",
    "    except:\n",
    "        continue\n",
    "        "
   ]
  },
  {
   "cell_type": "code",
   "execution_count": 8,
   "metadata": {},
   "outputs": [],
   "source": [
    "for sample in set(df[(df[\"cohort\"]==\"PCAWG\")][\"sample_id\"]): \n",
    "    #if os.path.exists(f\"/home/fran/Documents/cuppen/HPC/tunnel//cuppen/projects/P0020_genetics_immune_escape/large_scale_primary_met/processed/hmf/lilac/{sample}/{sample}.lilac.csv.gz\"):\n",
    "    try:\n",
    "        k = f\"/home/fran/Documents/cuppen/HPC/tunnel//cuppen/projects/P0020_genetics_immune_escape/large_scale_primary_met/processed/pcawg/lilac/{sample}/{sample}.lilac.qc.csv.gz\"\n",
    "        lilac_status=pd.read_csv(k,sep=\",\")[\"Status\"].values[0]\n",
    "        qc_samples.append((sample,lilac_status))\n",
    "    except:\n",
    "        continue\n",
    "        "
   ]
  },
  {
   "cell_type": "code",
   "execution_count": 9,
   "metadata": {},
   "outputs": [],
   "source": [
    "lilac = pd.DataFrame(qc_samples,columns=[\"sample_id\",\"lilac_status\"])\n",
    "lilac[\"has_lilac\"] = True"
   ]
  },
  {
   "cell_type": "code",
   "execution_count": 10,
   "metadata": {},
   "outputs": [],
   "source": [
    "df=df.merge(lilac,how=\"left\").fillna({\"has_lilac\":False})\n"
   ]
  },
  {
   "cell_type": "markdown",
   "metadata": {},
   "source": [
    "# Annotate blacklist for this project"
   ]
  },
  {
   "cell_type": "code",
   "execution_count": 11,
   "metadata": {},
   "outputs": [
    {
     "data": {
      "text/plain": [
       "<15 samples in HMF or PCAWG                                         1025\n",
       "Duplicate biopsy                                                     258\n",
       "PCAWG blacklist                                                      250\n",
       "Purity <0.2                                                          131\n",
       "CUP                                                                  108\n",
       "Not available for reuse because of insufficient informed consent      43\n",
       "No pipeline output                                                    35\n",
       "Missing aliquot id in HMF pipeline 5 run                              22\n",
       "Corrupt HMF pipeline 5 run                                            10\n",
       "SV INV outlier                                                         5\n",
       "Insufficient informed consent                                          4\n",
       "No PURPLE 2.53 or LINX 1.14 output                                     4\n",
       "Lack of purple output                                                  3\n",
       "Duplicate DO217844                                                     1\n",
       "<50 SMNVs                                                              1\n",
       "Missing metadata, potentially normal sample                            1\n",
       "Missing aliquot id in HMF pipeline 5 run, PCAWG blacklist              1\n",
       "Name: blacklist_comment, dtype: int64"
      ]
     },
     "execution_count": 11,
     "metadata": {},
     "output_type": "execute_result"
    }
   ],
   "source": [
    "df[\"blacklist_comment\"].value_counts()"
   ]
  },
  {
   "cell_type": "code",
   "execution_count": 12,
   "metadata": {},
   "outputs": [],
   "source": [
    "def perform_blacklisting(row):\n",
    "    \n",
    "    if row[\"cancer_type_code\"] == \"MPDS\": # not considered a tumor stage\n",
    "        return pd.Series([True,\"pre-cancerous stage\"])\n",
    "    if row[\"blacklist_comment\"] == \"<15 samples in HMF or PCAWG\" and row[\"n_biopsies_in_patient\"] >1 and row[\"n_cancer_types_in_patient\"] == 1 and row[\"tumor_purity_rank\"] >1:\n",
    "        return pd.Series([True,\"Duplicate biopsy\"]) # in this case we do not filter out samples from patients with cancer types with low representation, need to apply de-duplication\n",
    "    elif row[\"has_lilac\"] == False:\n",
    "        return pd.Series([True,\"LILAC does not provided output\"])\n",
    "    elif row[\"lilac_status\"] == \"FAIL\":\n",
    "        return pd.Series([True,\"Fail to pass quality control from LILAC\"])\n",
    "    elif not(row[\"is_blacklisted\"]): \n",
    "        return pd.Series([False,\"\"])\n",
    "    elif row[\"blacklist_comment\"] == \"<15 samples in HMF or PCAWG\" or row[\"blacklist_comment\"] == \"CUP\":\n",
    "        return pd.Series([False,\"\"])\n",
    "    return pd.Series([row[\"is_blacklisted\"],row[\"blacklist_comment\"]])\n",
    "df[[\"blacklisted_gie\",\"blacklist_gie_comment\"]] = df.apply(lambda row: perform_blacklisting(row),axis=1)\n",
    "df[\"is_selected\"] = df.apply(lambda row: not(row[\"blacklisted_gie\"]),axis=1 ) # not blacklisted and LILAC avaliable"
   ]
  },
  {
   "cell_type": "code",
   "execution_count": 13,
   "metadata": {},
   "outputs": [
    {
     "data": {
      "text/plain": [
       "PCAWG      955\n",
       "Hartwig    345\n",
       "Name: cohort, dtype: int64"
      ]
     },
     "execution_count": 13,
     "metadata": {},
     "output_type": "execute_result"
    }
   ],
   "source": [
    "df[(~df[\"is_selected\"])][\"cohort\"].value_counts() # samples removed because lack of LILAC coverage"
   ]
  },
  {
   "cell_type": "code",
   "execution_count": 14,
   "metadata": {},
   "outputs": [
    {
     "data": {
      "text/plain": [
       "(4439, 51)"
      ]
     },
     "execution_count": 14,
     "metadata": {},
     "output_type": "execute_result"
    }
   ],
   "source": [
    "df[(df[\"is_selected\"])&(df[\"cohort\"]==\"Hartwig\")].shape"
   ]
  },
  {
   "cell_type": "code",
   "execution_count": 15,
   "metadata": {},
   "outputs": [
    {
     "data": {
      "text/plain": [
       "LILAC does not provided output                                      659\n",
       "Duplicate biopsy                                                    291\n",
       "Purity <0.2                                                          98\n",
       "PCAWG blacklist                                                      93\n",
       "Fail to pass quality control from LILAC                              80\n",
       "Not available for reuse because of insufficient informed consent     43\n",
       "pre-cancerous stage                                                  23\n",
       "Insufficient informed consent                                         4\n",
       "SV INV outlier                                                        3\n",
       "Lack of purple output                                                 3\n",
       "Duplicate DO217844                                                    1\n",
       "<50 SMNVs                                                             1\n",
       "Missing aliquot id in HMF pipeline 5 run                              1\n",
       "Name: blacklist_gie_comment, dtype: int64"
      ]
     },
     "execution_count": 15,
     "metadata": {},
     "output_type": "execute_result"
    }
   ],
   "source": [
    "df[(~df[\"is_selected\"])][\"blacklist_gie_comment\"].value_counts() # samples removed because lack of LILAC coverage"
   ]
  },
  {
   "cell_type": "markdown",
   "metadata": {},
   "source": [
    "### define group for mutational signatures and cohort analysis"
   ]
  },
  {
   "cell_type": "markdown",
   "metadata": {},
   "source": [
    "##### for positive selection requieres cohort AND group >= 15 samples"
   ]
  },
  {
   "cell_type": "code",
   "execution_count": 16,
   "metadata": {},
   "outputs": [],
   "source": [
    "summ_cohort = df[(df[\"is_selected\"])].groupby([\"cohort\",\"cancer_type_code\"]).agg({\"sample_id\":\"count\"})\n",
    "df[\"has_group_cohort\"] = df.apply(lambda row: summ_cohort.loc[(row[\"cohort\"],row[\"cancer_type_code\"])]>=15 if row[\"is_selected\"] else False ,axis=1)"
   ]
  },
  {
   "cell_type": "markdown",
   "metadata": {},
   "source": [
    "##### for mutational signatures we group them, so >= 30 samples in total"
   ]
  },
  {
   "cell_type": "code",
   "execution_count": 17,
   "metadata": {},
   "outputs": [],
   "source": [
    "summ_cohort = df[(df[\"is_selected\"])].groupby([\"cancer_type_code\"]).agg({\"sample_id\":\"count\"})\n",
    "df[\"has_group_mut_signatures\"] = df.apply(lambda row: summ_cohort.loc[row[\"cancer_type_code\"]]>=30 if row[\"is_selected\"] else False,axis=1)"
   ]
  },
  {
   "cell_type": "markdown",
   "metadata": {},
   "source": [
    "### Counts originals"
   ]
  },
  {
   "cell_type": "code",
   "execution_count": 18,
   "metadata": {},
   "outputs": [
    {
     "data": {
      "text/plain": [
       "(2835, 53)"
      ]
     },
     "execution_count": 18,
     "metadata": {},
     "output_type": "execute_result"
    }
   ],
   "source": [
    "df[(df[\"cohort\"]==\"PCAWG\")].shape"
   ]
  },
  {
   "cell_type": "code",
   "execution_count": 19,
   "metadata": {},
   "outputs": [
    {
     "data": {
      "text/plain": [
       "(1880, 53)"
      ]
     },
     "execution_count": 19,
     "metadata": {},
     "output_type": "execute_result"
    }
   ],
   "source": [
    "df[(df[\"cohort\"]==\"PCAWG\")&(df[\"blacklisted_gie\"]==False)].shape"
   ]
  },
  {
   "cell_type": "code",
   "execution_count": 20,
   "metadata": {},
   "outputs": [
    {
     "data": {
      "text/plain": [
       "(2173, 53)"
      ]
     },
     "execution_count": 20,
     "metadata": {},
     "output_type": "execute_result"
    }
   ],
   "source": [
    "df[(df[\"cohort\"]==\"PCAWG\")&(df[\"has_lilac\"])].shape"
   ]
  },
  {
   "cell_type": "code",
   "execution_count": 21,
   "metadata": {},
   "outputs": [
    {
     "data": {
      "text/plain": [
       "(1880, 53)"
      ]
     },
     "execution_count": 21,
     "metadata": {},
     "output_type": "execute_result"
    }
   ],
   "source": [
    "df[(df[\"cohort\"]==\"PCAWG\")&(df[\"is_selected\"])].shape"
   ]
  },
  {
   "cell_type": "markdown",
   "metadata": {},
   "source": [
    "### HMF counts"
   ]
  },
  {
   "cell_type": "code",
   "execution_count": 22,
   "metadata": {},
   "outputs": [
    {
     "data": {
      "text/plain": [
       "(4784, 53)"
      ]
     },
     "execution_count": 22,
     "metadata": {},
     "output_type": "execute_result"
    }
   ],
   "source": [
    "df[(df[\"cohort\"]==\"Hartwig\")].shape"
   ]
  },
  {
   "cell_type": "code",
   "execution_count": 23,
   "metadata": {},
   "outputs": [
    {
     "data": {
      "text/plain": [
       "4439"
      ]
     },
     "execution_count": 23,
     "metadata": {},
     "output_type": "execute_result"
    }
   ],
   "source": [
    "df[(df[\"cohort\"]==\"Hartwig\")&(df[\"blacklisted_gie\"]==False)].shape[0]"
   ]
  },
  {
   "cell_type": "code",
   "execution_count": 24,
   "metadata": {},
   "outputs": [
    {
     "data": {
      "text/plain": [
       "4439"
      ]
     },
     "execution_count": 24,
     "metadata": {},
     "output_type": "execute_result"
    }
   ],
   "source": [
    "df[(df[\"cohort\"]==\"Hartwig\")&(df[\"blacklisted_gie\"]==False)&(df[\"has_lilac\"])].shape[0]"
   ]
  },
  {
   "cell_type": "markdown",
   "metadata": {},
   "source": [
    "# Now process the cohorts names"
   ]
  },
  {
   "cell_type": "code",
   "execution_count": 25,
   "metadata": {},
   "outputs": [],
   "source": [
    "summary_cohort=df[df[\"is_selected\"]].groupby([\"cancer_type\",\"cancer_type_code\",\"cohort\"],as_index=False).agg({\"sample_id\":\"count\"}).rename(columns={\"sample_id\":\"number_of_samples\"}).pivot_table(index=[\"cancer_type\",\"cancer_type_code\"],values=\"number_of_samples\",columns=\"cohort\").fillna(0)\n",
    "summary_cohort[\"group_HMF\"] = summary_cohort.apply(lambda row: row[\"Hartwig\"] >=15 and row.name[0] != \"CUP\",axis=1)\n",
    "summary_cohort[\"group_PCAWG\"] = summary_cohort[\"PCAWG\"] >=15\n",
    "summary_cohort[\"hmf_and_pcawg\"] =summary_cohort[\"group_HMF\"] & summary_cohort[\"group_PCAWG\"]\n",
    "summary_cohort.to_csv(\"table_cancer_types_info.tsv\",sep=\"\\t\",index=True)"
   ]
  },
  {
   "cell_type": "code",
   "execution_count": 26,
   "metadata": {},
   "outputs": [
    {
     "data": {
      "text/html": [
       "<div>\n",
       "<style scoped>\n",
       "    .dataframe tbody tr th:only-of-type {\n",
       "        vertical-align: middle;\n",
       "    }\n",
       "\n",
       "    .dataframe tbody tr th {\n",
       "        vertical-align: top;\n",
       "    }\n",
       "\n",
       "    .dataframe thead th {\n",
       "        text-align: right;\n",
       "    }\n",
       "</style>\n",
       "<table border=\"1\" class=\"dataframe\">\n",
       "  <thead>\n",
       "    <tr style=\"text-align: right;\">\n",
       "      <th></th>\n",
       "      <th>cohort</th>\n",
       "      <th>Hartwig</th>\n",
       "      <th>PCAWG</th>\n",
       "      <th>group_HMF</th>\n",
       "      <th>group_PCAWG</th>\n",
       "      <th>hmf_and_pcawg</th>\n",
       "    </tr>\n",
       "    <tr>\n",
       "      <th>cancer_type</th>\n",
       "      <th>cancer_type_code</th>\n",
       "      <th></th>\n",
       "      <th></th>\n",
       "      <th></th>\n",
       "      <th></th>\n",
       "      <th></th>\n",
       "    </tr>\n",
       "  </thead>\n",
       "  <tbody>\n",
       "    <tr>\n",
       "      <th>Acute myeloid leukemia</th>\n",
       "      <th>LAML</th>\n",
       "      <td>0.0</td>\n",
       "      <td>11.0</td>\n",
       "      <td>False</td>\n",
       "      <td>False</td>\n",
       "      <td>False</td>\n",
       "    </tr>\n",
       "    <tr>\n",
       "      <th>Adrenal gland cancer</th>\n",
       "      <th>ACC</th>\n",
       "      <td>5.0</td>\n",
       "      <td>0.0</td>\n",
       "      <td>False</td>\n",
       "      <td>False</td>\n",
       "      <td>False</td>\n",
       "    </tr>\n",
       "    <tr>\n",
       "      <th>Bone benign tumor</th>\n",
       "      <th>BBT</th>\n",
       "      <td>0.0</td>\n",
       "      <td>11.0</td>\n",
       "      <td>False</td>\n",
       "      <td>False</td>\n",
       "      <td>False</td>\n",
       "    </tr>\n",
       "    <tr>\n",
       "      <th>Breast cancer</th>\n",
       "      <th>BRCA</th>\n",
       "      <td>777.0</td>\n",
       "      <td>161.0</td>\n",
       "      <td>True</td>\n",
       "      <td>True</td>\n",
       "      <td>True</td>\n",
       "    </tr>\n",
       "    <tr>\n",
       "      <th>CNS cancer mixed</th>\n",
       "      <th>CNSOT</th>\n",
       "      <td>12.0</td>\n",
       "      <td>0.0</td>\n",
       "      <td>False</td>\n",
       "      <td>False</td>\n",
       "      <td>False</td>\n",
       "    </tr>\n",
       "    <tr>\n",
       "      <th>CUP</th>\n",
       "      <th>CUP</th>\n",
       "      <td>108.0</td>\n",
       "      <td>0.0</td>\n",
       "      <td>False</td>\n",
       "      <td>False</td>\n",
       "      <td>False</td>\n",
       "    </tr>\n",
       "    <tr>\n",
       "      <th>Cervix carcinoma</th>\n",
       "      <th>CESC</th>\n",
       "      <td>40.0</td>\n",
       "      <td>17.0</td>\n",
       "      <td>True</td>\n",
       "      <td>True</td>\n",
       "      <td>True</td>\n",
       "    </tr>\n",
       "    <tr>\n",
       "      <th>Cholangiocarcinoma</th>\n",
       "      <th>CHOL</th>\n",
       "      <td>66.0</td>\n",
       "      <td>10.0</td>\n",
       "      <td>True</td>\n",
       "      <td>False</td>\n",
       "      <td>False</td>\n",
       "    </tr>\n",
       "    <tr>\n",
       "      <th>Chronic lymphocytic leukemia</th>\n",
       "      <th>CLL</th>\n",
       "      <td>0.0</td>\n",
       "      <td>60.0</td>\n",
       "      <td>False</td>\n",
       "      <td>True</td>\n",
       "      <td>False</td>\n",
       "    </tr>\n",
       "    <tr>\n",
       "      <th>Colorectum carcinoma</th>\n",
       "      <th>COREAD</th>\n",
       "      <td>620.0</td>\n",
       "      <td>42.0</td>\n",
       "      <td>True</td>\n",
       "      <td>True</td>\n",
       "      <td>True</td>\n",
       "    </tr>\n",
       "    <tr>\n",
       "      <th>Diffuse large B-cell lymphoma</th>\n",
       "      <th>DLBCL</th>\n",
       "      <td>20.0</td>\n",
       "      <td>94.0</td>\n",
       "      <td>True</td>\n",
       "      <td>True</td>\n",
       "      <td>True</td>\n",
       "    </tr>\n",
       "    <tr>\n",
       "      <th>Esophagus cancer</th>\n",
       "      <th>ESCA</th>\n",
       "      <td>140.0</td>\n",
       "      <td>84.0</td>\n",
       "      <td>True</td>\n",
       "      <td>True</td>\n",
       "      <td>True</td>\n",
       "    </tr>\n",
       "    <tr>\n",
       "      <th>Eye Melanoma</th>\n",
       "      <th>UVM</th>\n",
       "      <td>1.0</td>\n",
       "      <td>0.0</td>\n",
       "      <td>False</td>\n",
       "      <td>False</td>\n",
       "      <td>False</td>\n",
       "    </tr>\n",
       "    <tr>\n",
       "      <th>Gallbladder cancer</th>\n",
       "      <th>GBC</th>\n",
       "      <td>21.0</td>\n",
       "      <td>0.0</td>\n",
       "      <td>True</td>\n",
       "      <td>False</td>\n",
       "      <td>False</td>\n",
       "    </tr>\n",
       "    <tr>\n",
       "      <th>Gastrointestinal neuroendocrine</th>\n",
       "      <th>GINET</th>\n",
       "      <td>62.0</td>\n",
       "      <td>0.0</td>\n",
       "      <td>True</td>\n",
       "      <td>False</td>\n",
       "      <td>False</td>\n",
       "    </tr>\n",
       "    <tr>\n",
       "      <th>Gastrointestinal stromal tumor</th>\n",
       "      <th>GIST</th>\n",
       "      <td>68.0</td>\n",
       "      <td>0.0</td>\n",
       "      <td>True</td>\n",
       "      <td>False</td>\n",
       "      <td>False</td>\n",
       "    </tr>\n",
       "    <tr>\n",
       "      <th>Gastrointestinal tract unknown</th>\n",
       "      <th>GISTOT</th>\n",
       "      <td>9.0</td>\n",
       "      <td>0.0</td>\n",
       "      <td>False</td>\n",
       "      <td>False</td>\n",
       "      <td>False</td>\n",
       "    </tr>\n",
       "    <tr>\n",
       "      <th>Glioblastoma multiforme</th>\n",
       "      <th>GBM</th>\n",
       "      <td>64.0</td>\n",
       "      <td>33.0</td>\n",
       "      <td>True</td>\n",
       "      <td>True</td>\n",
       "      <td>True</td>\n",
       "    </tr>\n",
       "    <tr>\n",
       "      <th>Hepatocellular carcinoma</th>\n",
       "      <th>LIHC</th>\n",
       "      <td>53.0</td>\n",
       "      <td>94.0</td>\n",
       "      <td>True</td>\n",
       "      <td>True</td>\n",
       "      <td>True</td>\n",
       "    </tr>\n",
       "    <tr>\n",
       "      <th>Kidney chromophobe cancer</th>\n",
       "      <th>KICH</th>\n",
       "      <td>0.0</td>\n",
       "      <td>42.0</td>\n",
       "      <td>False</td>\n",
       "      <td>True</td>\n",
       "      <td>False</td>\n",
       "    </tr>\n",
       "    <tr>\n",
       "      <th>Kidney clear cell carcinoma</th>\n",
       "      <th>KIRC</th>\n",
       "      <td>129.0</td>\n",
       "      <td>95.0</td>\n",
       "      <td>True</td>\n",
       "      <td>True</td>\n",
       "      <td>True</td>\n",
       "    </tr>\n",
       "    <tr>\n",
       "      <th>Kidney papilary carcinoma</th>\n",
       "      <th>KIRP</th>\n",
       "      <td>0.0</td>\n",
       "      <td>30.0</td>\n",
       "      <td>False</td>\n",
       "      <td>True</td>\n",
       "      <td>False</td>\n",
       "    </tr>\n",
       "    <tr>\n",
       "      <th>Kidney unclassified</th>\n",
       "      <th>KIOT</th>\n",
       "      <td>1.0</td>\n",
       "      <td>0.0</td>\n",
       "      <td>False</td>\n",
       "      <td>False</td>\n",
       "      <td>False</td>\n",
       "    </tr>\n",
       "    <tr>\n",
       "      <th>Leiomyosarcoma</th>\n",
       "      <th>LMS</th>\n",
       "      <td>47.0</td>\n",
       "      <td>14.0</td>\n",
       "      <td>True</td>\n",
       "      <td>False</td>\n",
       "      <td>False</td>\n",
       "    </tr>\n",
       "    <tr>\n",
       "      <th>Liposarcoma</th>\n",
       "      <th>LPS</th>\n",
       "      <td>25.0</td>\n",
       "      <td>16.0</td>\n",
       "      <td>True</td>\n",
       "      <td>True</td>\n",
       "      <td>True</td>\n",
       "    </tr>\n",
       "    <tr>\n",
       "      <th>Lung cancer mixed</th>\n",
       "      <th>LUOT</th>\n",
       "      <td>1.0</td>\n",
       "      <td>0.0</td>\n",
       "      <td>False</td>\n",
       "      <td>False</td>\n",
       "      <td>False</td>\n",
       "    </tr>\n",
       "    <tr>\n",
       "      <th>Lung neuroendocrine</th>\n",
       "      <th>LUNET</th>\n",
       "      <td>22.0</td>\n",
       "      <td>0.0</td>\n",
       "      <td>True</td>\n",
       "      <td>False</td>\n",
       "      <td>False</td>\n",
       "    </tr>\n",
       "    <tr>\n",
       "      <th>Lymphoma mixed</th>\n",
       "      <th>LYOT</th>\n",
       "      <td>5.0</td>\n",
       "      <td>0.0</td>\n",
       "      <td>False</td>\n",
       "      <td>False</td>\n",
       "      <td>False</td>\n",
       "    </tr>\n",
       "    <tr>\n",
       "      <th>Medulloblastoma</th>\n",
       "      <th>MBL</th>\n",
       "      <td>1.0</td>\n",
       "      <td>106.0</td>\n",
       "      <td>False</td>\n",
       "      <td>True</td>\n",
       "      <td>False</td>\n",
       "    </tr>\n",
       "    <tr>\n",
       "      <th>Mesothelioma</th>\n",
       "      <th>MESO</th>\n",
       "      <td>38.0</td>\n",
       "      <td>0.0</td>\n",
       "      <td>True</td>\n",
       "      <td>False</td>\n",
       "      <td>False</td>\n",
       "    </tr>\n",
       "    <tr>\n",
       "      <th>Multiple myeloma</th>\n",
       "      <th>MM</th>\n",
       "      <td>2.0</td>\n",
       "      <td>0.0</td>\n",
       "      <td>False</td>\n",
       "      <td>False</td>\n",
       "      <td>False</td>\n",
       "    </tr>\n",
       "    <tr>\n",
       "      <th>Non small cell lung cancer</th>\n",
       "      <th>NSCLC</th>\n",
       "      <td>504.0</td>\n",
       "      <td>83.0</td>\n",
       "      <td>True</td>\n",
       "      <td>True</td>\n",
       "      <td>True</td>\n",
       "    </tr>\n",
       "    <tr>\n",
       "      <th>Oligodendroglioma</th>\n",
       "      <th>ODG</th>\n",
       "      <td>0.0</td>\n",
       "      <td>18.0</td>\n",
       "      <td>False</td>\n",
       "      <td>True</td>\n",
       "      <td>False</td>\n",
       "    </tr>\n",
       "    <tr>\n",
       "      <th>Osteosarcoma</th>\n",
       "      <th>OS</th>\n",
       "      <td>0.0</td>\n",
       "      <td>32.0</td>\n",
       "      <td>False</td>\n",
       "      <td>True</td>\n",
       "      <td>False</td>\n",
       "    </tr>\n",
       "    <tr>\n",
       "      <th>Ovarian cancer</th>\n",
       "      <th>OV</th>\n",
       "      <td>165.0</td>\n",
       "      <td>49.0</td>\n",
       "      <td>True</td>\n",
       "      <td>True</td>\n",
       "      <td>True</td>\n",
       "    </tr>\n",
       "    <tr>\n",
       "      <th>Pancreas carcinoma</th>\n",
       "      <th>PAAD</th>\n",
       "      <td>99.0</td>\n",
       "      <td>207.0</td>\n",
       "      <td>True</td>\n",
       "      <td>True</td>\n",
       "      <td>True</td>\n",
       "    </tr>\n",
       "    <tr>\n",
       "      <th>Pancreas neuroendocrine</th>\n",
       "      <th>PANET</th>\n",
       "      <td>37.0</td>\n",
       "      <td>77.0</td>\n",
       "      <td>True</td>\n",
       "      <td>True</td>\n",
       "      <td>True</td>\n",
       "    </tr>\n",
       "    <tr>\n",
       "      <th>Penile cancer</th>\n",
       "      <th>PNL</th>\n",
       "      <td>7.0</td>\n",
       "      <td>0.0</td>\n",
       "      <td>False</td>\n",
       "      <td>False</td>\n",
       "      <td>False</td>\n",
       "    </tr>\n",
       "    <tr>\n",
       "      <th>Pilocytic astrocytoma</th>\n",
       "      <th>PIA</th>\n",
       "      <td>1.0</td>\n",
       "      <td>42.0</td>\n",
       "      <td>False</td>\n",
       "      <td>True</td>\n",
       "      <td>False</td>\n",
       "    </tr>\n",
       "    <tr>\n",
       "      <th>Prostate carcinoma</th>\n",
       "      <th>PRAD</th>\n",
       "      <td>401.0</td>\n",
       "      <td>151.0</td>\n",
       "      <td>True</td>\n",
       "      <td>True</td>\n",
       "      <td>True</td>\n",
       "    </tr>\n",
       "    <tr>\n",
       "      <th>Salivary gland cancer</th>\n",
       "      <th>SG</th>\n",
       "      <td>30.0</td>\n",
       "      <td>0.0</td>\n",
       "      <td>True</td>\n",
       "      <td>False</td>\n",
       "      <td>False</td>\n",
       "    </tr>\n",
       "    <tr>\n",
       "      <th>Sarcoma various</th>\n",
       "      <th>SARC</th>\n",
       "      <td>128.0</td>\n",
       "      <td>7.0</td>\n",
       "      <td>True</td>\n",
       "      <td>False</td>\n",
       "      <td>False</td>\n",
       "    </tr>\n",
       "    <tr>\n",
       "      <th>Skin Basal cell carcinoma</th>\n",
       "      <th>SKBC</th>\n",
       "      <td>7.0</td>\n",
       "      <td>0.0</td>\n",
       "      <td>False</td>\n",
       "      <td>False</td>\n",
       "      <td>False</td>\n",
       "    </tr>\n",
       "    <tr>\n",
       "      <th>Skin Merkel cell carcinoma</th>\n",
       "      <th>SKME</th>\n",
       "      <td>6.0</td>\n",
       "      <td>0.0</td>\n",
       "      <td>False</td>\n",
       "      <td>False</td>\n",
       "      <td>False</td>\n",
       "    </tr>\n",
       "    <tr>\n",
       "      <th>Skin Squamous cell carcinoma</th>\n",
       "      <th>SKSC</th>\n",
       "      <td>8.0</td>\n",
       "      <td>0.0</td>\n",
       "      <td>False</td>\n",
       "      <td>False</td>\n",
       "      <td>False</td>\n",
       "    </tr>\n",
       "    <tr>\n",
       "      <th>Skin carcinoma other</th>\n",
       "      <th>SKOT</th>\n",
       "      <td>6.0</td>\n",
       "      <td>0.0</td>\n",
       "      <td>False</td>\n",
       "      <td>False</td>\n",
       "      <td>False</td>\n",
       "    </tr>\n",
       "    <tr>\n",
       "      <th>Skin melanoma</th>\n",
       "      <th>SKCM</th>\n",
       "      <td>303.0</td>\n",
       "      <td>101.0</td>\n",
       "      <td>True</td>\n",
       "      <td>True</td>\n",
       "      <td>True</td>\n",
       "    </tr>\n",
       "    <tr>\n",
       "      <th>Small cell lung cancer</th>\n",
       "      <th>SCLC</th>\n",
       "      <td>51.0</td>\n",
       "      <td>0.0</td>\n",
       "      <td>True</td>\n",
       "      <td>False</td>\n",
       "      <td>False</td>\n",
       "    </tr>\n",
       "    <tr>\n",
       "      <th>Small intestine cancer</th>\n",
       "      <th>SIAD</th>\n",
       "      <td>13.0</td>\n",
       "      <td>0.0</td>\n",
       "      <td>False</td>\n",
       "      <td>False</td>\n",
       "      <td>False</td>\n",
       "    </tr>\n",
       "    <tr>\n",
       "      <th>Stomach cancer</th>\n",
       "      <th>STAD</th>\n",
       "      <td>43.0</td>\n",
       "      <td>53.0</td>\n",
       "      <td>True</td>\n",
       "      <td>True</td>\n",
       "      <td>True</td>\n",
       "    </tr>\n",
       "    <tr>\n",
       "      <th>Testis cancer</th>\n",
       "      <th>TEST</th>\n",
       "      <td>5.0</td>\n",
       "      <td>0.0</td>\n",
       "      <td>False</td>\n",
       "      <td>False</td>\n",
       "      <td>False</td>\n",
       "    </tr>\n",
       "    <tr>\n",
       "      <th>Thymus carcinoma</th>\n",
       "      <th>THYM</th>\n",
       "      <td>8.0</td>\n",
       "      <td>0.0</td>\n",
       "      <td>False</td>\n",
       "      <td>False</td>\n",
       "      <td>False</td>\n",
       "    </tr>\n",
       "    <tr>\n",
       "      <th>Thymus neuroendocrine</th>\n",
       "      <th>THYMNET</th>\n",
       "      <td>1.0</td>\n",
       "      <td>0.0</td>\n",
       "      <td>False</td>\n",
       "      <td>False</td>\n",
       "      <td>False</td>\n",
       "    </tr>\n",
       "    <tr>\n",
       "      <th>Thyroid cancer</th>\n",
       "      <th>THCA</th>\n",
       "      <td>22.0</td>\n",
       "      <td>43.0</td>\n",
       "      <td>True</td>\n",
       "      <td>True</td>\n",
       "      <td>True</td>\n",
       "    </tr>\n",
       "    <tr>\n",
       "      <th>Upper respiratory tract cancer</th>\n",
       "      <th>HNSC</th>\n",
       "      <td>38.0</td>\n",
       "      <td>46.0</td>\n",
       "      <td>True</td>\n",
       "      <td>True</td>\n",
       "      <td>True</td>\n",
       "    </tr>\n",
       "    <tr>\n",
       "      <th>Urothelial cancer</th>\n",
       "      <th>BLCA</th>\n",
       "      <td>173.0</td>\n",
       "      <td>23.0</td>\n",
       "      <td>True</td>\n",
       "      <td>True</td>\n",
       "      <td>True</td>\n",
       "    </tr>\n",
       "    <tr>\n",
       "      <th>Uterus carcinoma</th>\n",
       "      <th>UCEC</th>\n",
       "      <td>33.0</td>\n",
       "      <td>28.0</td>\n",
       "      <td>True</td>\n",
       "      <td>True</td>\n",
       "      <td>True</td>\n",
       "    </tr>\n",
       "    <tr>\n",
       "      <th>Vulva and vagina cancer</th>\n",
       "      <th>VULV</th>\n",
       "      <td>13.0</td>\n",
       "      <td>0.0</td>\n",
       "      <td>False</td>\n",
       "      <td>False</td>\n",
       "      <td>False</td>\n",
       "    </tr>\n",
       "  </tbody>\n",
       "</table>\n",
       "</div>"
      ],
      "text/plain": [
       "cohort                                            Hartwig  PCAWG  group_HMF  \\\n",
       "cancer_type                     cancer_type_code                              \n",
       "Acute myeloid leukemia          LAML                  0.0   11.0      False   \n",
       "Adrenal gland cancer            ACC                   5.0    0.0      False   \n",
       "Bone benign tumor               BBT                   0.0   11.0      False   \n",
       "Breast cancer                   BRCA                777.0  161.0       True   \n",
       "CNS cancer mixed                CNSOT                12.0    0.0      False   \n",
       "CUP                             CUP                 108.0    0.0      False   \n",
       "Cervix carcinoma                CESC                 40.0   17.0       True   \n",
       "Cholangiocarcinoma              CHOL                 66.0   10.0       True   \n",
       "Chronic lymphocytic leukemia    CLL                   0.0   60.0      False   \n",
       "Colorectum carcinoma            COREAD              620.0   42.0       True   \n",
       "Diffuse large B-cell lymphoma   DLBCL                20.0   94.0       True   \n",
       "Esophagus cancer                ESCA                140.0   84.0       True   \n",
       "Eye Melanoma                    UVM                   1.0    0.0      False   \n",
       "Gallbladder cancer              GBC                  21.0    0.0       True   \n",
       "Gastrointestinal neuroendocrine GINET                62.0    0.0       True   \n",
       "Gastrointestinal stromal tumor  GIST                 68.0    0.0       True   \n",
       "Gastrointestinal tract unknown  GISTOT                9.0    0.0      False   \n",
       "Glioblastoma multiforme         GBM                  64.0   33.0       True   \n",
       "Hepatocellular carcinoma        LIHC                 53.0   94.0       True   \n",
       "Kidney chromophobe cancer       KICH                  0.0   42.0      False   \n",
       "Kidney clear cell carcinoma     KIRC                129.0   95.0       True   \n",
       "Kidney papilary carcinoma       KIRP                  0.0   30.0      False   \n",
       "Kidney unclassified             KIOT                  1.0    0.0      False   \n",
       "Leiomyosarcoma                  LMS                  47.0   14.0       True   \n",
       "Liposarcoma                     LPS                  25.0   16.0       True   \n",
       "Lung cancer mixed               LUOT                  1.0    0.0      False   \n",
       "Lung neuroendocrine             LUNET                22.0    0.0       True   \n",
       "Lymphoma mixed                  LYOT                  5.0    0.0      False   \n",
       "Medulloblastoma                 MBL                   1.0  106.0      False   \n",
       "Mesothelioma                    MESO                 38.0    0.0       True   \n",
       "Multiple myeloma                MM                    2.0    0.0      False   \n",
       "Non small cell lung cancer      NSCLC               504.0   83.0       True   \n",
       "Oligodendroglioma               ODG                   0.0   18.0      False   \n",
       "Osteosarcoma                    OS                    0.0   32.0      False   \n",
       "Ovarian cancer                  OV                  165.0   49.0       True   \n",
       "Pancreas carcinoma              PAAD                 99.0  207.0       True   \n",
       "Pancreas neuroendocrine         PANET                37.0   77.0       True   \n",
       "Penile cancer                   PNL                   7.0    0.0      False   \n",
       "Pilocytic astrocytoma           PIA                   1.0   42.0      False   \n",
       "Prostate carcinoma              PRAD                401.0  151.0       True   \n",
       "Salivary gland cancer           SG                   30.0    0.0       True   \n",
       "Sarcoma various                 SARC                128.0    7.0       True   \n",
       "Skin Basal cell carcinoma       SKBC                  7.0    0.0      False   \n",
       "Skin Merkel cell carcinoma      SKME                  6.0    0.0      False   \n",
       "Skin Squamous cell carcinoma    SKSC                  8.0    0.0      False   \n",
       "Skin carcinoma other            SKOT                  6.0    0.0      False   \n",
       "Skin melanoma                   SKCM                303.0  101.0       True   \n",
       "Small cell lung cancer          SCLC                 51.0    0.0       True   \n",
       "Small intestine cancer          SIAD                 13.0    0.0      False   \n",
       "Stomach cancer                  STAD                 43.0   53.0       True   \n",
       "Testis cancer                   TEST                  5.0    0.0      False   \n",
       "Thymus carcinoma                THYM                  8.0    0.0      False   \n",
       "Thymus neuroendocrine           THYMNET               1.0    0.0      False   \n",
       "Thyroid cancer                  THCA                 22.0   43.0       True   \n",
       "Upper respiratory tract cancer  HNSC                 38.0   46.0       True   \n",
       "Urothelial cancer               BLCA                173.0   23.0       True   \n",
       "Uterus carcinoma                UCEC                 33.0   28.0       True   \n",
       "Vulva and vagina cancer         VULV                 13.0    0.0      False   \n",
       "\n",
       "cohort                                            group_PCAWG  hmf_and_pcawg  \n",
       "cancer_type                     cancer_type_code                              \n",
       "Acute myeloid leukemia          LAML                    False          False  \n",
       "Adrenal gland cancer            ACC                     False          False  \n",
       "Bone benign tumor               BBT                     False          False  \n",
       "Breast cancer                   BRCA                     True           True  \n",
       "CNS cancer mixed                CNSOT                   False          False  \n",
       "CUP                             CUP                     False          False  \n",
       "Cervix carcinoma                CESC                     True           True  \n",
       "Cholangiocarcinoma              CHOL                    False          False  \n",
       "Chronic lymphocytic leukemia    CLL                      True          False  \n",
       "Colorectum carcinoma            COREAD                   True           True  \n",
       "Diffuse large B-cell lymphoma   DLBCL                    True           True  \n",
       "Esophagus cancer                ESCA                     True           True  \n",
       "Eye Melanoma                    UVM                     False          False  \n",
       "Gallbladder cancer              GBC                     False          False  \n",
       "Gastrointestinal neuroendocrine GINET                   False          False  \n",
       "Gastrointestinal stromal tumor  GIST                    False          False  \n",
       "Gastrointestinal tract unknown  GISTOT                  False          False  \n",
       "Glioblastoma multiforme         GBM                      True           True  \n",
       "Hepatocellular carcinoma        LIHC                     True           True  \n",
       "Kidney chromophobe cancer       KICH                     True          False  \n",
       "Kidney clear cell carcinoma     KIRC                     True           True  \n",
       "Kidney papilary carcinoma       KIRP                     True          False  \n",
       "Kidney unclassified             KIOT                    False          False  \n",
       "Leiomyosarcoma                  LMS                     False          False  \n",
       "Liposarcoma                     LPS                      True           True  \n",
       "Lung cancer mixed               LUOT                    False          False  \n",
       "Lung neuroendocrine             LUNET                   False          False  \n",
       "Lymphoma mixed                  LYOT                    False          False  \n",
       "Medulloblastoma                 MBL                      True          False  \n",
       "Mesothelioma                    MESO                    False          False  \n",
       "Multiple myeloma                MM                      False          False  \n",
       "Non small cell lung cancer      NSCLC                    True           True  \n",
       "Oligodendroglioma               ODG                      True          False  \n",
       "Osteosarcoma                    OS                       True          False  \n",
       "Ovarian cancer                  OV                       True           True  \n",
       "Pancreas carcinoma              PAAD                     True           True  \n",
       "Pancreas neuroendocrine         PANET                    True           True  \n",
       "Penile cancer                   PNL                     False          False  \n",
       "Pilocytic astrocytoma           PIA                      True          False  \n",
       "Prostate carcinoma              PRAD                     True           True  \n",
       "Salivary gland cancer           SG                      False          False  \n",
       "Sarcoma various                 SARC                    False          False  \n",
       "Skin Basal cell carcinoma       SKBC                    False          False  \n",
       "Skin Merkel cell carcinoma      SKME                    False          False  \n",
       "Skin Squamous cell carcinoma    SKSC                    False          False  \n",
       "Skin carcinoma other            SKOT                    False          False  \n",
       "Skin melanoma                   SKCM                     True           True  \n",
       "Small cell lung cancer          SCLC                    False          False  \n",
       "Small intestine cancer          SIAD                    False          False  \n",
       "Stomach cancer                  STAD                     True           True  \n",
       "Testis cancer                   TEST                    False          False  \n",
       "Thymus carcinoma                THYM                    False          False  \n",
       "Thymus neuroendocrine           THYMNET                 False          False  \n",
       "Thyroid cancer                  THCA                     True           True  \n",
       "Upper respiratory tract cancer  HNSC                     True           True  \n",
       "Urothelial cancer               BLCA                     True           True  \n",
       "Uterus carcinoma                UCEC                     True           True  \n",
       "Vulva and vagina cancer         VULV                    False          False  "
      ]
     },
     "execution_count": 26,
     "metadata": {},
     "output_type": "execute_result"
    }
   ],
   "source": [
    "summary_cohort"
   ]
  },
  {
   "cell_type": "code",
   "execution_count": 27,
   "metadata": {},
   "outputs": [
    {
     "data": {
      "text/html": [
       "<div>\n",
       "<style scoped>\n",
       "    .dataframe tbody tr th:only-of-type {\n",
       "        vertical-align: middle;\n",
       "    }\n",
       "\n",
       "    .dataframe tbody tr th {\n",
       "        vertical-align: top;\n",
       "    }\n",
       "\n",
       "    .dataframe thead th {\n",
       "        text-align: right;\n",
       "    }\n",
       "</style>\n",
       "<table border=\"1\" class=\"dataframe\">\n",
       "  <thead>\n",
       "    <tr style=\"text-align: right;\">\n",
       "      <th></th>\n",
       "      <th>cohort</th>\n",
       "      <th>Hartwig</th>\n",
       "      <th>PCAWG</th>\n",
       "      <th>group_HMF</th>\n",
       "      <th>group_PCAWG</th>\n",
       "      <th>hmf_and_pcawg</th>\n",
       "    </tr>\n",
       "    <tr>\n",
       "      <th>cancer_type</th>\n",
       "      <th>cancer_type_code</th>\n",
       "      <th></th>\n",
       "      <th></th>\n",
       "      <th></th>\n",
       "      <th></th>\n",
       "      <th></th>\n",
       "    </tr>\n",
       "  </thead>\n",
       "  <tbody>\n",
       "    <tr>\n",
       "      <th>Breast cancer</th>\n",
       "      <th>BRCA</th>\n",
       "      <td>777.0</td>\n",
       "      <td>161.0</td>\n",
       "      <td>True</td>\n",
       "      <td>True</td>\n",
       "      <td>True</td>\n",
       "    </tr>\n",
       "    <tr>\n",
       "      <th>Cervix carcinoma</th>\n",
       "      <th>CESC</th>\n",
       "      <td>40.0</td>\n",
       "      <td>17.0</td>\n",
       "      <td>True</td>\n",
       "      <td>True</td>\n",
       "      <td>True</td>\n",
       "    </tr>\n",
       "    <tr>\n",
       "      <th>Colorectum carcinoma</th>\n",
       "      <th>COREAD</th>\n",
       "      <td>620.0</td>\n",
       "      <td>42.0</td>\n",
       "      <td>True</td>\n",
       "      <td>True</td>\n",
       "      <td>True</td>\n",
       "    </tr>\n",
       "    <tr>\n",
       "      <th>Diffuse large B-cell lymphoma</th>\n",
       "      <th>DLBCL</th>\n",
       "      <td>20.0</td>\n",
       "      <td>94.0</td>\n",
       "      <td>True</td>\n",
       "      <td>True</td>\n",
       "      <td>True</td>\n",
       "    </tr>\n",
       "    <tr>\n",
       "      <th>Esophagus cancer</th>\n",
       "      <th>ESCA</th>\n",
       "      <td>140.0</td>\n",
       "      <td>84.0</td>\n",
       "      <td>True</td>\n",
       "      <td>True</td>\n",
       "      <td>True</td>\n",
       "    </tr>\n",
       "    <tr>\n",
       "      <th>Glioblastoma multiforme</th>\n",
       "      <th>GBM</th>\n",
       "      <td>64.0</td>\n",
       "      <td>33.0</td>\n",
       "      <td>True</td>\n",
       "      <td>True</td>\n",
       "      <td>True</td>\n",
       "    </tr>\n",
       "    <tr>\n",
       "      <th>Hepatocellular carcinoma</th>\n",
       "      <th>LIHC</th>\n",
       "      <td>53.0</td>\n",
       "      <td>94.0</td>\n",
       "      <td>True</td>\n",
       "      <td>True</td>\n",
       "      <td>True</td>\n",
       "    </tr>\n",
       "    <tr>\n",
       "      <th>Kidney clear cell carcinoma</th>\n",
       "      <th>KIRC</th>\n",
       "      <td>129.0</td>\n",
       "      <td>95.0</td>\n",
       "      <td>True</td>\n",
       "      <td>True</td>\n",
       "      <td>True</td>\n",
       "    </tr>\n",
       "    <tr>\n",
       "      <th>Liposarcoma</th>\n",
       "      <th>LPS</th>\n",
       "      <td>25.0</td>\n",
       "      <td>16.0</td>\n",
       "      <td>True</td>\n",
       "      <td>True</td>\n",
       "      <td>True</td>\n",
       "    </tr>\n",
       "    <tr>\n",
       "      <th>Non small cell lung cancer</th>\n",
       "      <th>NSCLC</th>\n",
       "      <td>504.0</td>\n",
       "      <td>83.0</td>\n",
       "      <td>True</td>\n",
       "      <td>True</td>\n",
       "      <td>True</td>\n",
       "    </tr>\n",
       "    <tr>\n",
       "      <th>Ovarian cancer</th>\n",
       "      <th>OV</th>\n",
       "      <td>165.0</td>\n",
       "      <td>49.0</td>\n",
       "      <td>True</td>\n",
       "      <td>True</td>\n",
       "      <td>True</td>\n",
       "    </tr>\n",
       "    <tr>\n",
       "      <th>Pancreas carcinoma</th>\n",
       "      <th>PAAD</th>\n",
       "      <td>99.0</td>\n",
       "      <td>207.0</td>\n",
       "      <td>True</td>\n",
       "      <td>True</td>\n",
       "      <td>True</td>\n",
       "    </tr>\n",
       "    <tr>\n",
       "      <th>Pancreas neuroendocrine</th>\n",
       "      <th>PANET</th>\n",
       "      <td>37.0</td>\n",
       "      <td>77.0</td>\n",
       "      <td>True</td>\n",
       "      <td>True</td>\n",
       "      <td>True</td>\n",
       "    </tr>\n",
       "    <tr>\n",
       "      <th>Prostate carcinoma</th>\n",
       "      <th>PRAD</th>\n",
       "      <td>401.0</td>\n",
       "      <td>151.0</td>\n",
       "      <td>True</td>\n",
       "      <td>True</td>\n",
       "      <td>True</td>\n",
       "    </tr>\n",
       "    <tr>\n",
       "      <th>Skin melanoma</th>\n",
       "      <th>SKCM</th>\n",
       "      <td>303.0</td>\n",
       "      <td>101.0</td>\n",
       "      <td>True</td>\n",
       "      <td>True</td>\n",
       "      <td>True</td>\n",
       "    </tr>\n",
       "    <tr>\n",
       "      <th>Stomach cancer</th>\n",
       "      <th>STAD</th>\n",
       "      <td>43.0</td>\n",
       "      <td>53.0</td>\n",
       "      <td>True</td>\n",
       "      <td>True</td>\n",
       "      <td>True</td>\n",
       "    </tr>\n",
       "    <tr>\n",
       "      <th>Thyroid cancer</th>\n",
       "      <th>THCA</th>\n",
       "      <td>22.0</td>\n",
       "      <td>43.0</td>\n",
       "      <td>True</td>\n",
       "      <td>True</td>\n",
       "      <td>True</td>\n",
       "    </tr>\n",
       "    <tr>\n",
       "      <th>Upper respiratory tract cancer</th>\n",
       "      <th>HNSC</th>\n",
       "      <td>38.0</td>\n",
       "      <td>46.0</td>\n",
       "      <td>True</td>\n",
       "      <td>True</td>\n",
       "      <td>True</td>\n",
       "    </tr>\n",
       "    <tr>\n",
       "      <th>Urothelial cancer</th>\n",
       "      <th>BLCA</th>\n",
       "      <td>173.0</td>\n",
       "      <td>23.0</td>\n",
       "      <td>True</td>\n",
       "      <td>True</td>\n",
       "      <td>True</td>\n",
       "    </tr>\n",
       "    <tr>\n",
       "      <th>Uterus carcinoma</th>\n",
       "      <th>UCEC</th>\n",
       "      <td>33.0</td>\n",
       "      <td>28.0</td>\n",
       "      <td>True</td>\n",
       "      <td>True</td>\n",
       "      <td>True</td>\n",
       "    </tr>\n",
       "  </tbody>\n",
       "</table>\n",
       "</div>"
      ],
      "text/plain": [
       "cohort                                           Hartwig  PCAWG  group_HMF  \\\n",
       "cancer_type                    cancer_type_code                              \n",
       "Breast cancer                  BRCA                777.0  161.0       True   \n",
       "Cervix carcinoma               CESC                 40.0   17.0       True   \n",
       "Colorectum carcinoma           COREAD              620.0   42.0       True   \n",
       "Diffuse large B-cell lymphoma  DLBCL                20.0   94.0       True   \n",
       "Esophagus cancer               ESCA                140.0   84.0       True   \n",
       "Glioblastoma multiforme        GBM                  64.0   33.0       True   \n",
       "Hepatocellular carcinoma       LIHC                 53.0   94.0       True   \n",
       "Kidney clear cell carcinoma    KIRC                129.0   95.0       True   \n",
       "Liposarcoma                    LPS                  25.0   16.0       True   \n",
       "Non small cell lung cancer     NSCLC               504.0   83.0       True   \n",
       "Ovarian cancer                 OV                  165.0   49.0       True   \n",
       "Pancreas carcinoma             PAAD                 99.0  207.0       True   \n",
       "Pancreas neuroendocrine        PANET                37.0   77.0       True   \n",
       "Prostate carcinoma             PRAD                401.0  151.0       True   \n",
       "Skin melanoma                  SKCM                303.0  101.0       True   \n",
       "Stomach cancer                 STAD                 43.0   53.0       True   \n",
       "Thyroid cancer                 THCA                 22.0   43.0       True   \n",
       "Upper respiratory tract cancer HNSC                 38.0   46.0       True   \n",
       "Urothelial cancer              BLCA                173.0   23.0       True   \n",
       "Uterus carcinoma               UCEC                 33.0   28.0       True   \n",
       "\n",
       "cohort                                           group_PCAWG  hmf_and_pcawg  \n",
       "cancer_type                    cancer_type_code                              \n",
       "Breast cancer                  BRCA                     True           True  \n",
       "Cervix carcinoma               CESC                     True           True  \n",
       "Colorectum carcinoma           COREAD                   True           True  \n",
       "Diffuse large B-cell lymphoma  DLBCL                    True           True  \n",
       "Esophagus cancer               ESCA                     True           True  \n",
       "Glioblastoma multiforme        GBM                      True           True  \n",
       "Hepatocellular carcinoma       LIHC                     True           True  \n",
       "Kidney clear cell carcinoma    KIRC                     True           True  \n",
       "Liposarcoma                    LPS                      True           True  \n",
       "Non small cell lung cancer     NSCLC                    True           True  \n",
       "Ovarian cancer                 OV                       True           True  \n",
       "Pancreas carcinoma             PAAD                     True           True  \n",
       "Pancreas neuroendocrine        PANET                    True           True  \n",
       "Prostate carcinoma             PRAD                     True           True  \n",
       "Skin melanoma                  SKCM                     True           True  \n",
       "Stomach cancer                 STAD                     True           True  \n",
       "Thyroid cancer                 THCA                     True           True  \n",
       "Upper respiratory tract cancer HNSC                     True           True  \n",
       "Urothelial cancer              BLCA                     True           True  \n",
       "Uterus carcinoma               UCEC                     True           True  "
      ]
     },
     "execution_count": 27,
     "metadata": {},
     "output_type": "execute_result"
    }
   ],
   "source": [
    "summary_cohort[summary_cohort[\"hmf_and_pcawg\"]]"
   ]
  },
  {
   "cell_type": "code",
   "execution_count": 28,
   "metadata": {},
   "outputs": [
    {
     "data": {
      "text/plain": [
       "(58, 5)"
      ]
     },
     "execution_count": 28,
     "metadata": {},
     "output_type": "execute_result"
    }
   ],
   "source": [
    "summary_cohort.shape"
   ]
  },
  {
   "cell_type": "code",
   "execution_count": 29,
   "metadata": {},
   "outputs": [
    {
     "data": {
      "text/plain": [
       "(37, 5)"
      ]
     },
     "execution_count": 29,
     "metadata": {},
     "output_type": "execute_result"
    }
   ],
   "source": [
    "summary_cohort[summary_cohort[\"group_HMF\"]|summary_cohort[\"group_PCAWG\"]].shape"
   ]
  },
  {
   "cell_type": "code",
   "execution_count": 30,
   "metadata": {},
   "outputs": [
    {
     "data": {
      "text/plain": [
       "(30, 5)"
      ]
     },
     "execution_count": 30,
     "metadata": {},
     "output_type": "execute_result"
    }
   ],
   "source": [
    "summary_cohort[summary_cohort[\"group_HMF\"]].shape"
   ]
  },
  {
   "cell_type": "code",
   "execution_count": 31,
   "metadata": {},
   "outputs": [
    {
     "data": {
      "text/plain": [
       "(27, 5)"
      ]
     },
     "execution_count": 31,
     "metadata": {},
     "output_type": "execute_result"
    }
   ],
   "source": [
    "summary_cohort[summary_cohort[\"group_PCAWG\"]].shape"
   ]
  },
  {
   "cell_type": "markdown",
   "metadata": {},
   "source": [
    "### Include RNA-seq info"
   ]
  },
  {
   "cell_type": "code",
   "execution_count": 32,
   "metadata": {},
   "outputs": [],
   "source": [
    "df_rna = pd.read_csv(\"/home/fran/Documents/cuppen/HPC/tunnel//cuppen/projects/P0020_genetics_immune_escape/large_scale_primary_met/analysis/results/infiltration/hmf_infiltration.tsv.gz\",sep=\"\\t\")\n",
    "df_rna_p = pd.read_csv(\"/home/fran/Documents/cuppen/HPC/tunnel//cuppen/projects/P0020_genetics_immune_escape/large_scale_primary_met/analysis/results/infiltration/infiltration_pcawg.tsv.gz\",sep=\"\\t\").rename(columns={\"sampleId\":\"sample_id\"})\n",
    "df[\"has_rna\"] = df.apply(lambda r: r[\"sample_id\"] in df_rna[\"sample_id\"].unique() or r[\"sample_id\"] in df_rna_p[\"sample_id\"].unique(),axis=1)\n",
    "\n"
   ]
  },
  {
   "cell_type": "code",
   "execution_count": 83,
   "metadata": {},
   "outputs": [],
   "source": [
    "df.drop(columns=[\"is_blacklisted\",\"is_blacklisted_sample\",\"is_blacklisted_cohort\",\"blacklist_comment\"]).to_csv(\"../metadata/dataset_metadata_supp_table3.tsv\",sep=\"\\t\",index=False)"
   ]
  },
  {
   "cell_type": "code",
   "execution_count": 34,
   "metadata": {},
   "outputs": [
    {
     "data": {
      "text/plain": [
       "(1188, 54)"
      ]
     },
     "execution_count": 34,
     "metadata": {},
     "output_type": "execute_result"
    }
   ],
   "source": [
    "df[df[\"has_rna\"]&(df[\"cohort\"]==\"PCAWG\")].shape"
   ]
  },
  {
   "cell_type": "code",
   "execution_count": 2,
   "metadata": {},
   "outputs": [],
   "source": [
    "df = pd.read_csv(\"../metadata/dataset_metadata_supp_table3.tsv\",sep=\"\\t\")"
   ]
  },
  {
   "cell_type": "markdown",
   "metadata": {},
   "source": [
    "### Cases filtered by LILAC"
   ]
  },
  {
   "cell_type": "code",
   "execution_count": 73,
   "metadata": {},
   "outputs": [
    {
     "data": {
      "text/html": [
       "<div>\n",
       "<style scoped>\n",
       "    .dataframe tbody tr th:only-of-type {\n",
       "        vertical-align: middle;\n",
       "    }\n",
       "\n",
       "    .dataframe tbody tr th {\n",
       "        vertical-align: top;\n",
       "    }\n",
       "\n",
       "    .dataframe thead th {\n",
       "        text-align: right;\n",
       "    }\n",
       "</style>\n",
       "<table border=\"1\" class=\"dataframe\">\n",
       "  <thead>\n",
       "    <tr style=\"text-align: right;\">\n",
       "      <th></th>\n",
       "      <th>sample_id</th>\n",
       "      <th>blacklisted_gie</th>\n",
       "      <th>blacklist_gie_comment</th>\n",
       "      <th>index</th>\n",
       "      <th>cohort</th>\n",
       "      <th>patient_id</th>\n",
       "      <th>sample_id_2</th>\n",
       "      <th>icgc_aliquot_id</th>\n",
       "      <th>icgc_specimen_id</th>\n",
       "      <th>icgc_sample_id</th>\n",
       "      <th>...</th>\n",
       "      <th>smnv_load</th>\n",
       "      <th>sbs_load</th>\n",
       "      <th>dbs_load</th>\n",
       "      <th>indel_load</th>\n",
       "      <th>sbs_load.clonal</th>\n",
       "      <th>dbs_load.clonal</th>\n",
       "      <th>indel_load.clonal</th>\n",
       "      <th>sbs_load.subclonal</th>\n",
       "      <th>dbs_load.subclonal</th>\n",
       "      <th>indel_load.subclonal</th>\n",
       "    </tr>\n",
       "  </thead>\n",
       "  <tbody>\n",
       "    <tr>\n",
       "      <th>129</th>\n",
       "      <td>WIDE01010929T</td>\n",
       "      <td>True</td>\n",
       "      <td>LILAC does not provided output</td>\n",
       "      <td>1606.0</td>\n",
       "      <td>Hartwig</td>\n",
       "      <td>HMF004789</td>\n",
       "      <td>HMF004789A</td>\n",
       "      <td>NaN</td>\n",
       "      <td>NaN</td>\n",
       "      <td>NaN</td>\n",
       "      <td>...</td>\n",
       "      <td>20373.0</td>\n",
       "      <td>17793.0</td>\n",
       "      <td>134.0</td>\n",
       "      <td>2419.0</td>\n",
       "      <td>17295.0</td>\n",
       "      <td>124.0</td>\n",
       "      <td>2345.0</td>\n",
       "      <td>488.0</td>\n",
       "      <td>6.0</td>\n",
       "      <td>60.0</td>\n",
       "    </tr>\n",
       "    <tr>\n",
       "      <th>201</th>\n",
       "      <td>WIDE01010930T</td>\n",
       "      <td>True</td>\n",
       "      <td>LILAC does not provided output</td>\n",
       "      <td>3004.0</td>\n",
       "      <td>Hartwig</td>\n",
       "      <td>HMF004949</td>\n",
       "      <td>HMF004949A</td>\n",
       "      <td>NaN</td>\n",
       "      <td>NaN</td>\n",
       "      <td>NaN</td>\n",
       "      <td>...</td>\n",
       "      <td>51654.0</td>\n",
       "      <td>48464.0</td>\n",
       "      <td>992.0</td>\n",
       "      <td>2047.0</td>\n",
       "      <td>46953.0</td>\n",
       "      <td>958.0</td>\n",
       "      <td>2008.0</td>\n",
       "      <td>1477.0</td>\n",
       "      <td>33.0</td>\n",
       "      <td>14.0</td>\n",
       "    </tr>\n",
       "  </tbody>\n",
       "</table>\n",
       "<p>2 rows × 48 columns</p>\n",
       "</div>"
      ],
      "text/plain": [
       "         sample_id  blacklisted_gie           blacklist_gie_comment   index  \\\n",
       "129  WIDE01010929T             True  LILAC does not provided output  1606.0   \n",
       "201  WIDE01010930T             True  LILAC does not provided output  3004.0   \n",
       "\n",
       "      cohort patient_id sample_id_2 icgc_aliquot_id icgc_specimen_id  \\\n",
       "129  Hartwig  HMF004789  HMF004789A             NaN              NaN   \n",
       "201  Hartwig  HMF004949  HMF004949A             NaN              NaN   \n",
       "\n",
       "    icgc_sample_id  ... smnv_load sbs_load dbs_load indel_load  \\\n",
       "129            NaN  ...   20373.0  17793.0    134.0     2419.0   \n",
       "201            NaN  ...   51654.0  48464.0    992.0     2047.0   \n",
       "\n",
       "    sbs_load.clonal dbs_load.clonal indel_load.clonal sbs_load.subclonal  \\\n",
       "129         17295.0           124.0            2345.0              488.0   \n",
       "201         46953.0           958.0            2008.0             1477.0   \n",
       "\n",
       "    dbs_load.subclonal indel_load.subclonal  \n",
       "129                6.0                 60.0  \n",
       "201               33.0                 14.0  \n",
       "\n",
       "[2 rows x 48 columns]"
      ]
     },
     "execution_count": 73,
     "metadata": {},
     "output_type": "execute_result"
    }
   ],
   "source": [
    "x=df[(df[\"is_selected\"]==False)&(df[\"cohort\"]==\"Hartwig\")][[\"sample_id\",\"blacklisted_gie\",\"blacklist_gie_comment\"]].merge(df2[((df2[\"is_blacklisted\"]==False)&(df2[\"cohort\"]==\"Hartwig\"))|((df2[\"cohort\"]==\"Hartwig\")&(df2[\"blacklist_comment\"]==\"<15 samples in HMF or PCAWG\"))|((df2[\"cohort\"]==\"Hartwig\")&(df2[\"blacklist_comment\"]==\"CUP\"))],how=\"left\")\n",
    "x[x[\"is_blacklisted\"]==False]"
   ]
  },
  {
   "cell_type": "code",
   "execution_count": 75,
   "metadata": {},
   "outputs": [
    {
     "data": {
      "text/plain": [
       "(395, 48)"
      ]
     },
     "execution_count": 75,
     "metadata": {},
     "output_type": "execute_result"
    }
   ],
   "source": [
    "x=df[(df[\"is_selected\"]==False)&(df[\"cohort\"]==\"PCAWG\")][[\"sample_id\",\"blacklisted_gie\",\"blacklist_gie_comment\"]].merge(df2[((df2[\"is_blacklisted\"]==False)&(df2[\"cohort\"]==\"PCAWG\"))|((df2[\"cohort\"]==\"PCAWG\")&(df2[\"blacklist_comment\"]==\"<15 samples in HMF or PCAWG\"))|((df2[\"cohort\"]==\"PCAWG\")&(df2[\"blacklist_comment\"]==\"CUP\"))],how=\"left\")\n",
    "x[x[\"is_blacklisted\"]==False].shape"
   ]
  },
  {
   "cell_type": "code",
   "execution_count": null,
   "metadata": {},
   "outputs": [],
   "source": [
    "df[\"blacklist_comment\"]"
   ]
  },
  {
   "cell_type": "code",
   "execution_count": 76,
   "metadata": {},
   "outputs": [
    {
     "data": {
      "text/plain": [
       "2275"
      ]
     },
     "execution_count": 76,
     "metadata": {},
     "output_type": "execute_result"
    }
   ],
   "source": [
    "395 + 1880"
   ]
  },
  {
   "cell_type": "code",
   "execution_count": 77,
   "metadata": {},
   "outputs": [
    {
     "data": {
      "text/plain": [
       "LILAC does not provided output             355\n",
       "Fail to pass quality control from LILAC     40\n",
       "Name: blacklist_gie_comment, dtype: int64"
      ]
     },
     "execution_count": 77,
     "metadata": {},
     "output_type": "execute_result"
    }
   ],
   "source": [
    "x[x[\"is_blacklisted\"]==False][\"blacklist_gie_comment\"].value_counts()"
   ]
  },
  {
   "cell_type": "code",
   "execution_count": 78,
   "metadata": {},
   "outputs": [
    {
     "data": {
      "text/plain": [
       "(6319, 51)"
      ]
     },
     "execution_count": 78,
     "metadata": {},
     "output_type": "execute_result"
    }
   ],
   "source": [
    "df[df[\"is_selected\"]].shape"
   ]
  },
  {
   "cell_type": "code",
   "execution_count": 79,
   "metadata": {},
   "outputs": [
    {
     "data": {
      "text/plain": [
       "False    950\n",
       "True     930\n",
       "Name: has_rna, dtype: int64"
      ]
     },
     "execution_count": 79,
     "metadata": {},
     "output_type": "execute_result"
    }
   ],
   "source": [
    "df[(df[\"is_selected\"])&(df[\"cohort\"]==\"PCAWG\")][\"has_rna\"].value_counts()"
   ]
  },
  {
   "cell_type": "code",
   "execution_count": null,
   "metadata": {},
   "outputs": [],
   "source": []
  }
 ],
 "metadata": {
  "kernelspec": {
   "display_name": "Python 3",
   "language": "python",
   "name": "python3"
  },
  "language_info": {
   "codemirror_mode": {
    "name": "ipython",
    "version": 3
   },
   "file_extension": ".py",
   "mimetype": "text/x-python",
   "name": "python",
   "nbconvert_exporter": "python",
   "pygments_lexer": "ipython3",
   "version": "3.6.9"
  },
  "widgets": {
   "application/vnd.jupyter.widget-state+json": {
    "state": {},
    "version_major": 2,
    "version_minor": 0
   }
  }
 },
 "nbformat": 4,
 "nbformat_minor": 4
}
