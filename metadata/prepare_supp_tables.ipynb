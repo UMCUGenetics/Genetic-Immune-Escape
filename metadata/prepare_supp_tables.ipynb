{
 "cells": [
  {
   "cell_type": "code",
   "execution_count": 2,
   "id": "80e61f83",
   "metadata": {},
   "outputs": [],
   "source": [
    "import pandas as pd"
   ]
  },
  {
   "cell_type": "markdown",
   "id": "1f533e89",
   "metadata": {},
   "source": [
    "# Supp. Table 1"
   ]
  },
  {
   "cell_type": "markdown",
   "id": "88d2981f",
   "metadata": {},
   "source": [
    "--- Manually created -- "
   ]
  },
  {
   "cell_type": "markdown",
   "id": "a0d6414d",
   "metadata": {},
   "source": [
    "# Supp Table 2"
   ]
  },
  {
   "cell_type": "markdown",
   "id": "8f45d94f",
   "metadata": {},
   "source": [
    "##### Hartwig germline/tumor agreement"
   ]
  },
  {
   "cell_type": "code",
   "execution_count": 8,
   "id": "7491659e",
   "metadata": {},
   "outputs": [],
   "source": [
    "df = pd.read_csv(\"../benchmark/data/hla_typing_hartwig_full.tsv\",sep=\"\\t\")\n",
    "df.to_csv(\"../results/supp_tables/supp_table_2_hartwig.tsv\",index=False,sep=\"\\t\")"
   ]
  },
  {
   "cell_type": "markdown",
   "id": "84c725a0",
   "metadata": {},
   "source": [
    "##### PCAWG germline/tumor agreement"
   ]
  },
  {
   "cell_type": "code",
   "execution_count": 9,
   "id": "6723fa30",
   "metadata": {},
   "outputs": [],
   "source": [
    "df = pd.read_csv(\"../benchmark/data/hla_typing_pcawg_full.tsv\",sep=\"\\t\")\n",
    "df.to_csv(\"../results/supp_tables/supp_table_2_pcawg.tsv\",index=False,sep=\"\\t\")"
   ]
  },
  {
   "cell_type": "markdown",
   "id": "37a6945f",
   "metadata": {},
   "source": [
    "##### platinum/yoruban trios HLA-I typing"
   ]
  },
  {
   "cell_type": "code",
   "execution_count": 10,
   "id": "fa068554",
   "metadata": {},
   "outputs": [],
   "source": [
    "df = pd.read_csv(\"../benchmark/data/lilac_platinum_yoruba_trios.csv\",sep=\",\")\n",
    "df.to_csv(\"../results/supp_tables/supp_table_2_platinum_yoruban_trios.tsv\",index=False,sep=\"\\t\")"
   ]
  },
  {
   "cell_type": "markdown",
   "id": "a063478d",
   "metadata": {},
   "source": [
    "##### tracerx HLA-I typing and LOHHLA"
   ]
  },
  {
   "cell_type": "code",
   "execution_count": 13,
   "id": "efc3eebe",
   "metadata": {},
   "outputs": [],
   "source": [
    "df = pd.read_csv(\"../benchmark/data/hlaI_typing_tx_LILAC_comparison.tsv\",sep=\"\\t\")\n",
    "df.to_csv(\"../results/supp_tables/supp_table_2_tracerx_typing_comparison.tsv\",index=False,sep=\"\\t\")\n",
    "df = pd.read_csv(\"../benchmark/data/lohhla_lilac_loh_comparison.tsv\",sep=\"\\t\")\n",
    "df.to_csv(\"../results/supp_tables/supp_table_2_tracerx_loh_comparison.tsv\",index=False,sep=\"\\t\")"
   ]
  },
  {
   "cell_type": "markdown",
   "id": "1ddccf9d",
   "metadata": {},
   "source": [
    "##### experimental validation"
   ]
  },
  {
   "cell_type": "code",
   "execution_count": 12,
   "id": "9570d9e9",
   "metadata": {},
   "outputs": [],
   "source": [
    "df = pd.read_csv(\"../benchmark/data/gendx_validation_info.tsv\",sep=\"\\t\")\n",
    "df.to_csv(\"../results/supp_tables/supp_table_2_gendx_validation_info.tsv\",index=False,sep=\"\\t\")"
   ]
  },
  {
   "cell_type": "markdown",
   "id": "fd3113ec",
   "metadata": {},
   "source": [
    "# Supp. Table 3"
   ]
  },
  {
   "cell_type": "markdown",
   "id": "00e0b328",
   "metadata": {},
   "source": [
    "##### Sheet, metadata per sample"
   ]
  },
  {
   "cell_type": "code",
   "execution_count": 13,
   "id": "523beb39",
   "metadata": {},
   "outputs": [],
   "source": [
    "df = pd.read_csv(\"../metadata/dataset_metadata_supp_table3.tsv\",sep=\"\\t\")\n",
    "columns=[\"sample_id_2\",\"patient_id\",\"icgc_aliquot_id\",\"icgc_specimen_id\",\"cohort\",\n",
    "        \"cancer_type\",\"cancer_type_code\",\"tissue_group\",\"simplified_biopsy_site\",'blacklisted_gie', 'blacklist_gie_comment',\n",
    "        'is_selected','lilac_status', 'has_lilac','has_group_cohort', 'has_group_mut_signatures', 'has_rna','ploidy',\n",
    "       'gender', 'whole_genome_duplication', 'msi_status', 'hr_status',\n",
    "       'had_radiotherapy', 'had_other_treatment', 'had_chemotherapy',\n",
    "       'had_hormone_therapy', 'had_targeted_therapy', 'had_immunotherapy',\n",
    "       'treatment_info_available', 'sv_load', 'smnv_load', 'sbs_load',\n",
    "       'dbs_load', 'indel_load', 'sbs_load.clonal', 'dbs_load.clonal',\n",
    "       'indel_load.clonal', 'sbs_load.subclonal', 'dbs_load.subclonal',\n",
    "       'indel_load.subclonal']\n",
    "df[columns].to_csv(\"../results/supp_tables/supp_table_3_per_sample.tsv\",index=False,sep=\"\\t\")"
   ]
  },
  {
   "cell_type": "markdown",
   "id": "70625641",
   "metadata": {},
   "source": [
    "##### Per cancer type and cohort"
   ]
  },
  {
   "cell_type": "code",
   "execution_count": 14,
   "id": "55a06480",
   "metadata": {},
   "outputs": [],
   "source": [
    "df = pd.read_csv(\"../metadata/table_cancer_types_info.tsv\",sep=\"\\t\")\n",
    "df.to_csv(\"../results/supp_tables/supp_table_3_per_ttype.tsv\",index=False,sep=\"\\t\")"
   ]
  },
  {
   "cell_type": "markdown",
   "id": "c7c253a9",
   "metadata": {},
   "source": [
    "# Supp. Table 4"
   ]
  },
  {
   "cell_type": "markdown",
   "id": "b80fb0c7",
   "metadata": {},
   "source": [
    "##### Sheet GIE per sample"
   ]
  },
  {
   "cell_type": "code",
   "execution_count": 17,
   "id": "29c7099d",
   "metadata": {},
   "outputs": [],
   "source": [
    "df = pd.read_csv(\"../results/data/processed_hmf_escape_info.tsv.gz\",sep=\"\\t\")\n",
    "df1 = pd.read_csv(\"../results/data/processed_pcawg_escape_info.tsv.gz\",sep=\"\\t\")\n",
    "columns=[\"sample_id_2\",\"cohort\",\"cancer_type\",\"cancer_type_code\",\n",
    "        'A1', 'A2', 'B1', 'B2', 'C1', 'C2', 'A1_CN', 'A2_CN',\n",
    "       'B1_CN', 'B2_CN', 'C1_CN', 'C2_CN', 'A1_MUT', 'A2_MUT', 'B1_MUT',\n",
    "       'B2_MUT', 'C1_MUT', 'C2_MUT',\n",
    "        'ploidy_minor_HLA-A', 'ploidy_minor_HLA-B', 'ploidy_minor_HLA-C',\n",
    "       'ploidy_major_HLA-A', 'ploidy_major_HLA-B', 'ploidy_major_HLA-C',\n",
    "        'del_HLA-A', 'del_HLA-B', 'del_HLA-C',\n",
    "        'loh_lilac', 'copy_number_neutral_loh_hla', 'loh_hfocal', 'loh_focal', 'loh_nonfocal', \n",
    "        'mut_hla_lilac',\n",
    "        'systemic_app_pathway',\n",
    "       'systemic_app_pathway_detail', 'cd58_pathway',\n",
    "       'cd58_pathway_detail', 'ifn_gamma_pathway',\n",
    "       'ifn_gamma_pathway_detail', 'checkpoint_pathway',\n",
    "       'checkpoint_pathway_detail', 'epigenetic_regulators_pathway',\n",
    "       'epigenetic_regulators_pathway_detail',\n",
    "       'targeted_escape', 'non_targeted_escape', 'genetic_immune_escape'         \n",
    "]\n",
    "df = pd.concat([df,df1])[columns]\n",
    "df.to_csv(\"../results/supp_tables/supp_table_4_per_sample.tsv\",index=False,sep=\"\\t\")"
   ]
  },
  {
   "cell_type": "markdown",
   "id": "a8520b15",
   "metadata": {},
   "source": [
    "##### Metastatic, per cancer type"
   ]
  },
  {
   "cell_type": "code",
   "execution_count": 23,
   "id": "b82dc36d",
   "metadata": {},
   "outputs": [],
   "source": [
    "df_met = pd.read_csv(\"../results/data/summary_gie_cancer_type_hartwig.tsv\",sep=\"\\t\")\n",
    "columns=['cancer_type','cancer_type_code','n_samples', 'targeted_app_pathway_mut_HLA',\n",
    "       'targeted_app_pathway_partdel_HLA', 'systemic_app_pathway',\n",
    "       'ifn_gamma_pathway', 'checkpoint_pathway', 'cd58_pathway',\n",
    "       'epigenetic_regulators_pathway', 'genetic_immune_escape']\n",
    "df_met.to_csv(\"../results/supp_tables/supp_table_4_hartwig_ttype.tsv\",index=False,sep=\"\\t\")"
   ]
  },
  {
   "cell_type": "markdown",
   "id": "31fecb11",
   "metadata": {},
   "source": [
    "##### Primary, per cancer type"
   ]
  },
  {
   "cell_type": "code",
   "execution_count": 24,
   "id": "ff8e0a9a",
   "metadata": {},
   "outputs": [],
   "source": [
    "df_pr = pd.read_csv(\"../results/data/summary_gie_cancer_type_pcawg.tsv\",sep=\"\\t\")\n",
    "columns=['cancer_type','cancer_type_code','n_samples', 'targeted_app_pathway_mut_HLA',\n",
    "       'targeted_app_pathway_partdel_HLA', 'systemic_app_pathway',\n",
    "       'ifn_gamma_pathway', 'checkpoint_pathway', 'cd58_pathway',\n",
    "       'epigenetic_regulators_pathway', 'genetic_immune_escape']\n",
    "df_pr.to_csv(\"../results/supp_tables/supp_table_4_pcawg_ttype.tsv\",index=False,sep=\"\\t\")"
   ]
  },
  {
   "cell_type": "markdown",
   "id": "1602606d",
   "metadata": {},
   "source": [
    "##### Metastatic, per cancer type, per gene"
   ]
  },
  {
   "cell_type": "code",
   "execution_count": 27,
   "id": "db86e6cd",
   "metadata": {},
   "outputs": [],
   "source": [
    "df_met = pd.read_csv(\"../results/data/summary_gie_per_gene_cancer_type_hartwig.tsv\",sep=\"\\t\")\n",
    "df_met.to_csv(\"../results/supp_tables/supp_table_4_hartwig_ttype_gene.tsv\",index=False,sep=\"\\t\")"
   ]
  },
  {
   "cell_type": "markdown",
   "id": "1fd0eeee",
   "metadata": {},
   "source": [
    "##### Primary, per cancer type, per gene"
   ]
  },
  {
   "cell_type": "code",
   "execution_count": 28,
   "id": "f91de657",
   "metadata": {},
   "outputs": [],
   "source": [
    "df_pr = pd.read_csv(\"../results/data/summary_gie_per_gene_cancer_type_pcawg.tsv\",sep=\"\\t\")\n",
    "df_pr.to_csv(\"../results/supp_tables/supp_table_4_pcawg_ttype_gene.tsv\",index=False,sep=\"\\t\")"
   ]
  },
  {
   "cell_type": "markdown",
   "id": "18de40eb",
   "metadata": {},
   "source": [
    "##### Metastatic, mutual exclusivity"
   ]
  },
  {
   "cell_type": "code",
   "execution_count": 30,
   "id": "9fadeb0d",
   "metadata": {},
   "outputs": [],
   "source": [
    "df_met = pd.read_csv(\"../results/data/mutual_exclusivity_hartwig.tsv\",sep=\"\\t\")\n",
    "df_met.to_csv(\"../results/supp_tables/supp_table_4_hartwig_me.tsv\",index=False,sep=\"\\t\")"
   ]
  },
  {
   "cell_type": "markdown",
   "id": "04eb24c9",
   "metadata": {},
   "source": [
    "##### Primary, mutual exclusivity"
   ]
  },
  {
   "cell_type": "code",
   "execution_count": 29,
   "id": "5bcd3ef6",
   "metadata": {},
   "outputs": [],
   "source": [
    "df_pr = pd.read_csv(\"../results/data/mutual_exclusivity_pcawg.tsv\",sep=\"\\t\")\n",
    "df_pr.to_csv(\"../results/supp_tables/supp_table_4_pcawg_me.tsv\",index=False,sep=\"\\t\")"
   ]
  },
  {
   "cell_type": "markdown",
   "id": "269c01d6",
   "metadata": {},
   "source": [
    "##### Primary vs Met, global"
   ]
  },
  {
   "cell_type": "code",
   "execution_count": 33,
   "id": "d2e8a387",
   "metadata": {},
   "outputs": [],
   "source": [
    "df_pr = pd.read_csv(\"../results/data/primary_vs_met_global_gie.tsv\",sep=\"\\t\")\n",
    "df_pr.to_csv(\"../results/supp_tables/supp_table_4_prim_vs_met_gie.tsv\",index=False,sep=\"\\t\")"
   ]
  },
  {
   "cell_type": "markdown",
   "id": "7e59033b",
   "metadata": {},
   "source": [
    "##### Primary vs Met, per pathway"
   ]
  },
  {
   "cell_type": "code",
   "execution_count": 34,
   "id": "8699f936",
   "metadata": {},
   "outputs": [],
   "source": [
    "df_pr = pd.read_csv(\"../results/data/primary_vs_met_gie_per_pathway.tsv\",sep=\"\\t\")\n",
    "df_pr.to_csv(\"../results/supp_tables/supp_table_4_prim_vs_met_gie_pathway.tsv\",index=False,sep=\"\\t\")"
   ]
  },
  {
   "cell_type": "markdown",
   "id": "8cb3f25c",
   "metadata": {},
   "source": [
    "# Supp. Table 5 (Positive selection)"
   ]
  },
  {
   "cell_type": "markdown",
   "id": "e4d8d989",
   "metadata": {},
   "source": [
    "##### dNdScv, metastatic"
   ]
  },
  {
   "cell_type": "code",
   "execution_count": 41,
   "id": "6cc60f51",
   "metadata": {},
   "outputs": [],
   "source": [
    "df_met = pd.read_csv(\"../results/data/dndscv_output_immune_genes_hmf.tsv.gz\",sep=\"\\t\")\n",
    "df_met.to_csv(\"../results/supp_tables/supp_table_5_hartwig_muts.tsv\",index=False,sep=\"\\t\")"
   ]
  },
  {
   "cell_type": "markdown",
   "id": "3f523efa",
   "metadata": {},
   "source": [
    "##### dNdScv, primary"
   ]
  },
  {
   "cell_type": "code",
   "execution_count": 42,
   "id": "db2ff3e2",
   "metadata": {},
   "outputs": [],
   "source": [
    "df_pr = pd.read_csv(\"../results/data/dndscv_output_immune_genes_pcawg.tsv.gz\",sep=\"\\t\")\n",
    "df_pr.to_csv(\"../results/supp_tables/supp_table_5_pcawg_muts.tsv\",index=False,sep=\"\\t\")"
   ]
  },
  {
   "cell_type": "markdown",
   "id": "ab6925d1",
   "metadata": {},
   "source": [
    "##### CNV, metastatic"
   ]
  },
  {
   "cell_type": "code",
   "execution_count": 43,
   "id": "71184971",
   "metadata": {},
   "outputs": [],
   "source": [
    "df_met = pd.read_csv(\"../results/data/raw_results_cnv_hartwig.tsv.gz\",sep=\"\\t\")\n",
    "df_met.to_csv(\"../results/supp_tables/supp_table_5_hartwig_cnv.tsv\",index=False,sep=\"\\t\")"
   ]
  },
  {
   "cell_type": "markdown",
   "id": "cf4d474e",
   "metadata": {},
   "source": [
    "##### CNV, primary"
   ]
  },
  {
   "cell_type": "code",
   "execution_count": 50,
   "id": "882c53b2",
   "metadata": {},
   "outputs": [],
   "source": [
    "df_pr = pd.read_csv(\"../results/data/raw_results_cnv_pcawg.tsv.gz\",sep=\"\\t\")\n",
    "df_pr[\"odds_ratio_global\"]=df_pr[\"odds_ratio_global\"].astype(float)\n",
    "df_pr.to_csv(\"../results/supp_tables/supp_table_5_pcawg_cnv.tsv\",index=False,sep=\"\\t\")"
   ]
  },
  {
   "cell_type": "markdown",
   "id": "19960720",
   "metadata": {},
   "source": [
    "# Supp Table 6"
   ]
  },
  {
   "cell_type": "markdown",
   "id": "bb158930",
   "metadata": {},
   "source": [
    "##### tumor mutation burden features"
   ]
  },
  {
   "cell_type": "code",
   "execution_count": 54,
   "id": "b5e1ba10",
   "metadata": {},
   "outputs": [],
   "source": [
    "df_tmb = pd.read_csv(\"../results/data/features_correlation/sample_specific_info_tmb_full_data.tsv\",sep=\"\\t\")\n",
    "df_tmb.to_csv(\"../results/supp_tables/supp_table_6_tmb.tsv\",index=False,sep=\"\\t\")"
   ]
  },
  {
   "cell_type": "markdown",
   "id": "962aea9a",
   "metadata": {},
   "source": [
    "##### mutational signatures exposure"
   ]
  },
  {
   "cell_type": "code",
   "execution_count": 55,
   "id": "679f127f",
   "metadata": {},
   "outputs": [],
   "source": [
    "df_mut_sig = pd.read_csv(\"../results/data/features_correlation/mutational_signatures_exposure.tsv\",sep=\"\\t\")\n",
    "df_mut_sig.to_csv(\"../results/supp_tables/supp_table_6_sig_exposure.tsv\",index=False,sep=\"\\t\")"
   ]
  },
  {
   "cell_type": "markdown",
   "id": "7ce0ede0",
   "metadata": {},
   "source": [
    "##### mutational siangures metadata"
   ]
  },
  {
   "cell_type": "code",
   "execution_count": 56,
   "id": "5c0022e5",
   "metadata": {},
   "outputs": [],
   "source": [
    "df_mut_sig = pd.read_csv(\"../results/data/sig_metadata.post_processed.with_etiologies.txt.gz\",sep=\"\\t\")\n",
    "df_mut_sig.to_csv(\"../results/supp_tables/supp_table_6_sig_metadata.tsv\",index=False,sep=\"\\t\")"
   ]
  },
  {
   "cell_type": "markdown",
   "id": "888a9215",
   "metadata": {},
   "source": [
    "##### immune infiltration metadata"
   ]
  },
  {
   "cell_type": "code",
   "execution_count": 57,
   "id": "324265f5",
   "metadata": {},
   "outputs": [],
   "source": [
    "df_imi = pd.read_csv(\"../results/data/features_correlation/immune_infiltration_stats.tsv\",sep=\"\\t\")\n",
    "df_imi.to_csv(\"../results/supp_tables/supp_table_6_imi.tsv\",index=False,sep=\"\\t\")"
   ]
  },
  {
   "cell_type": "markdown",
   "id": "7d1f813a",
   "metadata": {},
   "source": [
    "##### HLA-supertypes"
   ]
  },
  {
   "cell_type": "code",
   "execution_count": 58,
   "id": "ea990b6f",
   "metadata": {},
   "outputs": [],
   "source": [
    "df_sts = pd.read_csv(\"../results/data/features_correlation/supertypes_per_sample.tsv\",sep=\"\\t\")\n",
    "df_sts.to_csv(\"../results/supp_tables/supp_table_6_sts.tsv\",index=False,sep=\"\\t\")"
   ]
  },
  {
   "cell_type": "markdown",
   "id": "63b9801d",
   "metadata": {},
   "source": [
    "##### Pre-treatment"
   ]
  },
  {
   "cell_type": "code",
   "execution_count": 59,
   "id": "3eaf6d77",
   "metadata": {},
   "outputs": [],
   "source": [
    "df_sts = pd.read_csv(\"../results/data/features_correlation/pretreatment_info.tsv\",sep=\"\\t\")\n",
    "df_sts.to_csv(\"../results/supp_tables/supp_table_6_preteatment.tsv\",index=False,sep=\"\\t\")"
   ]
  },
  {
   "cell_type": "markdown",
   "id": "31f848fa",
   "metadata": {},
   "source": [
    "##### Drivers"
   ]
  },
  {
   "cell_type": "code",
   "execution_count": 83,
   "id": "825ab6f2",
   "metadata": {},
   "outputs": [],
   "source": [
    "df_drivers = pd.read_csv(\"../results/data/features_correlation/drivers_per_sample.tsv.gz\",sep=\"\\t\")\n",
    "df_meta = pd.read_csv(\"../metadata/dataset_metadata_supp_table3.tsv\",sep=\"\\t\")\n",
    "df_meta=df_meta[df_meta[\"is_selected\"]==True]\n",
    "df_drivers = df_drivers.merge(df_meta[[\"sample_id\",\"sample_id_2\",\"cohort\"]])\n",
    "df_drivers[\"sample_id\"] = df_drivers.apply(lambda r: r[\"sample_id_2\"] if r[\"cohort\"] == \"Hartwig\" else r[\"sample_id\"],axis=1)\n",
    "columns=[\"gene\",\"sample_id\",\"driverLikelihood\",\"driver\",\"chromosome\",\"chromosomeBand\"]\n",
    "df_drivers[columns].to_csv(\"../results/supp_tables/supp_table_6_drivers.tsv\",index=False,sep=\"\\t\")"
   ]
  },
  {
   "cell_type": "markdown",
   "id": "f40b1b59",
   "metadata": {},
   "source": [
    "##### Other features"
   ]
  },
  {
   "cell_type": "code",
   "execution_count": 84,
   "id": "e19aa508",
   "metadata": {},
   "outputs": [
    {
     "name": "stderr",
     "output_type": "stream",
     "text": [
      "/home/fran/miniconda3/envs/global/lib/python3.6/site-packages/IPython/core/interactiveshell.py:3051: DtypeWarning: Columns (16,17,19,20,142) have mixed types.Specify dtype option on import or set low_memory=False.\n",
      "  interactivity=interactivity, compiler=compiler, result=result)\n"
     ]
    }
   ],
   "source": [
    "df_viral = pd.read_csv(\"../results/data/features_correlation/sample_specific_info_viral_integration.tsv\",sep=\"\\t\")\n",
    "df = pd.read_csv(\"../results/data/processed_hmf_escape_info.tsv.gz\",sep=\"\\t\")[[\"sample_id_2\",\"avg_divergence_germline\",\"sum_diversity_germline\"]]\n",
    "df1 = pd.read_csv(\"../results/data/processed_pcawg_escape_info.tsv.gz\",sep=\"\\t\")[[\"sample_id_2\",\"avg_divergence_germline\",\"sum_diversity_germline\"]]\n",
    "t = pd.concat([df,df1])\n",
    "df_viral = df_viral.merge(t)\n",
    "df_meta[\"sample_id_2\"] = df_meta.apply(lambda r: r[\"sample_id_2\"] if r[\"cohort\"] == \"Hartwig\" else r[\"sample_id\"],axis=1)\n",
    "df_viral.merge(df_meta[[\"sample_id_2\",\"msi_status\",\"hr_status\",\"whole_genome_duplication\"]]).to_csv(\"../results/supp_tables/supp_table_6_other.tsv\",index=False,sep=\"\\t\")"
   ]
  },
  {
   "cell_type": "markdown",
   "id": "42ffc03d",
   "metadata": {},
   "source": [
    "##### GIE info"
   ]
  },
  {
   "cell_type": "code",
   "execution_count": 88,
   "id": "90fd1f0a",
   "metadata": {},
   "outputs": [],
   "source": [
    "df = pd.read_csv(\"../results/data/features_correlation/escape_for_features.tsv\",sep=\"\\t\")\n",
    "columns=[\"sample_id_2\",\"selected_genetic_immune_escape\",\"genetic_immune_escape\",\"excluding_loh_hla\"]\n",
    "df[columns].to_csv(\"../results/supp_tables/supp_table_6_gie.tsv\",index=False,sep=\"\\t\")"
   ]
  },
  {
   "cell_type": "markdown",
   "id": "b696c73d",
   "metadata": {},
   "source": [
    "##### Simulated GIE"
   ]
  },
  {
   "cell_type": "code",
   "execution_count": 96,
   "id": "ffe22aec",
   "metadata": {},
   "outputs": [],
   "source": [
    "df = pd.read_csv(\"../results/data/features_correlation/randomized_escape_for_features.tsv.gz\",sep=\"\\t\")\n",
    "df_meta = pd.read_csv(\"../metadata/dataset_metadata_supp_table3.tsv\",sep=\"\\t\")\n",
    "df_meta[\"sample_id_2\"] = df_meta.apply(lambda r: r[\"sample_id_2\"] if r[\"cohort\"] == \"Hartwig\" else r[\"sample_id\"],axis=1)\n",
    "df.merge(df_meta[[\"sample_id\",\"sample_id_2\"]]).to_csv(\"../results/supp_tables/supp_table_6_gie_simulated_GIE.tsv\",index=False,sep=\"\\t\")"
   ]
  },
  {
   "cell_type": "code",
   "execution_count": 95,
   "id": "71e51761",
   "metadata": {},
   "outputs": [],
   "source": [
    "!rm ../results/supp_tables/simulated_GIE.tsv"
   ]
  },
  {
   "cell_type": "markdown",
   "id": "4c0383b1",
   "metadata": {},
   "source": [
    "##### Results regression"
   ]
  },
  {
   "cell_type": "code",
   "execution_count": 5,
   "id": "412181df",
   "metadata": {},
   "outputs": [],
   "source": [
    "df = pd.read_csv(\"../results/data/results_feature_correlation//full_results_gie_vs_features_with_control.tsv\",sep=\"\\t\")\n",
    "df.drop([\"n_samples_exposure\",\"variable_dependent\",\"label_ttype\"],axis=1).sort_values([\"not_significant_simulatedGIE\",\"qvalue\"],ascending=[False,True]).to_csv(\"../results/supp_tables/supp_table_6_gie_results.tsv\",index=False,sep=\"\\t\")"
   ]
  },
  {
   "cell_type": "markdown",
   "id": "682a3aa7",
   "metadata": {},
   "source": [
    "##### Results regression (except LOH of HLA)"
   ]
  },
  {
   "cell_type": "code",
   "execution_count": 6,
   "id": "df64f7c7",
   "metadata": {},
   "outputs": [],
   "source": [
    "df = pd.read_csv(\"../results/data/results_feature_correlation/full_results_gie_excluding_lohhla_vs_features_with_control.tsv\",sep=\"\\t\")\n",
    "df.drop([\"n_samples_exposure\",\"variable_dependent\",\"label_ttype\"],axis=1).sort_values([\"not_significant_simulatedGIE\",\"qvalue\"],ascending=[False,True]).to_csv(\"../results/supp_tables/supp_table_6_gie_results_exl_lohhla.tsv\",index=False,sep=\"\\t\")"
   ]
  },
  {
   "cell_type": "code",
   "execution_count": 99,
   "id": "9e40730d",
   "metadata": {},
   "outputs": [
    {
     "data": {
      "text/html": [
       "<div>\n",
       "<style scoped>\n",
       "    .dataframe tbody tr th:only-of-type {\n",
       "        vertical-align: middle;\n",
       "    }\n",
       "\n",
       "    .dataframe tbody tr th {\n",
       "        vertical-align: top;\n",
       "    }\n",
       "\n",
       "    .dataframe thead th {\n",
       "        text-align: right;\n",
       "    }\n",
       "</style>\n",
       "<table border=\"1\" class=\"dataframe\">\n",
       "  <thead>\n",
       "    <tr style=\"text-align: right;\">\n",
       "      <th></th>\n",
       "      <th>cancer_type_code</th>\n",
       "      <th>odds_ratio</th>\n",
       "      <th>qvalue</th>\n",
       "      <th>label</th>\n",
       "      <th>cat</th>\n",
       "      <th>5%</th>\n",
       "      <th>95%</th>\n",
       "      <th>n_samples_exposure</th>\n",
       "      <th>variable_dependent</th>\n",
       "      <th>significant</th>\n",
       "      <th>label_ttype</th>\n",
       "      <th>not_significant_simulatedGIE</th>\n",
       "    </tr>\n",
       "  </thead>\n",
       "  <tbody>\n",
       "    <tr>\n",
       "      <th>9</th>\n",
       "      <td>NSCLC</td>\n",
       "      <td>4.015752</td>\n",
       "      <td>2.058316e-08</td>\n",
       "      <td>indels</td>\n",
       "      <td>Tumor Mutation Burden</td>\n",
       "      <td>2.760283</td>\n",
       "      <td>5.271222</td>\n",
       "      <td>587.0</td>\n",
       "      <td>selected_genetic_immune_escape</td>\n",
       "      <td>True</td>\n",
       "      <td>NSCLC</td>\n",
       "      <td>True</td>\n",
       "    </tr>\n",
       "    <tr>\n",
       "      <th>10</th>\n",
       "      <td>NSCLC</td>\n",
       "      <td>3.987723</td>\n",
       "      <td>2.201987e-08</td>\n",
       "      <td>indel_load.clonal</td>\n",
       "      <td>Tumor Mutation Burden</td>\n",
       "      <td>2.735945</td>\n",
       "      <td>5.239501</td>\n",
       "      <td>587.0</td>\n",
       "      <td>selected_genetic_immune_escape</td>\n",
       "      <td>True</td>\n",
       "      <td>NSCLC</td>\n",
       "      <td>True</td>\n",
       "    </tr>\n",
       "    <tr>\n",
       "      <th>13</th>\n",
       "      <td>NSCLC</td>\n",
       "      <td>1.330023</td>\n",
       "      <td>7.053280e-08</td>\n",
       "      <td>frameshift</td>\n",
       "      <td>Tumor Mutation Burden</td>\n",
       "      <td>0.897018</td>\n",
       "      <td>1.763028</td>\n",
       "      <td>587.0</td>\n",
       "      <td>selected_genetic_immune_escape</td>\n",
       "      <td>True</td>\n",
       "      <td>NSCLC</td>\n",
       "      <td>True</td>\n",
       "    </tr>\n",
       "    <tr>\n",
       "      <th>20</th>\n",
       "      <td>COREAD</td>\n",
       "      <td>1.055576</td>\n",
       "      <td>3.351162e-07</td>\n",
       "      <td>total_neo</td>\n",
       "      <td>Tumor Mutation Burden</td>\n",
       "      <td>0.692229</td>\n",
       "      <td>1.418924</td>\n",
       "      <td>662.0</td>\n",
       "      <td>selected_genetic_immune_escape</td>\n",
       "      <td>True</td>\n",
       "      <td>COREAD</td>\n",
       "      <td>True</td>\n",
       "    </tr>\n",
       "    <tr>\n",
       "      <th>22</th>\n",
       "      <td>COREAD</td>\n",
       "      <td>0.589780</td>\n",
       "      <td>5.042784e-07</td>\n",
       "      <td>dbs_load.clonal</td>\n",
       "      <td>Tumor Mutation Burden</td>\n",
       "      <td>0.383659</td>\n",
       "      <td>0.795900</td>\n",
       "      <td>662.0</td>\n",
       "      <td>selected_genetic_immune_escape</td>\n",
       "      <td>True</td>\n",
       "      <td>COREAD</td>\n",
       "      <td>True</td>\n",
       "    </tr>\n",
       "    <tr>\n",
       "      <th>...</th>\n",
       "      <td>...</td>\n",
       "      <td>...</td>\n",
       "      <td>...</td>\n",
       "      <td>...</td>\n",
       "      <td>...</td>\n",
       "      <td>...</td>\n",
       "      <td>...</td>\n",
       "      <td>...</td>\n",
       "      <td>...</td>\n",
       "      <td>...</td>\n",
       "      <td>...</td>\n",
       "      <td>...</td>\n",
       "    </tr>\n",
       "    <tr>\n",
       "      <th>1162</th>\n",
       "      <td>COREAD</td>\n",
       "      <td>3.254541</td>\n",
       "      <td>2.004148e-03</td>\n",
       "      <td>RPL22</td>\n",
       "      <td>Drivers</td>\n",
       "      <td>NaN</td>\n",
       "      <td>NaN</td>\n",
       "      <td>NaN</td>\n",
       "      <td>selected_genetic_immune_escape</td>\n",
       "      <td>True</td>\n",
       "      <td>COREAD</td>\n",
       "      <td>True</td>\n",
       "    </tr>\n",
       "    <tr>\n",
       "      <th>1165</th>\n",
       "      <td>COREAD</td>\n",
       "      <td>2.714433</td>\n",
       "      <td>2.007199e-02</td>\n",
       "      <td>CASP8</td>\n",
       "      <td>Drivers</td>\n",
       "      <td>NaN</td>\n",
       "      <td>NaN</td>\n",
       "      <td>NaN</td>\n",
       "      <td>selected_genetic_immune_escape</td>\n",
       "      <td>True</td>\n",
       "      <td>COREAD</td>\n",
       "      <td>True</td>\n",
       "    </tr>\n",
       "    <tr>\n",
       "      <th>1166</th>\n",
       "      <td>COREAD</td>\n",
       "      <td>-1.338525</td>\n",
       "      <td>1.238391e-04</td>\n",
       "      <td>TP53</td>\n",
       "      <td>Drivers</td>\n",
       "      <td>NaN</td>\n",
       "      <td>NaN</td>\n",
       "      <td>NaN</td>\n",
       "      <td>selected_genetic_immune_escape</td>\n",
       "      <td>True</td>\n",
       "      <td>COREAD</td>\n",
       "      <td>True</td>\n",
       "    </tr>\n",
       "    <tr>\n",
       "      <th>1169</th>\n",
       "      <td>COREAD</td>\n",
       "      <td>2.657681</td>\n",
       "      <td>2.690519e-03</td>\n",
       "      <td>KMT2D</td>\n",
       "      <td>Drivers</td>\n",
       "      <td>NaN</td>\n",
       "      <td>NaN</td>\n",
       "      <td>NaN</td>\n",
       "      <td>selected_genetic_immune_escape</td>\n",
       "      <td>True</td>\n",
       "      <td>COREAD</td>\n",
       "      <td>True</td>\n",
       "    </tr>\n",
       "    <tr>\n",
       "      <th>1170</th>\n",
       "      <td>COREAD</td>\n",
       "      <td>1.797963</td>\n",
       "      <td>2.490232e-03</td>\n",
       "      <td>TGFBR2</td>\n",
       "      <td>Drivers</td>\n",
       "      <td>NaN</td>\n",
       "      <td>NaN</td>\n",
       "      <td>NaN</td>\n",
       "      <td>selected_genetic_immune_escape</td>\n",
       "      <td>True</td>\n",
       "      <td>COREAD</td>\n",
       "      <td>True</td>\n",
       "    </tr>\n",
       "  </tbody>\n",
       "</table>\n",
       "<p>85 rows × 12 columns</p>\n",
       "</div>"
      ],
      "text/plain": [
       "     cancer_type_code  odds_ratio        qvalue              label  \\\n",
       "9               NSCLC    4.015752  2.058316e-08             indels   \n",
       "10              NSCLC    3.987723  2.201987e-08  indel_load.clonal   \n",
       "13              NSCLC    1.330023  7.053280e-08         frameshift   \n",
       "20             COREAD    1.055576  3.351162e-07          total_neo   \n",
       "22             COREAD    0.589780  5.042784e-07    dbs_load.clonal   \n",
       "...               ...         ...           ...                ...   \n",
       "1162           COREAD    3.254541  2.004148e-03              RPL22   \n",
       "1165           COREAD    2.714433  2.007199e-02              CASP8   \n",
       "1166           COREAD   -1.338525  1.238391e-04               TP53   \n",
       "1169           COREAD    2.657681  2.690519e-03              KMT2D   \n",
       "1170           COREAD    1.797963  2.490232e-03             TGFBR2   \n",
       "\n",
       "                        cat        5%       95%  n_samples_exposure  \\\n",
       "9     Tumor Mutation Burden  2.760283  5.271222               587.0   \n",
       "10    Tumor Mutation Burden  2.735945  5.239501               587.0   \n",
       "13    Tumor Mutation Burden  0.897018  1.763028               587.0   \n",
       "20    Tumor Mutation Burden  0.692229  1.418924               662.0   \n",
       "22    Tumor Mutation Burden  0.383659  0.795900               662.0   \n",
       "...                     ...       ...       ...                 ...   \n",
       "1162                Drivers       NaN       NaN                 NaN   \n",
       "1165                Drivers       NaN       NaN                 NaN   \n",
       "1166                Drivers       NaN       NaN                 NaN   \n",
       "1169                Drivers       NaN       NaN                 NaN   \n",
       "1170                Drivers       NaN       NaN                 NaN   \n",
       "\n",
       "                  variable_dependent  significant label_ttype  \\\n",
       "9     selected_genetic_immune_escape         True       NSCLC   \n",
       "10    selected_genetic_immune_escape         True       NSCLC   \n",
       "13    selected_genetic_immune_escape         True       NSCLC   \n",
       "20    selected_genetic_immune_escape         True      COREAD   \n",
       "22    selected_genetic_immune_escape         True      COREAD   \n",
       "...                              ...          ...         ...   \n",
       "1162  selected_genetic_immune_escape         True      COREAD   \n",
       "1165  selected_genetic_immune_escape         True      COREAD   \n",
       "1166  selected_genetic_immune_escape         True      COREAD   \n",
       "1169  selected_genetic_immune_escape         True      COREAD   \n",
       "1170  selected_genetic_immune_escape         True      COREAD   \n",
       "\n",
       "      not_significant_simulatedGIE  \n",
       "9                             True  \n",
       "10                            True  \n",
       "13                            True  \n",
       "20                            True  \n",
       "22                            True  \n",
       "...                            ...  \n",
       "1162                          True  \n",
       "1165                          True  \n",
       "1166                          True  \n",
       "1169                          True  \n",
       "1170                          True  \n",
       "\n",
       "[85 rows x 12 columns]"
      ]
     },
     "execution_count": 99,
     "metadata": {},
     "output_type": "execute_result"
    }
   ],
   "source": [
    "df[(df[\"not_significant_simulatedGIE\"])&(df[\"variable_dependent\"]==\"selected_genetic_immune_escape\")]"
   ]
  },
  {
   "cell_type": "code",
   "execution_count": null,
   "id": "a32417b4",
   "metadata": {},
   "outputs": [],
   "source": []
  }
 ],
 "metadata": {
  "kernelspec": {
   "display_name": "Python 3",
   "language": "python",
   "name": "python3"
  },
  "language_info": {
   "codemirror_mode": {
    "name": "ipython",
    "version": 3
   },
   "file_extension": ".py",
   "mimetype": "text/x-python",
   "name": "python",
   "nbconvert_exporter": "python",
   "pygments_lexer": "ipython3",
   "version": "3.6.9"
  },
  "widgets": {
   "application/vnd.jupyter.widget-state+json": {
    "state": {},
    "version_major": 2,
    "version_minor": 0
   }
  }
 },
 "nbformat": 4,
 "nbformat_minor": 5
}
