{
 "cells": [
  {
   "cell_type": "code",
   "execution_count": 1,
   "id": "4163b270",
   "metadata": {},
   "outputs": [],
   "source": [
    "import glob\n",
    "import os\n",
    "import pandas as pd\n",
    "import numpy as np\n",
    "import tqdm as tqdm\n",
    "import matplotlib.pyplot as plt\n",
    "import seaborn as sns"
   ]
  },
  {
   "cell_type": "markdown",
   "id": "e2977abf",
   "metadata": {},
   "source": [
    "----"
   ]
  },
  {
   "cell_type": "markdown",
   "id": "228558aa",
   "metadata": {},
   "source": [
    "### Important\n",
    "\n",
    "For each cancer type as well as the pan-cancer cohort we run dndscv with default options in both Hartwig and PCAWG samples:\n",
    "\n",
    "1. To estimate global MHC-I (combining HLA-A, HLA-B and HLA-C) dn/ds ratios. Only in pancancer manner.\n",
    "2. To estimate the gene-specific and pan-cancer dN/dS ratios in a pan-cancer manner for MHC-I genes. \n",
    "3. To identify positively selected genes by recurrent mutation of the list of 21 genes selected for anylsis in this publication (see Supp. Table 1). This analysis is performed in a pan-cancer and cancer type specific manner. \n",
    "\n",
    "The script scripts/positive_selection/mutations/run_driver_pipeline_dndscv.py was used to run the Hartwig and PCAWG a pan-cancer and cancer type specific analyses.\n",
    "This scripts uses scripts/positive_selection/mutations/run_dndscv.R to compute the dndscv driver genes and dN/dS ratios"
   ]
  },
  {
   "cell_type": "markdown",
   "id": "6f864ed6",
   "metadata": {},
   "source": [
    "### Genes"
   ]
  },
  {
   "cell_type": "code",
   "execution_count": 2,
   "id": "e5019157",
   "metadata": {},
   "outputs": [],
   "source": [
    "# hla locus\n",
    "mhc_I = [\"HLA-A\",\"HLA-B\",\"HLA-C\"]\n",
    "# APP related proteins\n",
    "transport_mhc = [\"TAP1\",\"TAP2\",\"TAPBP\"]\n",
    "scaffold_mhc = [\"B2M\",\"CALR\"]\n",
    "#interferon\n",
    "interferon=[\"JAK1\",\"JAK2\",\"STAT1\",\"IRF2\",\"APLNR\",\"IFNGR1\", \"IFNGR2\"]\n",
    "#TFs HLA locus\n",
    "tfs=[\"NLRC5\",\"RFX5\",\"CIITA\"]\n",
    "# CD58\n",
    "cd58_nk = [\"CD58\"]\n",
    "d_data = {\"MHC-I\":mhc_I,\"transport_mhc\":transport_mhc,\"scaffold_mhc\":scaffold_mhc,\"IFN-gamma\":interferon,\"Activators-MHC\":tfs,\"cd58_nk\":cd58_nk}\n",
    "pallete = {\"wt\":\"#ef8a62\",\"alteration\":\"#67a9cf\",\"alteration_primary\":\"#7570b3\"}"
   ]
  },
  {
   "cell_type": "code",
   "execution_count": 3,
   "id": "ce7cc887",
   "metadata": {},
   "outputs": [],
   "source": [
    "total= []\n",
    "for k in d_data:\n",
    "    total+=d_data[k]"
   ]
  },
  {
   "cell_type": "markdown",
   "id": "c8c81665",
   "metadata": {},
   "source": [
    "### Metastasis"
   ]
  },
  {
   "cell_type": "code",
   "execution_count": null,
   "id": "207cc18d",
   "metadata": {},
   "outputs": [],
   "source": [
    "l,l1=[], []\n",
    "for filein in glob.glob(\"/home/fran/Documents/cuppen/HPC/tunnel/cuppen/projects/P0020_genetics_immune_escape/large_scale_primary_met/processed/hmf/positive_selection/dndscv/*.ci.tsv.gz\"):\n",
    "    ttype = os.path.basename(filein).split(\".\")[0]\n",
    "    df = pd.read_csv(filein,sep=\"\\t\")\n",
    "    df_d = pd.read_csv(filein.replace(\".ci.\",\".results.\"),sep=\"\\t\")\n",
    "    df=df[df[\"gene\"].isin(total)]\n",
    "    df_d = df_d[df_d[\"gene_name\"].isin(total)]\n",
    "    df[\"ttype\"] = ttype\n",
    "    df_d[\"ttype\"] = ttype\n",
    "    l.append(df)\n",
    "    l1.append(df_d)\n",
    "df_total = pd.concat(l)\n",
    "df_total_d = pd.concat(l1)"
   ]
  },
  {
   "cell_type": "code",
   "execution_count": null,
   "id": "48cea694",
   "metadata": {},
   "outputs": [],
   "source": [
    "df_total_d.sort_values(\"qglobal_cv\").to_csv(\"../results/data/dndscv_output_immune_genes_hmf.tsv.gz\",sep=\"\\t\",index=False,compression=\"gzip\")\n",
    "df_total_d[df_total_d[\"qglobal_cv\"]<.1].to_csv(\"../results/data/MUT_positive_selection_HMF.tsv\",sep=\"\\t\")"
   ]
  },
  {
   "cell_type": "code",
   "execution_count": null,
   "id": "58188c74",
   "metadata": {},
   "outputs": [],
   "source": [
    "df_total_d[df_total_d[\"qglobal_cv\"]<.1]"
   ]
  },
  {
   "cell_type": "code",
   "execution_count": null,
   "id": "4f990298",
   "metadata": {},
   "outputs": [],
   "source": [
    "df_total_d.groupby([\"gene_name\"]).agg({\"qglobal_cv\":np.nanmin,})"
   ]
  },
  {
   "cell_type": "code",
   "execution_count": null,
   "id": "89645d63",
   "metadata": {},
   "outputs": [],
   "source": [
    "df_total[df_total[\"ttype\"]==\"pancancer\"]"
   ]
  },
  {
   "cell_type": "markdown",
   "id": "c01f63c1",
   "metadata": {},
   "source": [
    "### PCAWG"
   ]
  },
  {
   "cell_type": "code",
   "execution_count": null,
   "id": "d2af1f6d",
   "metadata": {},
   "outputs": [],
   "source": [
    "l,l1=[], []\n",
    "for filein in glob.glob(\"/home/fran/Documents/cuppen/HPC/tunnel/cuppen/projects/P0020_genetics_immune_escape/large_scale_primary_met/processed/pcawg/positive_selection/dndscv/*.ci.tsv.gz\"):\n",
    "    ttype = os.path.basename(filein).split(\".\")[0]\n",
    "    df = pd.read_csv(filein,sep=\"\\t\")\n",
    "    df_d = pd.read_csv(filein.replace(\".ci.\",\".results.\"),sep=\"\\t\")\n",
    "    df=df[df[\"gene\"].isin(total)]\n",
    "    df_d = df_d[df_d[\"gene_name\"].isin(total)]\n",
    "    df[\"ttype\"] = ttype\n",
    "    df_d[\"ttype\"] = ttype\n",
    "    l.append(df)\n",
    "    l1.append(df_d)\n",
    "df_total = pd.concat(l)\n",
    "df_total_d = pd.concat(l1)"
   ]
  },
  {
   "cell_type": "code",
   "execution_count": null,
   "id": "dc0805d7",
   "metadata": {},
   "outputs": [],
   "source": [
    "df_total_d.sort_values(\"qglobal_cv\").to_csv(\"../results/data/dndscv_output_immune_genes_pcawg.tsv.gz\",sep=\"\\t\",index=False,compression=\"gzip\")\n",
    "df_total_d[df_total_d[\"qglobal_cv\"]<.1].to_csv(\"../results/data/MUT_positive_selection_PCAWG.tsv\",sep=\"\\t\")"
   ]
  },
  {
   "cell_type": "code",
   "execution_count": null,
   "id": "e27f91f0",
   "metadata": {},
   "outputs": [],
   "source": [
    "df_total_d[df_total_d[\"qglobal_cv\"]<.1]"
   ]
  },
  {
   "cell_type": "code",
   "execution_count": null,
   "id": "1dd7d503",
   "metadata": {},
   "outputs": [],
   "source": [
    "df_total[df_total[\"ttype\"]==\"pancancer\"]"
   ]
  },
  {
   "cell_type": "code",
   "execution_count": null,
   "id": "87379444",
   "metadata": {},
   "outputs": [],
   "source": []
  },
  {
   "cell_type": "code",
   "execution_count": null,
   "id": "c3cfd99c",
   "metadata": {},
   "outputs": [],
   "source": []
  }
 ],
 "metadata": {
  "kernelspec": {
   "display_name": "Python 3",
   "language": "python",
   "name": "python3"
  },
  "language_info": {
   "codemirror_mode": {
    "name": "ipython",
    "version": 3
   },
   "file_extension": ".py",
   "mimetype": "text/x-python",
   "name": "python",
   "nbconvert_exporter": "python",
   "pygments_lexer": "ipython3",
   "version": "3.6.9"
  },
  "widgets": {
   "application/vnd.jupyter.widget-state+json": {
    "state": {},
    "version_major": 2,
    "version_minor": 0
   }
  }
 },
 "nbformat": 4,
 "nbformat_minor": 5
}
