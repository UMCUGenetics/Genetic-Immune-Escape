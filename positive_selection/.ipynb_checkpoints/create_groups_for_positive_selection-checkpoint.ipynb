{
 "cells": [
  {
   "cell_type": "code",
   "execution_count": 3,
   "metadata": {},
   "outputs": [],
   "source": [
    "import pandas as pd\n",
    "import os\n",
    "import json\n",
    "import numpy as np\n",
    "\n",
    "import seaborn as sns\n",
    "import matplotlib.pyplot as plt"
   ]
  },
  {
   "cell_type": "code",
   "execution_count": 6,
   "metadata": {},
   "outputs": [],
   "source": [
    "df_meta = pd.read_csv(\"../metadata/dataset_metadata_supp_table3.tsv\",sep=\"\\t\")\n",
    "df_hmf_ttypes=df_meta[(df_meta[\"cohort\"]==\"Hartwig\")&(df_meta[\"is_selected\"])]"
   ]
  },
  {
   "cell_type": "code",
   "execution_count": 7,
   "metadata": {},
   "outputs": [
    {
     "data": {
      "text/plain": [
       "(4472, 51)"
      ]
     },
     "execution_count": 7,
     "metadata": {},
     "output_type": "execute_result"
    }
   ],
   "source": [
    "df_hmf_ttypes.shape"
   ]
  },
  {
   "cell_type": "code",
   "execution_count": 8,
   "metadata": {},
   "outputs": [],
   "source": [
    "a=df_hmf_ttypes.groupby(\"cancer_type\").agg({\"sample_id\":\"count\"})\n",
    "ttypes_selected=list(a[a[\"sample_id\"]>=15].index)\n",
    "ttypes_selected.remove(\"CUP\")\n",
    "ttypes_not_selected=list(a[a[\"sample_id\"]<15].index)+[\"CUP\"]"
   ]
  },
  {
   "cell_type": "code",
   "execution_count": 9,
   "metadata": {},
   "outputs": [],
   "source": [
    "d_hmf = {}\n",
    "for ttype in ttypes_selected:\n",
    "    d_hmf[ttype.replace(\" \",\"__\")] = list(df_hmf_ttypes[df_hmf_ttypes[\"cancer_type\"]==ttype][\"sample_id\"].values)\n",
    "    \n",
    "#d_hmf[\"Other\"] = list(df_hmf_ttypes[df_hmf_ttypes[\"sample_id\"].isin(ttypes_not_selected)][\"sample_id\"].values)"
   ]
  },
  {
   "cell_type": "code",
   "execution_count": 10,
   "metadata": {},
   "outputs": [],
   "source": [
    "d_hmf[\"pancancer\"] = list(df_hmf_ttypes[\"sample_id\"].values)"
   ]
  },
  {
   "cell_type": "code",
   "execution_count": 11,
   "metadata": {},
   "outputs": [],
   "source": [
    "with open(\"/home/fran/Documents/cuppen/HPC/tunnel/cuppen/projects/P0020_genetics_immune_escape/large_scale_primary_met/processed/hmf/hmf_by_ttype.json\",'w') as f:\n",
    "    json.dump(d_hmf,f)\n",
    "    "
   ]
  },
  {
   "cell_type": "markdown",
   "metadata": {},
   "source": [
    "### PCAWG"
   ]
  },
  {
   "cell_type": "code",
   "execution_count": 12,
   "metadata": {},
   "outputs": [],
   "source": [
    "df_pcawg_ttypes=df_meta[(df_meta[\"cohort\"]==\"PCAWG\")&(df_meta[\"is_selected\"])]"
   ]
  },
  {
   "cell_type": "code",
   "execution_count": 13,
   "metadata": {},
   "outputs": [],
   "source": [
    "a=df_pcawg_ttypes.groupby(\"cancer_type\").agg({\"sample_id\":\"count\"})\n",
    "ttypes_selected=list(a[a[\"sample_id\"]>=15].index)\n",
    "ttypes_not_selected=list(a[a[\"sample_id\"]<15].index)"
   ]
  },
  {
   "cell_type": "code",
   "execution_count": 14,
   "metadata": {},
   "outputs": [],
   "source": [
    "d_pcawg = {}\n",
    "for ttype in ttypes_selected:\n",
    "    d_pcawg[ttype.replace(\" \",\"__\")] = list(df_pcawg_ttypes[df_pcawg_ttypes[\"cancer_type\"]==ttype][\"sample_id\"].values)\n",
    "    \n",
    "#d_pcawg[\"Other\"] = list(df_pcawg_ttypes[df_pcawg_ttypes[\"cancer_type\"].isin(ttypes_not_selected)][\"sample_id\"].values)"
   ]
  },
  {
   "cell_type": "code",
   "execution_count": 15,
   "metadata": {},
   "outputs": [],
   "source": [
    "d_pcawg[\"pancancer\"] = list(df_pcawg_ttypes[\"sample_id\"].values)"
   ]
  },
  {
   "cell_type": "code",
   "execution_count": 17,
   "metadata": {},
   "outputs": [],
   "source": [
    "with open(\"/home/fran/Documents/cuppen/HPC/tunnel/cuppen/projects/P0020_genetics_immune_escape/large_scale_primary_met/processed/pcawg/pcawg_by_ttype_lilac.json\",'w') as f:\n",
    "    json.dump(d_pcawg,f)\n",
    "    "
   ]
  },
  {
   "cell_type": "code",
   "execution_count": 18,
   "metadata": {},
   "outputs": [
    {
     "data": {
      "text/plain": [
       "(1880, 51)"
      ]
     },
     "execution_count": 18,
     "metadata": {},
     "output_type": "execute_result"
    }
   ],
   "source": [
    "df_pcawg_ttypes.shape"
   ]
  }
 ],
 "metadata": {
  "kernelspec": {
   "display_name": "Python 3",
   "language": "python",
   "name": "python3"
  },
  "language_info": {
   "codemirror_mode": {
    "name": "ipython",
    "version": 3
   },
   "file_extension": ".py",
   "mimetype": "text/x-python",
   "name": "python",
   "nbconvert_exporter": "python",
   "pygments_lexer": "ipython3",
   "version": "3.6.9"
  },
  "widgets": {
   "application/vnd.jupyter.widget-state+json": {
    "state": {},
    "version_major": 2,
    "version_minor": 0
   }
  }
 },
 "nbformat": 4,
 "nbformat_minor": 4
}
