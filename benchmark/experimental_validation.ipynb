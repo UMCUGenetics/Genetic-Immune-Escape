{
 "cells": [
  {
   "cell_type": "code",
   "execution_count": 8,
   "metadata": {},
   "outputs": [],
   "source": [
    "import pandas as pd\n",
    "import json\n",
    "pd.options.display.max_columns=100\n",
    "import os\n",
    "import numpy as np\n",
    "import matplotlib.pyplot as plt\n",
    "import pickle\n",
    "from statannot import add_stat_annotation\n",
    "from scipy import stats\n",
    "import matplotlib.cm as cm\n",
    "import matplotlib"
   ]
  },
  {
   "cell_type": "markdown",
   "metadata": {},
   "source": [
    "### Data validation"
   ]
  },
  {
   "cell_type": "code",
   "execution_count": 9,
   "metadata": {},
   "outputs": [],
   "source": [
    "df = pd.read_excel(\"data/parsedValdiationResults.xlsx\")"
   ]
  },
  {
   "cell_type": "code",
   "execution_count": 10,
   "metadata": {},
   "outputs": [
    {
     "data": {
      "text/html": [
       "<div>\n",
       "<style scoped>\n",
       "    .dataframe tbody tr th:only-of-type {\n",
       "        vertical-align: middle;\n",
       "    }\n",
       "\n",
       "    .dataframe tbody tr th {\n",
       "        vertical-align: top;\n",
       "    }\n",
       "\n",
       "    .dataframe thead th {\n",
       "        text-align: right;\n",
       "    }\n",
       "</style>\n",
       "<table border=\"1\" class=\"dataframe\">\n",
       "  <thead>\n",
       "    <tr style=\"text-align: right;\">\n",
       "      <th></th>\n",
       "      <th></th>\n",
       "      <th>A1</th>\n",
       "      <th>A2</th>\n",
       "      <th>B1</th>\n",
       "      <th>B2</th>\n",
       "      <th>C1</th>\n",
       "      <th>C2</th>\n",
       "    </tr>\n",
       "    <tr>\n",
       "      <th>HMFID</th>\n",
       "      <th>Name</th>\n",
       "      <th></th>\n",
       "      <th></th>\n",
       "      <th></th>\n",
       "      <th></th>\n",
       "      <th></th>\n",
       "      <th></th>\n",
       "    </tr>\n",
       "  </thead>\n",
       "  <tbody>\n",
       "    <tr>\n",
       "      <th>CPCT02070444R</th>\n",
       "      <th>S5586-HMF-VAL-HLA-BLOOD-01</th>\n",
       "      <td>A*23:01</td>\n",
       "      <td>A*32:01</td>\n",
       "      <td>B*44:02</td>\n",
       "      <td>B*44:03</td>\n",
       "      <td>C*04:01</td>\n",
       "      <td>C*05:01</td>\n",
       "    </tr>\n",
       "    <tr>\n",
       "      <th>CPCT02070446R</th>\n",
       "      <th>S5587-HMF-VAL-HLA-BLOOD-02</th>\n",
       "      <td>A*24:02</td>\n",
       "      <td>A*26:01</td>\n",
       "      <td>B*15:02</td>\n",
       "      <td>B*15:06</td>\n",
       "      <td>C*04:03</td>\n",
       "      <td>C*08:01</td>\n",
       "    </tr>\n",
       "    <tr>\n",
       "      <th>CPCT02060289R</th>\n",
       "      <th>S5588-HMF-VAL-HLA-BLOOD-03</th>\n",
       "      <td>A*02:01</td>\n",
       "      <td>A*33:01</td>\n",
       "      <td>B*14:02</td>\n",
       "      <td>B*44:02</td>\n",
       "      <td>C*05:01</td>\n",
       "      <td>C*08:02</td>\n",
       "    </tr>\n",
       "    <tr>\n",
       "      <th>CPCT02070485R</th>\n",
       "      <th>S5589-HMF-VAL-HLA-BLOOD-04</th>\n",
       "      <td>A*30:02</td>\n",
       "      <td>A*68:02</td>\n",
       "      <td>B*44:02</td>\n",
       "      <td>B*53:01</td>\n",
       "      <td>C*04:01</td>\n",
       "      <td>C*07:02</td>\n",
       "    </tr>\n",
       "    <tr>\n",
       "      <th>CPCT02080312R</th>\n",
       "      <th>S5590-HMF-VAL-HLA-BLOOD-05</th>\n",
       "      <td>A*03:01</td>\n",
       "      <td>A*25:01</td>\n",
       "      <td>B*15:01</td>\n",
       "      <td>B*35:03</td>\n",
       "      <td>C*03:04</td>\n",
       "      <td>C*04:01</td>\n",
       "    </tr>\n",
       "  </tbody>\n",
       "</table>\n",
       "</div>"
      ],
      "text/plain": [
       "                                               A1       A2       B1       B2  \\\n",
       "HMFID         Name                                                             \n",
       "CPCT02070444R S5586-HMF-VAL-HLA-BLOOD-01  A*23:01  A*32:01  B*44:02  B*44:03   \n",
       "CPCT02070446R S5587-HMF-VAL-HLA-BLOOD-02  A*24:02  A*26:01  B*15:02  B*15:06   \n",
       "CPCT02060289R S5588-HMF-VAL-HLA-BLOOD-03  A*02:01  A*33:01  B*14:02  B*44:02   \n",
       "CPCT02070485R S5589-HMF-VAL-HLA-BLOOD-04  A*30:02  A*68:02  B*44:02  B*53:01   \n",
       "CPCT02080312R S5590-HMF-VAL-HLA-BLOOD-05  A*03:01  A*25:01  B*15:01  B*35:03   \n",
       "\n",
       "                                               C1       C2  \n",
       "HMFID         Name                                          \n",
       "CPCT02070444R S5586-HMF-VAL-HLA-BLOOD-01  C*04:01  C*05:01  \n",
       "CPCT02070446R S5587-HMF-VAL-HLA-BLOOD-02  C*04:03  C*08:01  \n",
       "CPCT02060289R S5588-HMF-VAL-HLA-BLOOD-03  C*05:01  C*08:02  \n",
       "CPCT02070485R S5589-HMF-VAL-HLA-BLOOD-04  C*04:01  C*07:02  \n",
       "CPCT02080312R S5590-HMF-VAL-HLA-BLOOD-05  C*03:04  C*04:01  "
      ]
     },
     "execution_count": 10,
     "metadata": {},
     "output_type": "execute_result"
    }
   ],
   "source": [
    "validation=df[[\"Name\",'HMFID','Validation parsed 4 digit types','Unnamed: 21', 'Unnamed: 22', 'Unnamed: 23', 'Unnamed: 24', 'Unnamed: 25']].rename(columns={'Validation parsed 4 digit types':\"A1\",'Unnamed: 21':\"A2\", 'Unnamed: 22':\"B1\", 'Unnamed: 23':\"B2\", 'Unnamed: 24':\"C1\", 'Unnamed: 25':\"C2\"}).set_index([\"HMFID\",\"Name\"])\n",
    "validation.head()"
   ]
  },
  {
   "cell_type": "markdown",
   "metadata": {},
   "source": [
    "### Find data in case of missing"
   ]
  },
  {
   "cell_type": "code",
   "execution_count": 11,
   "metadata": {},
   "outputs": [],
   "source": [
    "def transform_allele_poly(r):\n",
    "    r=r.upper().replace(\"HLA_\",\"\")\n",
    "    return r[0]+\"*\"+r[2:4]+\":\"+r[5:7]\n",
    "    \n",
    "def read_polysolver(path):\n",
    "    l=[]\n",
    "    if not(os.path.exists(path)):\n",
    "        return []\n",
    "    with open(path,'r') as f:\n",
    "        for line in f.readlines():\n",
    "            line = line.rstrip()\n",
    "            _,hla_1,hla_2 = line.split(\"\\t\")\n",
    "            p_hla_1,p_hla_2 = transform_allele_poly(hla_1),transform_allele_poly(hla_2)\n",
    "            l+=[p_hla_1,p_hla_2]\n",
    "            \n",
    "    return l\n",
    "def read_hlas_xhla(path):\n",
    "    if not(os.path.exists(path)):\n",
    "        return []\n",
    "    with open(path, 'r') as f:\n",
    "        d = json.load(f)[\"hla\"]\n",
    "    list_normal_total = [get_4digit_xhla(hla) for hla in d[\"alleles\"]]\n",
    "    list_normal_I = list([hla for hla in list_normal_total if hla[4] != \"D\"]) # only class I at this moment\n",
    "    list_normal_parsed = [hla[4]+\"*\"+hla[5:] for hla in list_normal_I]\n",
    "    return list_normal_parsed\n",
    "\n",
    "def get_4digit_xhla(hla):\n",
    "    v = \"HLA-\" + hla.replace(\"*\", \"\")\n",
    "    if v[-1] == \"N\": # this allele is raising an error...\n",
    "        return v[0:-1] # remove the \"N\" of the final...\n",
    "    return v            \n",
    "def find_sample(donor):\n",
    "    \n",
    "    filein1=f\"/home/fran/Documents/cuppen/HPC/tunnel/cuppen/projects/P0020_genetics_immune_escape/large_scale_primary_met/processed/hmf/lilac_validation/{donor}/{donor}_normal.lilac.csv.gz\"\n",
    "    filein2=f\"/home/fran/Documents/cuppen/HPC/tunnel/cuppen/projects/P0020_genetics_immune_escape/large_scale_primary_met/processed/hmf/lilac_validation/{donor}/{donor}_tumor.lilac.csv.gz\"\n",
    "    if not(os.path.exists(filein1)):\n",
    "        if len(donor) < 16:\n",
    "            return find_sample(donor+\"I\")\n",
    "        else:\n",
    "            return {}\n",
    "    df=pd.read_csv(filein1,sep=\",\")\n",
    "    df1=pd.read_csv(filein2,sep=\",\")\n",
    "    alleles_normal_lilac = df[\"Allele\"].values\n",
    "    alleles_tumor_lilac = df1[\"Allele\"].values\n",
    "    \n",
    "    # find polysolver\n",
    "    path_normal_polysolver=f\"/home/fran/Documents/cuppen/HPC/tunnel/cuppen/projects/P0020_genetics_immune_escape/large_scale_primary_met/processed/hmf/hla_events/{donor}/typing_normal/winners.hla.txt\"\n",
    "    path_tumor_polysolver=f\"/home/fran/Documents/cuppen/HPC/tunnel/cuppen/projects/P0020_genetics_immune_escape/large_scale_primary_met/processed/hmf/hla_events/{donor}/typing_tumor/winners.hla.txt\"\n",
    "    alleles_normal_poly = read_polysolver(path_normal_polysolver)\n",
    "    alleles_tumor_poly = read_polysolver(path_tumor_polysolver)\n",
    "    # find xhla\n",
    "    path_normal_xhla=f\"/home/fran/Documents/cuppen/HPC/tunnel/cuppen/projects/P0020_genetics_immune_escape/large_scale_primary_met/processed/hmf/hla_events/{donor}/typing_normal_xhla/report-{donor}-hla.json\"\n",
    "    path_tumor_xhla=f\"/home/fran/Documents/cuppen/HPC/tunnel/cuppen/projects/P0020_genetics_immune_escape/large_scale_primary_met/processed/hmf/hla_events/{donor}/typing_tumor_xhla/report-{donor}-hla.json\"\n",
    "    alleles_normal_xhla = read_hlas_xhla(path_normal_xhla)\n",
    "    alleles_tumor_xhla = read_hlas_xhla(path_tumor_xhla)\n",
    "    # general\n",
    "    return {\"polysolver\":{\"normal\":alleles_normal_poly,\"tumor\":alleles_tumor_poly},\"xHLA\":{\"normal\":alleles_normal_xhla,\"tumor\":alleles_tumor_xhla},\"LILAC\":{\"normal\":alleles_normal_lilac,\"tumor\":alleles_tumor_lilac}}"
   ]
  },
  {
   "cell_type": "markdown",
   "metadata": {},
   "source": [
    "### Find information for all samples"
   ]
  },
  {
   "cell_type": "code",
   "execution_count": 37,
   "metadata": {},
   "outputs": [],
   "source": [
    "with open(\"data/per_sample_HLA_type.json\") as f:\n",
    "    d_data = json.load(f)\n",
    "for t,r in validation.iterrows(): # first tests whether all samples are included\n",
    "    i=t[0]\n",
    "    sample = i.replace(\"R\",\"T\")\n",
    "    if not(sample in d_data):\n",
    "        d_data[sample] = find_sample(sample)"
   ]
  },
  {
   "cell_type": "code",
   "execution_count": 38,
   "metadata": {},
   "outputs": [],
   "source": [
    "l=[]\n",
    "for t,r in validation.iterrows():\n",
    "    i=t[0]\n",
    "    sample = i.replace(\"R\",\"T\")\n",
    "    \n",
    "    data_lilac=d_data[sample][\"LILAC\"][\"normal\"]\n",
    "    data_xhla=d_data[sample][\"xHLA\"][\"normal\"]\n",
    "    data_polysolver=d_data[sample][\"polysolver\"][\"normal\"]\n",
    "    for e in [\"A1\",\"A2\",\"B1\",\"B2\",\"C1\",\"C2\"]:\n",
    "        allele=r[e]\n",
    "        if \"XX\" in allele or \"Rejected\" in allele or len(allele) <7: # was not defined experimentally\n",
    "            l.append([t[1],sample,i,sample==i,allele,False,np.nan,np.nan,np.nan])\n",
    "            continue\n",
    "        l.append([t[1],sample,i,sample==i,allele,True,allele in data_lilac,allele in data_xhla,allele in data_polysolver])\n",
    "df_val = pd.DataFrame(l,columns=[\"id_s\",\"sample\",\"sample_original\",\"tumor_sample\",\"allele\",\"exp_valid\",\"lilac\",\"xhla\",\"polysolver\"])               "
   ]
  },
  {
   "cell_type": "code",
   "execution_count": 32,
   "metadata": {},
   "outputs": [],
   "source": [
    "df_meta = pd.read_csv(\"../metadata/dataset_metadata_supp_table3.tsv\",sep=\"\\t\")[[\"sample_id\",\"sample_id_2\"]].rename(columns={\"sample_id\":\"sample\",\"sample_id_2\":\"sample_id\"})\n",
    "df_val.merge(df_meta).drop([\"sample_original\",\"sample\"],axis=1).to_csv(\"data/gendx_validation_info.tsv\",sep=\"\\t\",index=False)"
   ]
  },
  {
   "cell_type": "markdown",
   "metadata": {},
   "source": [
    "### Plot it!"
   ]
  },
  {
   "cell_type": "code",
   "execution_count": 34,
   "metadata": {},
   "outputs": [],
   "source": [
    "colors = {\"polysolver\":\"#e41a1c\",\"xhla\":\"#377eb8\",\"LILAC\":\"#4daf4a\"}"
   ]
  },
  {
   "cell_type": "markdown",
   "metadata": {},
   "source": [
    "### Number of samples"
   ]
  },
  {
   "cell_type": "code",
   "execution_count": 50,
   "metadata": {},
   "outputs": [
    {
     "data": {
      "image/png": "[encoded data removed]",
      "text/plain": [
       "<Figure size 216x216 with 1 Axes>"
      ]
     },
     "metadata": {
      "needs_background": "light"
     },
     "output_type": "display_data"
    }
   ],
   "source": [
    "total_samples = len(df_val[df_val[\"exp_valid\"]][\"sample_original\"].unique())\n",
    "total_samples_tumor = len(df_val[df_val[\"tumor_sample\"]==True][\"sample_original\"].unique())\n",
    "# general \n",
    "samples_with_hla_typing_polysolver = total_samples - len(df_val[(df_val[\"exp_valid\"])&(df_val[\"polysolver\"]==False)][\"sample\"].unique())\n",
    "samples_with_hla_typing_polysolver_tumor = total_samples_tumor - len(df_val[(df_val[\"exp_valid\"])&(df_val[\"polysolver\"]==False)&(df_val[\"tumor_sample\"])][\"sample\"].unique())\n",
    "samples_with_hla_typing_xhla = total_samples - len(df_val[(df_val[\"exp_valid\"])&(df_val[\"xhla\"]==False)][\"sample\"].unique())\n",
    "samples_with_hla_typing_xhla_tumor = total_samples_tumor - len(df_val[(df_val[\"exp_valid\"])&(df_val[\"xhla\"]==False)&(df_val[\"tumor_sample\"])][\"sample\"].unique())\n",
    "samples_with_hla_typing_LILAC = total_samples - len(df_val[(df_val[\"exp_valid\"])&(df_val[\"lilac\"]==False)][\"sample\"].unique())\n",
    "samples_with_hla_typing_LILAC_tumor = total_samples_tumor - len(df_val[(df_val[\"exp_valid\"])&(df_val[\"lilac\"]==False)&(df_val[\"tumor_sample\"])][\"sample\"].unique())\n",
    "\n",
    "fig,ax = plt.subplots(figsize=(3,3))\n",
    "colors = {\"polysolver\":\"#e41a1c\",\"xhla\":\"#377eb8\",\"LILAC\":\"#4daf4a\"}\n",
    "yticks_labels = [\"Experimentally tested Hartwig samples \"]\n",
    "yticks = []\n",
    "y=0\n",
    "ax.barh(y=y,width=total_samples,color=\"grey\",edgecolor=\"black\",linewidth=1.5,alpha=0.75)\n",
    "ax.barh(y=y,width=samples_with_hla_typing_polysolver_tumor,color=\"grey\",edgecolor=\"black\",linewidth=1.5,alpha=1.0)\n",
    "\n",
    "ax.annotate(xy=(total_samples+1,y),s=str(total_samples),fontsize=16 )\n",
    "yticks.append(y)\n",
    "y-=1\n",
    "yticks_labels.append(\"Polysolver\")\n",
    "ax.barh(y=y,width=samples_with_hla_typing_polysolver,color=colors[\"polysolver\"],edgecolor=\"black\",linewidth=1.5,alpha=0.75)\n",
    "ax.barh(y=y,width=samples_with_hla_typing_polysolver_tumor,color=colors[\"polysolver\"],edgecolor=\"black\",linewidth=1.5,alpha=1.0)\n",
    "ax.annotate(xy=(samples_with_hla_typing_polysolver+1,y),s=str(samples_with_hla_typing_polysolver) + \"  ({0:.2%})\".format(samples_with_hla_typing_polysolver/total_samples),fontsize=16)\n",
    "yticks_labels.append(\"xHLA\")\n",
    "yticks.append(y)\n",
    "y-=1\n",
    "ax.barh(y=y,width=samples_with_hla_typing_xhla,color=colors[\"xhla\"],edgecolor=\"black\",linewidth=1.5,alpha=0.75)\n",
    "ax.barh(y=y,width=samples_with_hla_typing_xhla_tumor,color=colors[\"xhla\"],edgecolor=\"black\",linewidth=1.5,alpha=0.75)\n",
    "ax.annotate(xy=(samples_with_hla_typing_xhla+1,y),s=str(samples_with_hla_typing_xhla) + \"  ({0:.2%})\".format(samples_with_hla_typing_xhla/total_samples),fontsize=16)\n",
    "yticks_labels.append(\"LILAC\")\n",
    "yticks.append(y)\n",
    "y-=1\n",
    "ax.barh(y=y,width=samples_with_hla_typing_LILAC,color=colors[\"LILAC\"],edgecolor=\"black\",linewidth=1.5,alpha=0.75)\n",
    "ax.barh(y=y,width=samples_with_hla_typing_LILAC_tumor,color=colors[\"LILAC\"],edgecolor=\"black\",linewidth=1.5,alpha=1.)\n",
    "ax.annotate(xy=(samples_with_hla_typing_LILAC+1,y),s=str(samples_with_hla_typing_LILAC) + \"  ({0:.2%})\".format(samples_with_hla_typing_LILAC/total_samples),fontsize=16)\n",
    "yticks.append(y)\n",
    "\n",
    "ax.set_xlim(0,100)\n",
    "ax.set_yticks(yticks)\n",
    "ax.set_yticklabels(yticks_labels)\n",
    "ax.spines['right'].set_visible(False)\n",
    "ax.spines['top'].set_visible(False)\n",
    "ax.set_xlabel(\"Number of samples\",fontsize=16)\n",
    "ax.set_title(\"Number of samples with perfect HLA-type 4 digit agreement\",fontsize=16)\n",
    "ax.tick_params(axis='both', which='major', labelsize=16)\n",
    "plt.savefig(f'../results/figures/figure1/exp_validation_patients.pdf', dpi=800,bbox_inches=\"tight\")"
   ]
  },
  {
   "cell_type": "markdown",
   "metadata": {},
   "source": [
    "### By allele"
   ]
  },
  {
   "cell_type": "code",
   "execution_count": 49,
   "metadata": {},
   "outputs": [
    {
     "data": {
      "image/png": "[encoded data removed]",
      "text/plain": [
       "<Figure size 216x216 with 1 Axes>"
      ]
     },
     "metadata": {
      "needs_background": "light"
     },
     "output_type": "display_data"
    }
   ],
   "source": [
    "total_samples = df_val[df_val[\"exp_valid\"]][\"allele\"].shape[0]\n",
    "total_samples_tumor = df_val[df_val[\"tumor_sample\"]==True].shape[0]\n",
    "# general \n",
    "samples_with_hla_typing_polysolver = total_samples - df_val[(df_val[\"exp_valid\"])&(df_val[\"polysolver\"]==False)].shape[0]\n",
    "samples_with_hla_typing_polysolver_tumor = total_samples_tumor - df_val[(df_val[\"exp_valid\"])&(df_val[\"polysolver\"]==False)&(df_val[\"tumor_sample\"])].shape[0]\n",
    "samples_with_hla_typing_xhla = total_samples - df_val[(df_val[\"exp_valid\"])&(df_val[\"xhla\"]==False)].shape[0]\n",
    "samples_with_hla_typing_xhla_tumor = total_samples_tumor - df_val[(df_val[\"exp_valid\"])&(df_val[\"xhla\"]==False)&(df_val[\"tumor_sample\"])].shape[0]\n",
    "samples_with_hla_typing_LILAC = total_samples - df_val[(df_val[\"exp_valid\"])&(df_val[\"lilac\"]==False)].shape[0]\n",
    "samples_with_hla_typing_LILAC_tumor = total_samples_tumor - df_val[(df_val[\"exp_valid\"])&(df_val[\"lilac\"]==False)&(df_val[\"tumor_sample\"])].shape[0]\n",
    "\n",
    "fig,ax = plt.subplots(figsize=(3,3))\n",
    "colors = {\"polysolver\":\"#e41a1c\",\"xhla\":\"#377eb8\",\"LILAC\":\"#4daf4a\"}\n",
    "yticks_labels = [\"Tested alleles \"]\n",
    "yticks = []\n",
    "y=0\n",
    "ax.barh(y=y,width=total_samples,color=\"grey\",edgecolor=\"black\",linewidth=1.5,alpha=0.75)\n",
    "ax.barh(y=y,width=samples_with_hla_typing_polysolver_tumor,color=\"grey\",edgecolor=\"black\",linewidth=1.5,alpha=1.0)\n",
    "\n",
    "ax.annotate(xy=(total_samples+1,y),s=str(total_samples),fontsize=16 )\n",
    "yticks.append(y)\n",
    "y-=1\n",
    "yticks_labels.append(\"Polysolver\")\n",
    "ax.barh(y=y,width=samples_with_hla_typing_polysolver,color=colors[\"polysolver\"],edgecolor=\"black\",linewidth=1.5,alpha=0.75)\n",
    "ax.barh(y=y,width=samples_with_hla_typing_polysolver_tumor,color=colors[\"polysolver\"],edgecolor=\"black\",linewidth=1.5,alpha=1.0)\n",
    "ax.annotate(xy=(samples_with_hla_typing_polysolver+1,y),s=str(samples_with_hla_typing_polysolver) + \"  ({0:.2%})\".format(samples_with_hla_typing_polysolver/total_samples),fontsize=16)\n",
    "yticks_labels.append(\"xHLA\")\n",
    "yticks.append(y)\n",
    "y-=1\n",
    "ax.barh(y=y,width=samples_with_hla_typing_xhla,color=colors[\"xhla\"],edgecolor=\"black\",linewidth=1.5,alpha=0.75)\n",
    "ax.barh(y=y,width=samples_with_hla_typing_xhla_tumor,color=colors[\"xhla\"],edgecolor=\"black\",linewidth=1.5,alpha=0.75)\n",
    "ax.annotate(xy=(samples_with_hla_typing_xhla+1,y),s=str(samples_with_hla_typing_xhla) + \"  ({0:.2%})\".format(samples_with_hla_typing_xhla/total_samples),fontsize=16)\n",
    "yticks_labels.append(\"LILAC\")\n",
    "yticks.append(y)\n",
    "y-=1\n",
    "ax.barh(y=y,width=samples_with_hla_typing_LILAC,color=colors[\"LILAC\"],edgecolor=\"black\",linewidth=1.5,alpha=0.75)\n",
    "ax.barh(y=y,width=samples_with_hla_typing_LILAC_tumor,color=colors[\"LILAC\"],edgecolor=\"black\",linewidth=1.5,alpha=1.)\n",
    "ax.annotate(xy=(samples_with_hla_typing_LILAC+1,y),s=str(samples_with_hla_typing_LILAC) + \"  ({0:.2%})\".format(samples_with_hla_typing_LILAC/total_samples),fontsize=16)\n",
    "yticks.append(y)\n",
    "\n",
    "ax.set_xlim(0,600)\n",
    "ax.set_yticks(yticks)\n",
    "ax.set_yticklabels(yticks_labels)\n",
    "ax.spines['right'].set_visible(False)\n",
    "ax.spines['top'].set_visible(False)\n",
    "ax.set_xlabel(\"Number of alleles with 2-field agreement\",fontsize=16)\n",
    "ax.set_title(\"Number of alleles with perfect HLA-type 4 digit agreement\",fontsize=16)\n",
    "ax.tick_params(axis='both', which='major', labelsize=16)\n",
    "plt.savefig(f'../results/figures/figure1/exp_validation_alleles.pdf', dpi=800,bbox_inches=\"tight\")"
   ]
  },
  {
   "cell_type": "markdown",
   "metadata": {},
   "source": [
    "### "
   ]
  }
 ],
 "metadata": {
  "kernelspec": {
   "display_name": "Python 3",
   "language": "python",
   "name": "python3"
  },
  "language_info": {
   "codemirror_mode": {
    "name": "ipython",
    "version": 3
   },
   "file_extension": ".py",
   "mimetype": "text/x-python",
   "name": "python",
   "nbconvert_exporter": "python",
   "pygments_lexer": "ipython3",
   "version": "3.6.9"
  },
  "widgets": {
   "application/vnd.jupyter.widget-state+json": {
    "state": {},
    "version_major": 2,
    "version_minor": 0
   }
  }
 },
 "nbformat": 4,
 "nbformat_minor": 4
}
