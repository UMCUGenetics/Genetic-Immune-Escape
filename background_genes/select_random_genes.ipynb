{
 "cells": [
  {
   "cell_type": "code",
   "execution_count": 1,
   "id": "b871b71c",
   "metadata": {},
   "outputs": [],
   "source": [
    "import pandas as pd\n",
    "import os\n",
    "pd.options.display.max_rows=100"
   ]
  },
  {
   "cell_type": "code",
   "execution_count": 2,
   "id": "285410a1",
   "metadata": {},
   "outputs": [],
   "source": [
    "total_genes = pd.read_csv(\"../metadata/external/selected_regions.tsv\",sep=\"\\t\") # total genes\n",
    "driver_genes = pd.read_csv(\"../metadata/external/DriverGenePanel.37.tsv\",sep=\"\\t\") # driver genes \n",
    "genes_study = pd.read_csv(\"../metadata/immune_selected_genes.tsv\",sep=\"\\t\")"
   ]
  },
  {
   "cell_type": "markdown",
   "id": "562ecd64",
   "metadata": {},
   "source": [
    "### Perform a random selection of 100 genes"
   ]
  },
  {
   "cell_type": "code",
   "execution_count": 29,
   "id": "df2efe5c",
   "metadata": {},
   "outputs": [],
   "source": [
    "random_selection=total_genes[(~(total_genes[\"gene\"].isin(driver_genes[\"gene\"].values)))&(~(total_genes[\"gene\"].isin(genes_study[\"Gene\"].values)))\n",
    "            &(~total_genes[\"gene\"].str.contains(\".\",na=False,regex=False))&(~(total_genes[\"chromosome\"].isin([\"X\",\"Y\",\"MT\"])))].sample(100)"
   ]
  },
  {
   "cell_type": "code",
   "execution_count": 30,
   "id": "6508b63c",
   "metadata": {},
   "outputs": [],
   "source": [
    "random_selection.to_csv(\"../results/data/background_genes.tsv\",sep=\"\\t\",index=False) "
   ]
  },
  {
   "cell_type": "markdown",
   "id": "64fe02a6",
   "metadata": {},
   "source": [
    "### Prepare files to run pipeline of extraction of somatic alterations in these genes"
   ]
  },
  {
   "cell_type": "code",
   "execution_count": 31,
   "id": "619830e1",
   "metadata": {},
   "outputs": [],
   "source": [
    "!cp ../results/data/background_genes.tsv /home/fran/Documents/cuppen/HPC/tunnel/cuppen/projects/P0020_genetics_immune_escape/large_scale_primary_met/processed/"
   ]
  },
  {
   "cell_type": "markdown",
   "id": "0f9a389e",
   "metadata": {},
   "source": [
    "##### hartwig"
   ]
  },
  {
   "cell_type": "code",
   "execution_count": 3,
   "id": "f7894217",
   "metadata": {},
   "outputs": [],
   "source": [
    "df_meta = pd.read_csv(\"../metadata/dataset_metadata_supp_table3.tsv\",sep=\"\\t\")\n",
    "df_meta[(df_meta[\"cohort\"]==\"Hartwig\")&(df_meta[\"is_selected\"])].to_csv(\"/home/fran/Documents/cuppen/HPC/tunnel/cuppen/projects/P0020_genetics_immune_escape/large_scale_primary_met/processed/hmf/whitelisted_samples.tsv\",sep=\"\\t\",index=False)"
   ]
  },
  {
   "cell_type": "markdown",
   "id": "db013a98",
   "metadata": {},
   "source": [
    "##### pcawg"
   ]
  },
  {
   "cell_type": "code",
   "execution_count": 47,
   "id": "2df464de",
   "metadata": {},
   "outputs": [],
   "source": [
    "df_meta = pd.read_csv(\"../metadata/dataset_metadata_supp_table3.tsv\",sep=\"\\t\")\n",
    "df_meta[(df_meta[\"cohort\"]==\"PCAWG\")&(df_meta[\"is_selected\"])].to_csv(\"/home/fran/Documents/cuppen/HPC/tunnel/cuppen/projects/P0020_genetics_immune_escape/large_scale_primary_met/processed/pcawg/whitelisted_samples.tsv\",sep=\"\\t\",index=False)"
   ]
  },
  {
   "cell_type": "code",
   "execution_count": null,
   "id": "fc0b02fa",
   "metadata": {},
   "outputs": [],
   "source": []
  }
 ],
 "metadata": {
  "kernelspec": {
   "display_name": "Python 3",
   "language": "python",
   "name": "python3"
  },
  "language_info": {
   "codemirror_mode": {
    "name": "ipython",
    "version": 3
   },
   "file_extension": ".py",
   "mimetype": "text/x-python",
   "name": "python",
   "nbconvert_exporter": "python",
   "pygments_lexer": "ipython3",
   "version": "3.6.9"
  },
  "widgets": {
   "application/vnd.jupyter.widget-state+json": {
    "state": {},
    "version_major": 2,
    "version_minor": 0
   }
  }
 },
 "nbformat": 4,
 "nbformat_minor": 5
}
