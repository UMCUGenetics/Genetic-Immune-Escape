{
 "cells": [
  {
   "cell_type": "code",
   "execution_count": 1,
   "metadata": {},
   "outputs": [],
   "source": [
    "import os \n",
    "import pandas as pd\n",
    "    \n",
    "import json\n",
    "from tqdm import tqdm\n",
    "import seaborn as sns\n",
    "import matplotlib.pyplot as plt\n",
    "import numpy as np\n",
    "import glob\n",
    "import allel\n",
    "import itertools\n",
    "from matplotlib import gridspec\n",
    "import matplotlib.pyplot as plt\n",
    "import pickle\n",
    "from statannot import add_stat_annotation\n",
    "from scipy import stats\n",
    "import matplotlib.cm as cm\n",
    "import matplotlib\n",
    "\n",
    "from math import pi\n",
    "import scipy\n",
    "\n",
    "import matplotlib.patches as mpatches\n",
    "import statsmodels.stats as sts_m\n",
    "import mne\n",
    "import statsmodels.api as sm\n",
    "from tqdm import tqdm"
   ]
  },
  {
   "cell_type": "code",
   "execution_count": 2,
   "metadata": {},
   "outputs": [],
   "source": [
    "pd.options.display.max_columns=200\n",
    "pd.options.display.max_rows=100\n",
    "from pandas.core.common import SettingWithCopyWarning\n",
    "import warnings\n",
    "warnings.simplefilter(action=\"ignore\", category=SettingWithCopyWarning)\n"
   ]
  },
  {
   "cell_type": "code",
   "execution_count": 3,
   "metadata": {},
   "outputs": [
    {
     "name": "stderr",
     "output_type": "stream",
     "text": [
      "/home/fran/miniconda3/envs/global/lib/python3.6/site-packages/IPython/core/interactiveshell.py:3051: DtypeWarning: Columns (16,17,19,20,142) have mixed types.Specify dtype option on import or set low_memory=False.\n",
      "  interactivity=interactivity, compiler=compiler, result=result)\n"
     ]
    }
   ],
   "source": [
    "df_met = pd.read_csv(\"../results/data/processed_hmf_escape_info.tsv.gz\",sep=\"\\t\")\n",
    "df_primary = pd.read_csv(\"../results/data//processed_pcawg_escape_info.tsv.gz\",sep=\"\\t\")\n",
    "df_meta = pd.read_csv(\"../metadata/dataset_metadata_supp_table3.tsv\",sep=\"\\t\")\n",
    "df_comb=pd.concat([df_primary,df_met])"
   ]
  },
  {
   "cell_type": "markdown",
   "metadata": {},
   "source": [
    "### Select only cancer types with >=15 samples"
   ]
  },
  {
   "cell_type": "code",
   "execution_count": 6,
   "metadata": {},
   "outputs": [],
   "source": [
    "x=df_comb[\"cancer_type_code\"].value_counts()\n",
    "ttypes_selected=x[x>15].index"
   ]
  },
  {
   "cell_type": "code",
   "execution_count": 7,
   "metadata": {},
   "outputs": [],
   "source": [
    "def perform_fisher_exact_test(df_comb,column_query,column_dependent,threshold_min=0):\n",
    "    l=[]\n",
    "    for ttype,v in df_comb[(df_comb[column_query])&(df_comb[\"cancer_type_code\"].isin(ttypes_selected))][\"cancer_type_code\"].value_counts().items():\n",
    "        if v >= threshold_min:\n",
    "            \n",
    "            samples_t = list(df_comb[(df_comb[column_query])&(df_comb[\"cancer_type_code\"]==ttype)][\"sample_id\"].values)\n",
    "            samples_nt = list(df_comb[(~df_comb[column_query])&(df_comb[\"cancer_type_code\"]==ttype)][\"sample_id\"].values)\n",
    "            # enrichment\n",
    "            a=df_comb[(df_comb[\"sample_id\"].isin(samples_t))&(df_comb[column_dependent])].shape[0]\n",
    "            b=df_comb[(df_comb[\"sample_id\"].isin(samples_t))&(~df_comb[column_dependent])].shape[0]\n",
    "            \n",
    "            c=df_comb[(df_comb[\"sample_id\"].isin(samples_nt))&(df_comb[column_dependent])].shape[0]\n",
    "            d=df_comb[(df_comb[\"sample_id\"].isin(samples_nt))&(~df_comb[column_dependent])].shape[0]\n",
    "            o,p=scipy.stats.fisher_exact([[a,b],[c,d]],alternative=\"two-sided\")\n",
    "            if np.isfinite(p):\n",
    "                l.append([ttype,len(samples_t),len(samples_nt),a,b,c,d,np.log2(o),p])\n",
    "    df_t =pd.DataFrame(l,columns=[\"ttype\",\"n_samples_group\",\"n_samples_no_group\",\"a\",\"b\",\"c\",\"d\",\"odds\",\"pvalue\"]).drop_duplicates()\n",
    "    df_t[\"qvalue\"]=mne.stats.fdr_correction(df_t[\"pvalue\"])[1]\n",
    "    df_t[\"column\"] = column_query\n",
    "    df_t[\"variable_dependent\"] = column_dependent\n",
    "    return df_t\n",
    "\n"
   ]
  },
  {
   "cell_type": "markdown",
   "metadata": {},
   "source": [
    "### Load dependent variables"
   ]
  },
  {
   "cell_type": "code",
   "execution_count": 8,
   "metadata": {},
   "outputs": [],
   "source": [
    "df_d = pd.read_csv(\"../results/data/features_correlation/randomized_escape_for_features.tsv.gz\",sep=\"\\t\")\n",
    "df_d1 = pd.read_csv(\"../results/data/features_correlation/escape_for_features.tsv\",sep=\"\\t\")"
   ]
  },
  {
   "cell_type": "markdown",
   "metadata": {},
   "source": [
    "# HLA-I supertypes"
   ]
  },
  {
   "cell_type": "code",
   "execution_count": 13,
   "metadata": {},
   "outputs": [
    {
     "name": "stderr",
     "output_type": "stream",
     "text": [
      "/home/fran/miniconda3/envs/global/lib/python3.6/site-packages/ipykernel_launcher.py:16: RuntimeWarning: divide by zero encountered in log2\n",
      "  app.launch_new_instance()\n"
     ]
    }
   ],
   "source": [
    "df_sts = pd.read_csv(\"../results/data/features_correlation/supertypes_per_sample.tsv\",sep=\"\\t\").merge(df_d).merge(df_d1)\n",
    "supertypes=[st for st in df_sts.columns.values if \"_st\" in st and st[0] in [\"A\",\"B\",\"C\"]  ]\n",
    "l,l1=[],[]\n",
    "for x in [\"selected_genetic_immune_escape\",\"excluding_loh_hla\"]:\n",
    "    for st in supertypes:\n",
    "        l.append(perform_fisher_exact_test(df_sts,st,x,threshold_min=50))\n",
    "df_sts_discrete=pd.concat(l)\n",
    "for st in supertypes:\n",
    "    for c in list(df_d.columns.values[101:301]):\n",
    "        l1.append(perform_fisher_exact_test(df_sts,st,c,threshold_min=50))\n",
    "df_sts_discrete_control=pd.concat(l1)"
   ]
  },
  {
   "cell_type": "code",
   "execution_count": 14,
   "metadata": {},
   "outputs": [],
   "source": [
    "df_sts_discrete.to_csv(\"../results/data/results_feature_correlation/supertypes_analysis_results.tsv\",sep=\"\\t\",index=False)\n",
    "df_sts_discrete_control.to_csv(\"../results/data/results_feature_correlation/supertypes_analysis_results_control.tsv\",sep=\"\\t\",index=False)"
   ]
  },
  {
   "cell_type": "markdown",
   "metadata": {},
   "source": [
    "# Viral DNA insertion"
   ]
  },
  {
   "cell_type": "code",
   "execution_count": 15,
   "metadata": {},
   "outputs": [
    {
     "name": "stderr",
     "output_type": "stream",
     "text": [
      "/home/fran/miniconda3/envs/global/lib/python3.6/site-packages/ipykernel_launcher.py:16: RuntimeWarning: divide by zero encountered in log2\n",
      "  app.launch_new_instance()\n"
     ]
    }
   ],
   "source": [
    "df_viral=pd.read_csv(\"../results/data/features_correlation/sample_specific_info_viral_integration.tsv\",sep=\"\\t\").merge(df_d1).merge(df_d)\n",
    "l=[]\n",
    "for x in [\"selected_genetic_immune_escape\",\"excluding_loh_hla\"]:\n",
    "    l.append(perform_fisher_exact_test(df_viral,\"viral_insertion\",x,threshold_min=5))\n",
    "df_viral_test = pd.concat(l)\n",
    "l1=[]\n",
    "for c in list(df_d.columns.values[101:301]):\n",
    "    l1.append(perform_fisher_exact_test(df_viral,\"viral_insertion\",c,threshold_min=5))\n",
    "df_viral_test_control=pd.concat(l1)\n",
    "\n"
   ]
  },
  {
   "cell_type": "code",
   "execution_count": 16,
   "metadata": {},
   "outputs": [],
   "source": [
    "df_viral_test.to_csv(\"../results/data/results_feature_correlation/viral_analysis_results.tsv\",sep=\"\\t\",index=False)\n",
    "df_viral_test_control.to_csv(\"../results/data/results_feature_correlation/viral_analysis_results_control.tsv\",sep=\"\\t\",index=False)"
   ]
  },
  {
   "cell_type": "markdown",
   "metadata": {},
   "source": [
    "# MSI"
   ]
  },
  {
   "cell_type": "code",
   "execution_count": 17,
   "metadata": {},
   "outputs": [],
   "source": [
    "df_msi=df_comb[[\"sample_id\",\"msi_status\",\"cancer_type_code\"]].merge(df_d1).merge(df_d)\n",
    "df_msi[\"is_msi\"] = df_msi[\"msi_status\"] == \"MSI\"\n",
    "l=[]\n",
    "for x in [\"selected_genetic_immune_escape\",\"excluding_loh_hla\"]:\n",
    "    l.append(perform_fisher_exact_test(df_msi,\"is_msi\",x,threshold_min=5))\n",
    "df_msi_discrete=pd.concat(l)"
   ]
  },
  {
   "cell_type": "code",
   "execution_count": 18,
   "metadata": {},
   "outputs": [
    {
     "name": "stderr",
     "output_type": "stream",
     "text": [
      "/home/fran/miniconda3/envs/global/lib/python3.6/site-packages/ipykernel_launcher.py:16: RuntimeWarning: divide by zero encountered in log2\n",
      "  app.launch_new_instance()\n"
     ]
    }
   ],
   "source": [
    "l1=[]\n",
    "for c in list(df_d.columns.values[101:301]):\n",
    "    l1.append(perform_fisher_exact_test(df_msi,\"is_msi\",c,threshold_min=5))\n",
    "df_msi_discrete_control=pd.concat(l1)"
   ]
  },
  {
   "cell_type": "code",
   "execution_count": 19,
   "metadata": {},
   "outputs": [],
   "source": [
    "df_msi_discrete.to_csv(\"../results/data/results_feature_correlation/msi_analysis_results.tsv\",sep=\"\\t\",index=False)\n",
    "df_msi_discrete_control.to_csv(\"../results/data/results_feature_correlation/msi_analysis_results_control.tsv\",sep=\"\\t\",index=False)"
   ]
  },
  {
   "cell_type": "markdown",
   "metadata": {},
   "source": [
    "# HRD"
   ]
  },
  {
   "cell_type": "code",
   "execution_count": 20,
   "metadata": {},
   "outputs": [
    {
     "name": "stdout",
     "output_type": "stream",
     "text": [
      "6319\n"
     ]
    },
    {
     "name": "stderr",
     "output_type": "stream",
     "text": [
      "/home/fran/miniconda3/envs/global/lib/python3.6/site-packages/ipykernel_launcher.py:16: RuntimeWarning: divide by zero encountered in log2\n",
      "  app.launch_new_instance()\n"
     ]
    }
   ],
   "source": [
    "df_hrd=df_comb[[\"sample_id\",\"hr_status\",\"cancer_type_code\"]].merge(df_d1).merge(df_d)\n",
    "df_hrd[\"is_hrd\"] = df_hrd[\"hr_status\"] == \"HR_deficient\"\n",
    "print (df_msi.shape[0])\n",
    "l=[]\n",
    "for x in [\"selected_genetic_immune_escape\",\"excluding_loh_hla\",]:\n",
    "    l.append(perform_fisher_exact_test(df_hrd,\"is_hrd\",x,threshold_min=5))\n",
    "df_hrd_discrete=pd.concat(l)"
   ]
  },
  {
   "cell_type": "code",
   "execution_count": 21,
   "metadata": {},
   "outputs": [
    {
     "name": "stderr",
     "output_type": "stream",
     "text": [
      "/home/fran/miniconda3/envs/global/lib/python3.6/site-packages/ipykernel_launcher.py:16: RuntimeWarning: divide by zero encountered in log2\n",
      "  app.launch_new_instance()\n"
     ]
    }
   ],
   "source": [
    "l1=[]\n",
    "for c in list(df_d.columns.values[101:301]):\n",
    "    l1.append(perform_fisher_exact_test(df_hrd,\"is_hrd\",c,threshold_min=5))\n",
    "df_hrd_discrete_control=pd.concat(l1)"
   ]
  },
  {
   "cell_type": "code",
   "execution_count": 22,
   "metadata": {},
   "outputs": [],
   "source": [
    "df_hrd_discrete.to_csv(\"../results/data/results_feature_correlation/hrd_analysis_results.tsv\",sep=\"\\t\",index=False)\n",
    "df_hrd_discrete_control.to_csv(\"../results/data/results_feature_correlation/hrd_analysis_results_control.tsv\",sep=\"\\t\",index=False)"
   ]
  },
  {
   "cell_type": "markdown",
   "metadata": {},
   "source": [
    "# Whole-genome duplication"
   ]
  },
  {
   "cell_type": "code",
   "execution_count": 23,
   "metadata": {},
   "outputs": [
    {
     "name": "stderr",
     "output_type": "stream",
     "text": [
      "/home/fran/miniconda3/envs/global/lib/python3.6/site-packages/ipykernel_launcher.py:16: RuntimeWarning: divide by zero encountered in log2\n",
      "  app.launch_new_instance()\n"
     ]
    }
   ],
   "source": [
    "df_wgd=df_comb[[\"sample_id\",\"whole_genome_duplication\",\"cancer_type_code\"]].merge(df_d1).merge(df_d)\n",
    "l=[]\n",
    "for x in [\"selected_genetic_immune_escape\",\"excluding_loh_hla\"]:\n",
    "    l.append(perform_fisher_exact_test(df_wgd,\"whole_genome_duplication\",x,threshold_min=5))\n",
    "df_wgd_discrete=pd.concat(l)\n",
    "\n"
   ]
  },
  {
   "cell_type": "code",
   "execution_count": 24,
   "metadata": {},
   "outputs": [
    {
     "name": "stderr",
     "output_type": "stream",
     "text": [
      "/home/fran/miniconda3/envs/global/lib/python3.6/site-packages/ipykernel_launcher.py:16: RuntimeWarning: divide by zero encountered in log2\n",
      "  app.launch_new_instance()\n"
     ]
    }
   ],
   "source": [
    "l1=[]\n",
    "for c in list(df_d.columns.values[101:301]):\n",
    "    l1.append(perform_fisher_exact_test(df_wgd,\"whole_genome_duplication\",c,threshold_min=5))\n",
    "df_wgd_discrete_control=pd.concat(l1)"
   ]
  },
  {
   "cell_type": "code",
   "execution_count": 25,
   "metadata": {},
   "outputs": [],
   "source": [
    "df_wgd_discrete.to_csv(\"../results/data/results_feature_correlation/wgd_analysis_results.tsv\",sep=\"\\t\",index=False)\n",
    "df_wgd_discrete_control.to_csv(\"../results/data/results_feature_correlation/wgd_analysis_results_control.tsv\",sep=\"\\t\",index=False)"
   ]
  },
  {
   "cell_type": "markdown",
   "metadata": {},
   "source": [
    "### Pre-treatment"
   ]
  },
  {
   "cell_type": "code",
   "execution_count": 26,
   "metadata": {},
   "outputs": [
    {
     "data": {
      "text/plain": [
       "(2212, 153)"
      ]
     },
     "execution_count": 26,
     "metadata": {},
     "output_type": "execute_result"
    }
   ],
   "source": [
    "df_comb[(df_comb[\"cohort\"]==\"Hartwig\")&(pd.isna(df_comb[\"had_chemotherapy\"]))].shape"
   ]
  },
  {
   "cell_type": "code",
   "execution_count": 27,
   "metadata": {},
   "outputs": [
    {
     "name": "stderr",
     "output_type": "stream",
     "text": [
      "/home/fran/miniconda3/envs/global/lib/python3.6/site-packages/ipykernel_launcher.py:16: RuntimeWarning: divide by zero encountered in log2\n",
      "  app.launch_new_instance()\n"
     ]
    }
   ],
   "source": [
    "df_pret=df_comb[(df_comb[\"cohort\"]==\"Hartwig\")&(~pd.isna(df_comb[\"had_chemotherapy\"]))][[\"sample_id\",\"had_chemotherapy\",\"had_hormone_therapy\",\"had_immunotherapy\",\"had_targeted_therapy\",\"cancer_type_code\"]].merge(df_d1).merge(df_d).fillna(False)\n",
    "l=[]\n",
    "for c in [\"had_chemotherapy\",\"had_hormone_therapy\",\"had_immunotherapy\",\"had_targeted_therapy\"]:\n",
    "    for x in [\"selected_genetic_immune_escape\",\"excluding_loh_hla\"]:\n",
    "        l.append(perform_fisher_exact_test(df_pret,c,x,threshold_min=5))\n",
    "df_pret=df_comb[(df_comb[\"cohort\"]==\"Hartwig\")&(~pd.isna(df_comb[\"had_radiotherapy\"]))][[\"sample_id\",\"had_radiotherapy\",\"cancer_type_code\"]].merge(df_d1).merge(df_d).fillna(False)\n",
    "\n",
    "for c in [\"had_radiotherapy\"]:\n",
    "    for x in [\"selected_genetic_immune_escape\",\"excluding_loh_hla\"]:\n",
    "        l.append(perform_fisher_exact_test(df_pret,c,x,threshold_min=5))\n",
    "        \n",
    "\n",
    "df_pret_discrete = pd.concat(l)"
   ]
  },
  {
   "cell_type": "code",
   "execution_count": 39,
   "metadata": {},
   "outputs": [
    {
     "name": "stderr",
     "output_type": "stream",
     "text": [
      "/home/fran/miniconda3/envs/global/lib/python3.6/site-packages/ipykernel_launcher.py:16: RuntimeWarning: divide by zero encountered in log2\n",
      "  app.launch_new_instance()\n"
     ]
    }
   ],
   "source": [
    "df_pret=df_comb[(df_comb[\"cohort\"]==\"Hartwig\")&(~pd.isna(df_comb[\"had_chemotherapy\"]))][[\"sample_id\",\"had_chemotherapy\",\"had_hormone_therapy\",\"had_immunotherapy\",\"had_targeted_therapy\",\"cancer_type_code\"]].merge(df_d1).merge(df_d).fillna(False)\n",
    "l1=[]\n",
    "for c in [\"had_chemotherapy\",\"had_hormone_therapy\",\"had_immunotherapy\",\"had_targeted_therapy\"]:\n",
    "    for x in list(df_d.columns.values[101:301]):\n",
    "        l1.append(perform_fisher_exact_test(df_pret,c,x,threshold_min=5))\n",
    "df_pret=df_comb[(df_comb[\"cohort\"]==\"Hartwig\")&(~pd.isna(df_comb[\"had_radiotherapy\"]))][[\"sample_id\",\"had_radiotherapy\",\"cancer_type_code\"]].merge(df_d1).merge(df_d).fillna(False)\n",
    "\n",
    "for c in [\"had_radiotherapy\"]:\n",
    "    for x in list(df_d.columns.values[101:301]):\n",
    "        l1.append(perform_fisher_exact_test(df_pret,c,x,threshold_min=5))\n",
    "        \n",
    "\n",
    "df_pret_discrete_control = pd.concat(l1)"
   ]
  },
  {
   "cell_type": "code",
   "execution_count": 40,
   "metadata": {},
   "outputs": [],
   "source": [
    "df_pret_discrete.to_csv(\"../results/data/results_feature_correlation/pretreatment_analysis_results.tsv\",sep=\"\\t\",index=False)\n",
    "df_pret_discrete_control.to_csv(\"../results/data/results_feature_correlation/pretreatment_analysis_results_control.tsv\",sep=\"\\t\",index=False)"
   ]
  },
  {
   "cell_type": "code",
   "execution_count": null,
   "metadata": {},
   "outputs": [],
   "source": []
  }
 ],
 "metadata": {
  "kernelspec": {
   "display_name": "Python 3",
   "language": "python",
   "name": "python3"
  },
  "language_info": {
   "codemirror_mode": {
    "name": "ipython",
    "version": 3
   },
   "file_extension": ".py",
   "mimetype": "text/x-python",
   "name": "python",
   "nbconvert_exporter": "python",
   "pygments_lexer": "ipython3",
   "version": "3.6.9"
  },
  "widgets": {
   "application/vnd.jupyter.widget-state+json": {
    "state": {},
    "version_major": 2,
    "version_minor": 0
   }
  }
 },
 "nbformat": 4,
 "nbformat_minor": 4
}
