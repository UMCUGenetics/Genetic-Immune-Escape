{
 "cells": [
  {
   "cell_type": "code",
   "execution_count": 3,
   "metadata": {},
   "outputs": [],
   "source": [
    "import os \n",
    "import pandas as pd\n",
    "    \n",
    "import json\n",
    "from tqdm import tqdm\n",
    "import seaborn as sns\n",
    "import matplotlib.pyplot as plt\n",
    "import numpy as np\n",
    "import glob\n",
    "import allel\n",
    "import itertools\n",
    "from matplotlib import gridspec\n",
    "import matplotlib.pyplot as plt\n",
    "import pickle\n",
    "from statannot import add_stat_annotation\n",
    "from scipy import stats\n",
    "import matplotlib.cm as cm\n",
    "import matplotlib\n",
    "\n",
    "from math import pi\n",
    "import scipy\n",
    "\n",
    "import matplotlib.patches as mpatches\n",
    "import statsmodels.stats as sts_m\n",
    "import mne\n",
    "import statsmodels.api as sm\n",
    "from tqdm import tqdm"
   ]
  },
  {
   "cell_type": "code",
   "execution_count": 4,
   "metadata": {},
   "outputs": [],
   "source": [
    "pd.options.display.max_columns=200\n",
    "pd.options.display.max_rows=100\n",
    "from pandas.core.common import SettingWithCopyWarning\n",
    "import warnings\n",
    "warnings.simplefilter(action=\"ignore\", category=SettingWithCopyWarning)"
   ]
  },
  {
   "cell_type": "code",
   "execution_count": 9,
   "metadata": {},
   "outputs": [
    {
     "name": "stderr",
     "output_type": "stream",
     "text": [
      "/home/fran/miniconda3/envs/global/lib/python3.6/site-packages/IPython/core/interactiveshell.py:3051: DtypeWarning: Columns (16,17,19,20,142) have mixed types.Specify dtype option on import or set low_memory=False.\n",
      "  interactivity=interactivity, compiler=compiler, result=result)\n"
     ]
    }
   ],
   "source": [
    "df_met = pd.read_csv(\"../results/data/processed_hmf_escape_info.tsv.gz\",sep=\"\\t\")\n",
    "df_primary = pd.read_csv(\"../results/data//processed_pcawg_escape_info.tsv.gz\",sep=\"\\t\")\n",
    "df_meta = pd.read_csv(\"../metadata/dataset_metadata_supp_table3.tsv\",sep=\"\\t\")\n",
    "df_meta=df_meta[df_meta[\"is_selected\"]==True]"
   ]
  },
  {
   "cell_type": "markdown",
   "metadata": {},
   "source": [
    "# Prepare mutational signature count"
   ]
  },
  {
   "cell_type": "markdown",
   "metadata": {},
   "source": [
    "### Get mutational signatures\n",
    "\n",
    "--- Please read method's section to now how we obtained the exposure of mutational signatures per sample"
   ]
  },
  {
   "cell_type": "code",
   "execution_count": 6,
   "metadata": {},
   "outputs": [
    {
     "name": "stdout",
     "output_type": "stream",
     "text": [
      "-rw-r--r-- 1 11837 532 7869 sep  3 08:27 /home/fran/Documents/cuppen/HPC/tunnel//cuppen/projects/P0025_PCAWG_HMF/passengers/processed/sigs_denovo/extractions/11_immune_escape/sig_contrib/fit_lsq.post_processed/sig_metadata.post_processed.txt.gz\n"
     ]
    }
   ],
   "source": [
    "!ls -all /home/fran/Documents/cuppen/HPC/tunnel//cuppen/projects/P0025_PCAWG_HMF/passengers/processed/sigs_denovo/extractions/11_immune_escape/sig_contrib/fit_lsq.post_processed/sig_metadata.post_processed.txt.gz "
   ]
  },
  {
   "cell_type": "code",
   "execution_count": 7,
   "metadata": {},
   "outputs": [],
   "source": [
    "!cp /home/fran/Documents/cuppen/HPC/tunnel//cuppen/projects/P0025_PCAWG_HMF/passengers/processed/sigs_denovo/extractions/11_immune_escape/sig_contrib/fit_lsq.post_processed/denovo_contribs.lsq.post_processed.txt.gz ../results/data/\n",
    "!cp /home/fran/Documents/cuppen/HPC/tunnel//cuppen/projects/P0025_PCAWG_HMF/passengers/processed/sigs_denovo/extractions/11_immune_escape/sig_contrib/fit_lsq.post_processed/sig_metadata.post_processed.with_etiologies.txt.gz ../results/data/"
   ]
  },
  {
   "cell_type": "code",
   "execution_count": 10,
   "metadata": {},
   "outputs": [],
   "source": [
    "filein=\"../results/data/denovo_contribs.lsq.post_processed.txt.gz\"\n",
    "df_total = pd.read_csv(filein,sep=\"\\t\")\n",
    "df_total = df_total.reset_index().rename(columns={\"index\":\"sample_id\"}).merge(df_meta[[\"sample_id\",\"sample_id_2\",\"cohort\"]])\n",
    "df_total[\"sample_id\"] = df_total.apply(lambda r: r[\"sample_id_2\"] if r[\"cohort\"] == \"Hartwig\" else r[\"sample_id\"],axis=1)\n",
    "df_total.set_index(\"sample_id\",inplace=True)\n",
    "df_total=df_total.drop([\"sample_id_2\",\"cohort\"],axis=1).fillna(0.0).T\n",
    "# read also metadata of mutational signatures\n",
    "sbs_info = pd.read_csv(\"../results/data/sig_metadata.post_processed.with_etiologies.txt.gz\",sep=\"\\t\")\n",
    "# match it with the raw contributions\n",
    "df_total = df_total.reset_index().rename(columns={\"index\":\"sig_name\"}).merge(sbs_info[[\"sig_name\",\"etiology\",\"mut_type\"]].drop_duplicates()).set_index([\"mut_type\",\"etiology\",\"sig_name\"])\n",
    "df_total.to_csv(\"../results/data/features_correlation/mutational_signatures_exposure.tsv\",sep=\"\\t\",index=True)"
   ]
  },
  {
   "cell_type": "markdown",
   "metadata": {},
   "source": [
    "# Retrieve neoepitopes counts per sample"
   ]
  },
  {
   "cell_type": "markdown",
   "metadata": {},
   "source": [
    "##### aux functions"
   ]
  },
  {
   "cell_type": "code",
   "execution_count": 11,
   "metadata": {},
   "outputs": [],
   "source": [
    "def count_unique(grp):\n",
    "    return len(set(grp))\n",
    "def get_neo_count(sample):\n",
    "    return pd.Series([total_neo.get(sample,0),clonal_neos.get(sample,0),subclonal_neos.get(sample,0),fusion.get(sample,0),non_fusion.get(sample,0)])"
   ]
  },
  {
   "cell_type": "markdown",
   "metadata": {},
   "source": [
    "### Hartwig"
   ]
  },
  {
   "cell_type": "code",
   "execution_count": 11,
   "metadata": {},
   "outputs": [],
   "source": [
    "df_neo = pd.read_csv(\"/home/fran/Documents/cuppen/HPC/tunnel//cuppen/projects/P0020_genetics_immune_escape/large_scale_primary_met/analysis/results/neopeptides/report_neoepitopes_hmf.tsv.gz\",sep=\"\\t\")\n",
    "df_neo=df_neo[(df_neo[\"LikelihoodRank\"]<0.02)&(df_neo[\"ExpLikelihoodRank\"]<0.02)]\n",
    "\n",
    "total_neo=df_neo.groupby(\"SampleId\").agg({\"Peptide\":count_unique}).to_dict()[\"Peptide\"]\n",
    "clonal_neos = df_neo[df_neo[\"clonal\"]==True].groupby(\"SampleId\").agg({\"Peptide\":count_unique}).to_dict()[\"Peptide\"]\n",
    "subclonal_neos = df_neo[df_neo[\"clonal\"]==False].groupby(\"SampleId\").agg({\"Peptide\":count_unique}).to_dict()[\"Peptide\"]\n",
    "fusion = df_neo[df_neo[\"VarType\"].str.contains(\"FUSION\")].groupby(\"SampleId\").agg({\"Peptide\":count_unique}).to_dict()[\"Peptide\"]\n",
    "non_fusion = df_neo[~df_neo[\"VarType\"].str.contains(\"FUSION\")].groupby(\"SampleId\").agg({\"Peptide\":count_unique}).to_dict()[\"Peptide\"]\n",
    "\n",
    "df_met[[\"total_neo\",\"clonal_neo\",\"subclonal_neo\",\"fusion_neo\",\"mut_neo\"]] = df_met.apply(lambda row: get_neo_count(row[\"sample_id\"]),axis=1)\n",
    "\n"
   ]
  },
  {
   "cell_type": "markdown",
   "metadata": {},
   "source": [
    "### PCAWG"
   ]
  },
  {
   "cell_type": "code",
   "execution_count": 13,
   "metadata": {},
   "outputs": [
    {
     "name": "stderr",
     "output_type": "stream",
     "text": [
      "/home/fran/miniconda3/envs/global/lib/python3.6/site-packages/IPython/core/interactiveshell.py:3051: DtypeWarning: Columns (31,32,33,34,35,37) have mixed types.Specify dtype option on import or set low_memory=False.\n",
      "  interactivity=interactivity, compiler=compiler, result=result)\n"
     ]
    }
   ],
   "source": [
    "df_neo = pd.read_csv(\"/home/fran/Documents/cuppen/HPC/tunnel//cuppen/projects/P0020_genetics_immune_escape/large_scale_primary_met/analysis/results/neopeptides/report_neoepitopes_pcawg.tsv.gz\",sep=\"\\t\")\n",
    "df_neo=df_neo[(df_neo[\"LikelihoodRank\"]<0.02)&(df_neo[\"ExpLikelihoodRank\"]<0.02)]\n",
    "\n",
    "total_neo=df_neo.groupby(\"SampleId\").agg({\"Peptide\":count_unique}).to_dict()[\"Peptide\"]\n",
    "clonal_neos = df_neo[df_neo[\"clonal\"]==True].groupby(\"SampleId\").agg({\"Peptide\":count_unique}).to_dict()[\"Peptide\"]\n",
    "subclonal_neos = df_neo[df_neo[\"clonal\"]==False].groupby(\"SampleId\").agg({\"Peptide\":count_unique}).to_dict()[\"Peptide\"]\n",
    "fusion = df_neo[df_neo[\"VarType\"].str.contains(\"FUSION\")].groupby(\"SampleId\").agg({\"Peptide\":count_unique}).to_dict()[\"Peptide\"]\n",
    "non_fusion = df_neo[~df_neo[\"VarType\"].str.contains(\"FUSION\")].groupby(\"SampleId\").agg({\"Peptide\":count_unique}).to_dict()[\"Peptide\"]\n",
    "\n",
    "df_primary[[\"total_neo\",\"clonal_neo\",\"subclonal_neo\",\"fusion_neo\",\"mut_neo\"]] = df_primary.apply(lambda row: get_neo_count(row[\"sample_id\"]+\"T\"),axis=1)\n",
    "\n"
   ]
  },
  {
   "cell_type": "markdown",
   "metadata": {},
   "source": [
    "### Save sample-specific TMB information"
   ]
  },
  {
   "cell_type": "code",
   "execution_count": null,
   "metadata": {},
   "outputs": [],
   "source": [
    "columns_tmb = [\"smnv_load\",\"frameshift\",\"missense\",\"svTumorMutationalBurden\",\"sbs_load.clonal\",\"sbs_load.subclonal\",\"dbs_load.clonal\",\"dbs_load.subclonal\",\"indel_load.clonal\",\"indel_load.subclonal\",\"total_fusions\",\"total_neo\",\"clonal_neo\",\"subclonal_neo\",\"fusion_neo\",\"mut_neo\"]\n",
    "df_comb = pd.concat([df_met[[\"cancer_type\",\"cancer_type_code\",\"sample_id\",\"cohort\",\"sample_id_2\"]+columns_tmb],df_primary[[\"cancer_type\",\"cancer_type_code\",\"sample_id\",\"cohort\",\"sample_id_2\"]+columns_tmb]])\n",
    "df_comb.fillna({\"sbs_load.subclonal\":0.0,\"sbs_load.clonal\":0.0,\"dbs_load.clonal\":0.0,\"dbs_load.subclonal\":0.0,\"indel_load.clonal\":0.0,\"indel_load.subclonal\":0.0},inplace=True)\n",
    "df_comb[\"clonal_tmb\"] = df_comb[\"sbs_load.clonal\"] + df_comb[\"dbs_load.clonal\"] + df_comb[\"indel_load.clonal\"]\n",
    "df_comb[\"subclonal_tmb\"] = df_comb[\"sbs_load.subclonal\"] + df_comb[\"dbs_load.subclonal\"] + df_comb[\"indel_load.subclonal\"]\n",
    "df_comb[\"snvs\"] = df_comb[\"sbs_load.clonal\"] + df_comb[\"sbs_load.subclonal\"] \n",
    "df_comb[\"indels\"] = df_comb[\"indel_load.clonal\"] + df_comb[\"indel_load.subclonal\"] \n",
    "df_comb[\"dbs\"] = df_comb[\"dbs_load.clonal\"] + df_comb[\"dbs_load.subclonal\"] \n",
    "\n",
    "columns_tmb+=[\"clonal_tmb\",\"subclonal_tmb\",\"snvs\",\"indels\",\"dbs\"]\n"
   ]
  },
  {
   "cell_type": "code",
   "execution_count": 189,
   "metadata": {},
   "outputs": [],
   "source": [
    "df_comb[\"sample_id_2\"] = df_comb.apply(lambda r: r[\"sample_id_2\"] if r[\"cohort\"] == \"Hartwig\" else r[\"sample_id\"],axis=1)\n",
    "df_comb.to_csv(\"../results/data/features_correlation/sample_specific_info_tmb_full_data.tsv\",sep=\"\\t\",index=False)"
   ]
  },
  {
   "cell_type": "markdown",
   "metadata": {},
   "source": [
    "# Collect categorical information"
   ]
  },
  {
   "cell_type": "markdown",
   "metadata": {},
   "source": [
    "### Virus DNA integration"
   ]
  },
  {
   "cell_type": "markdown",
   "metadata": {},
   "source": [
    "##### Hartwig"
   ]
  },
  {
   "cell_type": "code",
   "execution_count": 26,
   "metadata": {},
   "outputs": [
    {
     "name": "stderr",
     "output_type": "stream",
     "text": [
      "100%|██████████| 4440/4440 [17:43<00:00,  4.18it/s]\n"
     ]
    }
   ],
   "source": [
    "pairs = df_met[\"sample_id\"].values.tolist()\n",
    "d_virus = {}\n",
    "for sample_id in tqdm(pairs):\n",
    "    filein=f\"/home/fran/Documents/cuppen/HPC/tunnel/cuppen/shared_resources/HMF_data/DR-104-update4/somatics/{sample_id}/linx/{sample_id}.linx.viral_inserts.tsv\"\n",
    "    if not(os.path.exists(filein)):\n",
    "        continue\n",
    "    df_t = pd.read_csv(filein,sep=\"\\t\")\n",
    "    donor = os.path.basename(filein).split(\".\")[0]\n",
    "    if df_t.shape[0] >0:\n",
    "        d_virus[sample_id] = list(df_t[\"VirusName\"].unique())\n",
    "        "
   ]
  },
  {
   "cell_type": "code",
   "execution_count": 28,
   "metadata": {},
   "outputs": [],
   "source": [
    "df_met[\"viral_insertion\"] = df_met.apply(lambda row: row[\"sample_id\"] in d_virus ,axis=1)\n",
    "df_met[\"viral_insertion_genus\"] = df_met.apply(lambda row: \",\".join(d_virus[row[\"sample_id\"]]) if row[\"viral_insertion\"] else \"\",axis=1)"
   ]
  },
  {
   "cell_type": "markdown",
   "metadata": {},
   "source": [
    "##### PCAWG"
   ]
  },
  {
   "cell_type": "code",
   "execution_count": 30,
   "metadata": {},
   "outputs": [
    {
     "name": "stderr",
     "output_type": "stream",
     "text": [
      "100%|██████████| 1880/1880 [07:37<00:00,  4.11it/s]\n"
     ]
    }
   ],
   "source": [
    "pairs = df_primary[\"sample_id\"]\n",
    "for donor in tqdm(pairs):\n",
    "    filein=f\"/home/fran/Documents/cuppen/HPC/tunnel/cuppen/shared_resources/PCAWG/pipeline5/per-donor/{donor}-from-jar/linxsoft1.17/{donor}T.linx.viral_inserts.tsv\"\n",
    "    if not(os.path.exists(filein)):\n",
    "        continue\n",
    "    df_t = pd.read_csv(filein,sep=\"\\t\")\n",
    "    donor = os.path.basename(filein).split(\".\")[0]\n",
    "    if df_t.shape[0] >0:\n",
    "        d_virus[donor] = list(df_t[\"VirusName\"].unique())\n",
    "        "
   ]
  },
  {
   "cell_type": "code",
   "execution_count": 31,
   "metadata": {},
   "outputs": [],
   "source": [
    "df_primary[\"viral_insertion\"] = df_primary.apply(lambda row: row[\"sample_id\"]+\"T\" in d_virus ,axis=1)\n",
    "df_primary[\"viral_insertion_genus\"] = df_primary.apply(lambda row: \",\".join(d_virus[row[\"sample_id\"]+\"T\"]) if row[\"viral_insertion\"] else \"\",axis=1)"
   ]
  },
  {
   "cell_type": "code",
   "execution_count": 226,
   "metadata": {},
   "outputs": [],
   "source": [
    "df_comb = pd.concat([df_met[[\"cancer_type\",\"cancer_type_code\",\"sample_id\",\"cohort\",\"sample_id_2\"]+[\"viral_insertion\",\"viral_insertion_genus\"]],df_primary[[\"cancer_type\",\"cancer_type_code\",\"sample_id\",\"cohort\",\"sample_id_2\"]+[\"viral_insertion\",\"viral_insertion_genus\"]]])\n",
    "df_comb[\"sample_id_2\"] = df_comb.apply(lambda r: r[\"sample_id_2\"] if r[\"cohort\"] == \"Hartwig\" else r[\"sample_id\"],axis=1)\n",
    "df_comb.to_csv(\"../results/data/features_correlation/sample_specific_info_viral_integration.tsv\",sep=\"\\t\",index=False)"
   ]
  },
  {
   "cell_type": "code",
   "execution_count": 13,
   "metadata": {},
   "outputs": [],
   "source": [
    "!libreoffice ../results/data/features_correlation/sample_specific_info_viral_integration.tsv"
   ]
  },
  {
   "cell_type": "markdown",
   "metadata": {},
   "source": [
    "### HLA-I supertypes"
   ]
  },
  {
   "cell_type": "code",
   "execution_count": 14,
   "metadata": {},
   "outputs": [],
   "source": [
    "import json\n",
    "\n",
    "with open(\"../metadata/external/supertypes_updated.json\") as f: # HLA-I supertypes\n",
    "    d_st = json.load(f)\n",
    "sts=set(d_st.values()) - set([\"Unclassified\"])\n",
    "df_comb = pd.concat([df_met[[\"cancer_type\",\"cancer_type_code\",\"sample_id\",\"cohort\",\"sample_id_2\"]+[\"A1\",\"A2\",\"B1\",\"B2\",\"C1\",\"C2\"]],df_primary[[\"cancer_type\",\"cancer_type_code\",\"sample_id\",\"cohort\",\"sample_id_2\"]+[\"A1\",\"A2\",\"B1\",\"B2\",\"C1\",\"C2\"]]])"
   ]
  },
  {
   "cell_type": "code",
   "execution_count": 15,
   "metadata": {},
   "outputs": [],
   "source": [
    "def check_alleles(row,supertype):\n",
    "\n",
    "    for v in [\"A1\",\"A2\",\"B1\",\"B2\",\"C1\",\"C2\"]:\n",
    "        \n",
    "        t=\"HLA_\"+row[v].replace(\"*\",\"\").replace(\":\",\"_\")\n",
    "        \n",
    "        if t in d_st and d_st[t] == supertype:\n",
    "            return True\n",
    "    return False\n",
    "for k in sts:\n",
    "    df_comb[k+\"_st\"] = df_comb.apply(lambda row: check_alleles(row,k),axis=1)\n",
    "df_comb = df_comb.merge(df_meta[[\"sample_id\",\"sample_id_2\",\"cohort\"]])\n",
    "df_comb[\"sample_id\"] = df_comb.apply(lambda r: r[\"sample_id_2\"] if r[\"cohort\"] == \"Hartwig\" else r[\"sample_id\"],axis=1)\n",
    "df_comb.to_csv(\"../results/data/features_correlation/supertypes_per_sample.tsv\",sep=\"\\t\",index=False)"
   ]
  },
  {
   "cell_type": "markdown",
   "metadata": {},
   "source": [
    "# Get age"
   ]
  },
  {
   "cell_type": "markdown",
   "metadata": {},
   "source": [
    "##### Hartwig"
   ]
  },
  {
   "cell_type": "code",
   "execution_count": 16,
   "metadata": {},
   "outputs": [],
   "source": [
    "df_age_hmf = pd.read_csv(\"/home/fran/Documents/cuppen/HPC/tunnel//cuppen/shared_resources/HMF_data/DR-104-update4/metadata_2021/metadata.tsv\",sep=\"\\t\")\n",
    "df_age_hmf[\"age_biopsy\"] = df_age_hmf.apply(lambda row:  int(row[\"biopsyDate\"].split(\"-\")[0]) - int(row[\"birthYear\"])  if (\"-\" in str(row[\"biopsyDate\"])) and not(np.isnan(float(row[\"birthYear\"]))) else np.nan,axis=1)"
   ]
  },
  {
   "cell_type": "markdown",
   "metadata": {},
   "source": [
    "##### PCAWG"
   ]
  },
  {
   "cell_type": "code",
   "execution_count": 17,
   "metadata": {},
   "outputs": [],
   "source": [
    "df_age_pcawg = pd.read_excel(\"/home/fran/Documents/cuppen/HPC/tunnel//cuppen/projects/P0025_PCAWG_HMF/drivers/analysis/dna-rep-ann/final-update/external-files/pcawg-clinical-metadata-20211112.xlsx\")"
   ]
  },
  {
   "cell_type": "code",
   "execution_count": 18,
   "metadata": {},
   "outputs": [],
   "source": [
    "df_comb = pd.concat([df_age_hmf[[\"sampleId\",\"age_biopsy\"]].rename(columns={\"sampleId\":\"sample_id\",\"age_biopsy\":\"age\"}),df_age_pcawg[[\"icgc_donor_id\",\"donor_age_at_diagnosis\"]].rename(columns={\"icgc_donor_id\":\"sample_id\",\"donor_age_at_diagnosis\":\"age\"})])\n",
    "df_comb = df_comb.merge(df_meta[df_meta[\"is_selected\"]==True])\n",
    "df_comb[~np.isnan(df_comb[\"age\"])].to_csv(\"../results/data/features_correlation/age_cohort_features.tsv\",sep=\"\\t\",index=False)"
   ]
  },
  {
   "cell_type": "markdown",
   "metadata": {},
   "source": [
    "# Immune infiltration"
   ]
  },
  {
   "cell_type": "code",
   "execution_count": 19,
   "metadata": {},
   "outputs": [
    {
     "name": "stdout",
     "output_type": "stream",
     "text": [
      "6319\n"
     ]
    }
   ],
   "source": [
    "columns_infiltration=['nk', 'infiltration_davoli', 'cd4_davoli',\n",
    "       'cd8_davoli', 't_cell_grasso',\"ifn-gamma\"]\n",
    "df_comb = pd.concat([df_met[[\"cancer_type\",\"cancer_type_code\",\"sample_id\",\"cohort\",\"sample_id_2\"]+columns_infiltration],df_primary[[\"cancer_type\",\"cancer_type_code\",\"sample_id\",\"cohort\",\"sample_id_2\"]+columns_infiltration]])\n",
    "print (df_comb.shape[0])\n",
    "df_comb = df_comb[np.isfinite(df_comb[\"nk\"])] # only samples with known infiltration\n",
    "df_comb[\"sample_id_2\"] = df_comb.apply(lambda r: r[\"sample_id_2\"] if r[\"cohort\"] == \"Hartwig\" else r[\"sample_id\"],axis=1)\n",
    "df_comb.to_csv(\"../results/data/features_correlation/immune_infiltration_stats.tsv\",sep=\"\\t\",index=False)"
   ]
  },
  {
   "cell_type": "markdown",
   "metadata": {},
   "source": [
    "# Save information of GIE status also for randomized variables "
   ]
  },
  {
   "cell_type": "code",
   "execution_count": 20,
   "metadata": {},
   "outputs": [],
   "source": [
    "df_comb = pd.concat([df_primary,df_met])\n",
    "df_comb[\"selected_genetic_immune_escape\"]=df_comb[\"non_targeted_escape\"] | (df_comb[\"loh_lilac\"] & (df_comb[\"loh_focal\"].str.contains(\"HLA\") | df_comb[\"loh_hfocal\"].str.contains(\"HLA\"))  ) | (df_comb[\"mut_hla_lilac\"]) | (df_comb[\"del_HLA-A\"]==1) | (df_comb[\"del_HLA-B\"]==1) | (df_comb[\"del_HLA-C\"]==1)\n",
    "df_comb[\"selected_genetic_immune_escape_hfocal\"]=df_comb[\"non_targeted_escape\"] | (df_comb[\"loh_lilac\"] & (df_comb[\"loh_hfocal\"].str.contains(\"HLA\"))  ) | (df_comb[\"mut_hla_lilac\"]) | (df_comb[\"del_HLA-A\"]==1) | (df_comb[\"del_HLA-B\"]==1) | (df_comb[\"del_HLA-C\"]==1)\n",
    "df_comb[\"loh_focal\"] = (df_comb[\"loh_lilac\"]) & (df_comb[\"loh_focal\"].str.contains(\"HLA\"))\n",
    "df_comb[\"excluding_loh_hla\"] = df_comb[\"non_targeted_escape\"] |  (df_comb[\"mut_hla_lilac\"]) | (df_comb[\"del_HLA-A\"]==1) | (df_comb[\"del_HLA-B\"]==1) | (df_comb[\"del_HLA-C\"]==1)\n",
    "df_comb.shape\n",
    "df_comb[\"sample_id_2\"] = df_comb.apply(lambda r: r[\"sample_id_2\"] if r[\"cohort\"] == \"Hartwig\" else r[\"sample_id\"],axis=1)\n",
    "df_comb[[\"sample_id\",\"sample_id_2\",\"selected_genetic_immune_escape\",\"genetic_immune_escape\",\"loh_lilac\",\"excluding_loh_hla\",\"selected_genetic_immune_escape_hfocal\"]].to_csv(\"../results/data/features_correlation/escape_for_features.tsv\",sep=\"\\t\",index=False)"
   ]
  },
  {
   "cell_type": "code",
   "execution_count": 21,
   "metadata": {},
   "outputs": [
    {
     "data": {
      "text/plain": [
       "(6319, 157)"
      ]
     },
     "execution_count": 21,
     "metadata": {},
     "output_type": "execute_result"
    }
   ],
   "source": [
    "df_comb.shape"
   ]
  },
  {
   "cell_type": "markdown",
   "metadata": {},
   "source": [
    "### Read background "
   ]
  },
  {
   "cell_type": "markdown",
   "metadata": {},
   "source": [
    "##### Hartwig"
   ]
  },
  {
   "cell_type": "code",
   "execution_count": 22,
   "metadata": {},
   "outputs": [],
   "source": [
    "df_hmf_background = pd.read_csv(\"../results/data/hmf_randomized_genes_background_processed.tsv.gz\",sep=\"\\t\")\n",
    "for i in range(100):\n",
    "    df_hmf_background[\"background_genetic_immune_escape\"+f\"_{i}\"]=df_hmf_background[f\"non_targeted_escape_{i}\"] | df_hmf_background[f\"HLA-I_deepdel_{i}\"] | (df_hmf_background[f\"HLA-I_loh_{i}\"] & (df_hmf_background[f\"HLA-I_loh_focal_{i}\"] | df_hmf_background[f\"HLA-I_loh_hfocal_{i}\"])) | df_hmf_background[f\"HLA-I_mut_{i}\"]\n",
    "    df_hmf_background[\"background_genetic_immune_escape_hfocal\"+f\"_{i}\"]=df_hmf_background[f\"non_targeted_escape_{i}\"] | df_hmf_background[f\"HLA-I_deepdel_{i}\"] | (df_hmf_background[f\"HLA-I_loh_{i}\"] & (df_hmf_background[f\"HLA-I_loh_hfocal_{i}\"])) | df_hmf_background[f\"HLA-I_mut_{i}\"]\n",
    "    df_hmf_background[\"excluding_lohhla\"+f\"_{i}\"]=df_hmf_background[f\"non_targeted_escape_{i}\"] | df_hmf_background[f\"HLA-I_deepdel_{i}\"] |  df_hmf_background[f\"HLA-I_mut_{i}\"]\n",
    "    "
   ]
  },
  {
   "cell_type": "markdown",
   "metadata": {},
   "source": [
    "##### PCAWG"
   ]
  },
  {
   "cell_type": "code",
   "execution_count": 23,
   "metadata": {},
   "outputs": [],
   "source": [
    "df_pcawg_background = pd.read_csv(\"../results/data/pcawg_randomized_genes_background_processed.tsv.gz\",sep=\"\\t\")\n",
    "for i in range(100):\n",
    "    df_pcawg_background[\"background_genetic_immune_escape\"+f\"_{i}\"]=df_pcawg_background[f\"non_targeted_escape_{i}\"] | df_pcawg_background[f\"HLA-I_deepdel_{i}\"] | (df_pcawg_background[f\"HLA-I_loh_{i}\"] & (df_pcawg_background[f\"HLA-I_loh_focal_{i}\"] | df_pcawg_background[f\"HLA-I_loh_hfocal_{i}\"])) | df_pcawg_background[f\"HLA-I_mut_{i}\"]\n",
    "    df_pcawg_background[\"background_genetic_immune_escape_hfocal\"+f\"_{i}\"]=df_pcawg_background[f\"non_targeted_escape_{i}\"] | df_pcawg_background[f\"HLA-I_deepdel_{i}\"] | (df_pcawg_background[f\"HLA-I_loh_{i}\"] & (df_pcawg_background[f\"HLA-I_loh_hfocal_{i}\"])) | df_pcawg_background[f\"HLA-I_mut_{i}\"]\n",
    "    df_pcawg_background[\"excluding_lohhla\"+f\"_{i}\"]=df_pcawg_background[f\"non_targeted_escape_{i}\"] | df_pcawg_background[f\"HLA-I_deepdel_{i}\"] |  df_pcawg_background[f\"HLA-I_mut_{i}\"]"
   ]
  },
  {
   "cell_type": "code",
   "execution_count": 24,
   "metadata": {},
   "outputs": [],
   "source": [
    "columns=[\"sample_id\"]+[ \"background_genetic_immune_escape\"+f\"_{i}\" for i in range(100)] +  [\"genetic_immune_escape\"+f\"_{i}\" for i in range(100)] + [f\"excluding_lohhla_{i}\" for i in range(100)]  + [ \"background_genetic_immune_escape_hfocal\"+f\"_{i}\" for i in range(100)] \n",
    "df_c = pd.concat([df_hmf_background[columns],df_pcawg_background[columns]])"
   ]
  },
  {
   "cell_type": "code",
   "execution_count": 25,
   "metadata": {},
   "outputs": [],
   "source": [
    "df_c.to_csv(\"../results/data/features_correlation/randomized_escape_for_features.tsv.gz\",sep=\"\\t\",index=False)"
   ]
  },
  {
   "cell_type": "code",
   "execution_count": 26,
   "metadata": {},
   "outputs": [
    {
     "data": {
      "text/plain": [
       "(6319, 401)"
      ]
     },
     "execution_count": 26,
     "metadata": {},
     "output_type": "execute_result"
    }
   ],
   "source": [
    "df_c.shape"
   ]
  },
  {
   "cell_type": "code",
   "execution_count": null,
   "metadata": {},
   "outputs": [],
   "source": []
  }
 ],
 "metadata": {
  "kernelspec": {
   "display_name": "Python 3",
   "language": "python",
   "name": "python3"
  },
  "language_info": {
   "codemirror_mode": {
    "name": "ipython",
    "version": 3
   },
   "file_extension": ".py",
   "mimetype": "text/x-python",
   "name": "python",
   "nbconvert_exporter": "python",
   "pygments_lexer": "ipython3",
   "version": "3.6.9"
  },
  "widgets": {
   "application/vnd.jupyter.widget-state+json": {
    "state": {},
    "version_major": 2,
    "version_minor": 0
   }
  }
 },
 "nbformat": 4,
 "nbformat_minor": 4
}
